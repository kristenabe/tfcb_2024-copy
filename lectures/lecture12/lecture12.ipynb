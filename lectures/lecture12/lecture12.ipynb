{
 "cells": [
  {
   "cell_type": "markdown",
   "metadata": {},
   "source": [
    "# Lecture 12: Working with tabular data using `R` and `tidyverse`\n",
    "\n",
    "Matthew Chan\n",
    "\n",
    "To interactively work with the code below, open [lecture12.ipynb](./lecture12.ipynb) in VSCode. Make sure to select the `kernel` for `R` so that you can execute `R` code. You should have already set this up following the software installation instructions [here](../../software/README.md)."
   ]
  },
  {
   "cell_type": "markdown",
   "metadata": {},
   "source": [
    "`R` is the second programming language after `Python` that we will learn in this course. We will use `R` over the next 5 lectures.\n",
    "\n",
    "`R` is particularly well suited for reading, manipulating, and visualizing data in tabular and biological sequence formats. \n",
    "Many statistical tests are also available out of the box in `R`."
   ]
  },
  {
   "cell_type": "markdown",
   "metadata": {},
   "source": [
    "While \"base\" `R` is used widely, I almost exclusively use `R` for its two excellent package collections:\n",
    "\n",
    "1. [Tidyverse](https://www.tidyverse.org/) - suited for tabular data\n",
    "2. [Bioconductor](https://www.bioconductor.org/) - suited for biology-aware analyses"
   ]
  },
  {
   "cell_type": "markdown",
   "metadata": {},
   "source": [
    "Today we will learn a few basic functions from `tidyverse` for working with tabular data.\n",
    "\n",
    "Unlike `pandas` which is a single package with lot of functionality, `tidyverse` is a collection of packages that are focused on specific tasks.\n",
    "\n",
    "1. [ggplot2](https://ggplot2.tidyverse.org/) - for plotting data\n",
    "2. [dplyr](https://dplyr.tidyverse.org/) - for filtering, aggregating, and transforming data\n",
    "3. [readr](https://readr.tidyverse.org/) - for reading and writing data\n",
    "4. [tidyr](https://tidyr.tidyverse.org/) - for cleaning and transforming data\n",
    "5. [stringr](https://stringr.tidyverse.org/) - for manipulating strings\n",
    "6. [purrr](https://purrr.tidyverse.org/) - for manipulating lists of R objects\n",
    "7. [forcats](https://forcats.tidyverse.org/) - for manipulating categorical data"
   ]
  },
  {
   "cell_type": "markdown",
   "metadata": {},
   "source": [
    "You can load all the above packages in one go:"
   ]
  },
  {
   "cell_type": "code",
   "execution_count": 2,
   "metadata": {
    "vscode": {
     "languageId": "r"
    }
   },
   "outputs": [
    {
     "name": "stderr",
     "output_type": "stream",
     "text": [
      "── \u001b[1mAttaching packages\u001b[22m ─────────────────────────────────────── tidyverse 1.3.1 ──\n",
      "\n",
      "\u001b[32m✔\u001b[39m \u001b[34mggplot2\u001b[39m 3.3.6     \u001b[32m✔\u001b[39m \u001b[34mpurrr  \u001b[39m 0.3.4\n",
      "\u001b[32m✔\u001b[39m \u001b[34mtibble \u001b[39m 3.1.7     \u001b[32m✔\u001b[39m \u001b[34mdplyr  \u001b[39m 1.0.9\n",
      "\u001b[32m✔\u001b[39m \u001b[34mtidyr  \u001b[39m 1.2.0     \u001b[32m✔\u001b[39m \u001b[34mstringr\u001b[39m 1.4.0\n",
      "\u001b[32m✔\u001b[39m \u001b[34mreadr  \u001b[39m 2.1.2     \u001b[32m✔\u001b[39m \u001b[34mforcats\u001b[39m 0.5.1\n",
      "\n",
      "── \u001b[1mConflicts\u001b[22m ────────────────────────────────────────── tidyverse_conflicts() ──\n",
      "\u001b[31m✖\u001b[39m \u001b[34mdplyr\u001b[39m::\u001b[32mfilter()\u001b[39m masks \u001b[34mstats\u001b[39m::filter()\n",
      "\u001b[31m✖\u001b[39m \u001b[34mdplyr\u001b[39m::\u001b[32mlag()\u001b[39m    masks \u001b[34mstats\u001b[39m::lag()\n",
      "\n"
     ]
    }
   ],
   "source": [
    "library(tidyverse)"
   ]
  },
  {
   "cell_type": "markdown",
   "metadata": {},
   "source": [
    "# 1. First look into `R`"
   ]
  },
  {
   "cell_type": "markdown",
   "metadata": {},
   "source": [
    "## Assigning variables\n",
    "\n",
    "In `R`, the ` <- ` assignment operator is equivalent to the ` = ` assignment operator and can be used interchangeably. However, using the ` <- ` operator is more conventional."
   ]
  },
  {
   "cell_type": "code",
   "execution_count": 3,
   "metadata": {
    "vscode": {
     "languageId": "r"
    }
   },
   "outputs": [
    {
     "data": {
      "text/html": [
       "12"
      ],
      "text/latex": [
       "12"
      ],
      "text/markdown": [
       "12"
      ],
      "text/plain": [
       "[1] 12"
      ]
     },
     "metadata": {},
     "output_type": "display_data"
    }
   ],
   "source": [
    "apple = 5\n",
    "pear = 7\n",
    "\n",
    "apple + pear"
   ]
  },
  {
   "cell_type": "code",
   "execution_count": 4,
   "metadata": {
    "vscode": {
     "languageId": "r"
    }
   },
   "outputs": [],
   "source": [
    "name = \"Kristen\""
   ]
  },
  {
   "cell_type": "markdown",
   "metadata": {},
   "source": [
    "## Import a dataset"
   ]
  },
  {
   "cell_type": "code",
   "execution_count": 5,
   "metadata": {
    "vscode": {
     "languageId": "r"
    }
   },
   "outputs": [
    {
     "name": "stderr",
     "output_type": "stream",
     "text": [
      "\u001b[1mRows: \u001b[22m\u001b[34m344\u001b[39m \u001b[1mColumns: \u001b[22m\u001b[34m9\u001b[39m\n",
      "\u001b[36m──\u001b[39m \u001b[1mColumn specification\u001b[22m \u001b[36m────────────────────────────────────────────────────────\u001b[39m\n",
      "\u001b[1mDelimiter:\u001b[22m \",\"\n",
      "\u001b[31mchr\u001b[39m (3): species, island, sex\n",
      "\u001b[32mdbl\u001b[39m (6): rowid, bill_length_mm, bill_depth_mm, flipper_length_mm, body_mass_...\n",
      "\n",
      "\u001b[36mℹ\u001b[39m Use `spec()` to retrieve the full column specification for this data.\n",
      "\u001b[36mℹ\u001b[39m Specify the column types or set `show_col_types = FALSE` to quiet this message.\n"
     ]
    },
    {
     "data": {
      "text/html": [
       "<table class=\"dataframe\">\n",
       "<caption>A spec_tbl_df: 344 × 9</caption>\n",
       "<thead>\n",
       "\t<tr><th scope=col>rowid</th><th scope=col>species</th><th scope=col>island</th><th scope=col>bill_length_mm</th><th scope=col>bill_depth_mm</th><th scope=col>flipper_length_mm</th><th scope=col>body_mass_g</th><th scope=col>sex</th><th scope=col>year</th></tr>\n",
       "\t<tr><th scope=col>&lt;dbl&gt;</th><th scope=col>&lt;chr&gt;</th><th scope=col>&lt;chr&gt;</th><th scope=col>&lt;dbl&gt;</th><th scope=col>&lt;dbl&gt;</th><th scope=col>&lt;dbl&gt;</th><th scope=col>&lt;dbl&gt;</th><th scope=col>&lt;chr&gt;</th><th scope=col>&lt;dbl&gt;</th></tr>\n",
       "</thead>\n",
       "<tbody>\n",
       "\t<tr><td> 1</td><td>Adelie</td><td>Torgersen</td><td>39.1</td><td>18.7</td><td>181</td><td>3750</td><td>male  </td><td>2007</td></tr>\n",
       "\t<tr><td> 2</td><td>Adelie</td><td>Torgersen</td><td>39.5</td><td>17.4</td><td>186</td><td>3800</td><td>female</td><td>2007</td></tr>\n",
       "\t<tr><td> 3</td><td>Adelie</td><td>Torgersen</td><td>40.3</td><td>18.0</td><td>195</td><td>3250</td><td>female</td><td>2007</td></tr>\n",
       "\t<tr><td> 4</td><td>Adelie</td><td>Torgersen</td><td>  NA</td><td>  NA</td><td> NA</td><td>  NA</td><td>NA    </td><td>2007</td></tr>\n",
       "\t<tr><td> 5</td><td>Adelie</td><td>Torgersen</td><td>36.7</td><td>19.3</td><td>193</td><td>3450</td><td>female</td><td>2007</td></tr>\n",
       "\t<tr><td> 6</td><td>Adelie</td><td>Torgersen</td><td>39.3</td><td>20.6</td><td>190</td><td>3650</td><td>male  </td><td>2007</td></tr>\n",
       "\t<tr><td> 7</td><td>Adelie</td><td>Torgersen</td><td>38.9</td><td>17.8</td><td>181</td><td>3625</td><td>female</td><td>2007</td></tr>\n",
       "\t<tr><td> 8</td><td>Adelie</td><td>Torgersen</td><td>39.2</td><td>19.6</td><td>195</td><td>4675</td><td>male  </td><td>2007</td></tr>\n",
       "\t<tr><td> 9</td><td>Adelie</td><td>Torgersen</td><td>34.1</td><td>18.1</td><td>193</td><td>3475</td><td>NA    </td><td>2007</td></tr>\n",
       "\t<tr><td>10</td><td>Adelie</td><td>Torgersen</td><td>42.0</td><td>20.2</td><td>190</td><td>4250</td><td>NA    </td><td>2007</td></tr>\n",
       "\t<tr><td>11</td><td>Adelie</td><td>Torgersen</td><td>37.8</td><td>17.1</td><td>186</td><td>3300</td><td>NA    </td><td>2007</td></tr>\n",
       "\t<tr><td>12</td><td>Adelie</td><td>Torgersen</td><td>37.8</td><td>17.3</td><td>180</td><td>3700</td><td>NA    </td><td>2007</td></tr>\n",
       "\t<tr><td>13</td><td>Adelie</td><td>Torgersen</td><td>41.1</td><td>17.6</td><td>182</td><td>3200</td><td>female</td><td>2007</td></tr>\n",
       "\t<tr><td>14</td><td>Adelie</td><td>Torgersen</td><td>38.6</td><td>21.2</td><td>191</td><td>3800</td><td>male  </td><td>2007</td></tr>\n",
       "\t<tr><td>15</td><td>Adelie</td><td>Torgersen</td><td>34.6</td><td>21.1</td><td>198</td><td>4400</td><td>male  </td><td>2007</td></tr>\n",
       "\t<tr><td>16</td><td>Adelie</td><td>Torgersen</td><td>36.6</td><td>17.8</td><td>185</td><td>3700</td><td>female</td><td>2007</td></tr>\n",
       "\t<tr><td>17</td><td>Adelie</td><td>Torgersen</td><td>38.7</td><td>19.0</td><td>195</td><td>3450</td><td>female</td><td>2007</td></tr>\n",
       "\t<tr><td>18</td><td>Adelie</td><td>Torgersen</td><td>42.5</td><td>20.7</td><td>197</td><td>4500</td><td>male  </td><td>2007</td></tr>\n",
       "\t<tr><td>19</td><td>Adelie</td><td>Torgersen</td><td>34.4</td><td>18.4</td><td>184</td><td>3325</td><td>female</td><td>2007</td></tr>\n",
       "\t<tr><td>20</td><td>Adelie</td><td>Torgersen</td><td>46.0</td><td>21.5</td><td>194</td><td>4200</td><td>male  </td><td>2007</td></tr>\n",
       "\t<tr><td>21</td><td>Adelie</td><td>Biscoe   </td><td>37.8</td><td>18.3</td><td>174</td><td>3400</td><td>female</td><td>2007</td></tr>\n",
       "\t<tr><td>22</td><td>Adelie</td><td>Biscoe   </td><td>37.7</td><td>18.7</td><td>180</td><td>3600</td><td>male  </td><td>2007</td></tr>\n",
       "\t<tr><td>23</td><td>Adelie</td><td>Biscoe   </td><td>35.9</td><td>19.2</td><td>189</td><td>3800</td><td>female</td><td>2007</td></tr>\n",
       "\t<tr><td>24</td><td>Adelie</td><td>Biscoe   </td><td>38.2</td><td>18.1</td><td>185</td><td>3950</td><td>male  </td><td>2007</td></tr>\n",
       "\t<tr><td>25</td><td>Adelie</td><td>Biscoe   </td><td>38.8</td><td>17.2</td><td>180</td><td>3800</td><td>male  </td><td>2007</td></tr>\n",
       "\t<tr><td>26</td><td>Adelie</td><td>Biscoe   </td><td>35.3</td><td>18.9</td><td>187</td><td>3800</td><td>female</td><td>2007</td></tr>\n",
       "\t<tr><td>27</td><td>Adelie</td><td>Biscoe   </td><td>40.6</td><td>18.6</td><td>183</td><td>3550</td><td>male  </td><td>2007</td></tr>\n",
       "\t<tr><td>28</td><td>Adelie</td><td>Biscoe   </td><td>40.5</td><td>17.9</td><td>187</td><td>3200</td><td>female</td><td>2007</td></tr>\n",
       "\t<tr><td>29</td><td>Adelie</td><td>Biscoe   </td><td>37.9</td><td>18.6</td><td>172</td><td>3150</td><td>female</td><td>2007</td></tr>\n",
       "\t<tr><td>30</td><td>Adelie</td><td>Biscoe   </td><td>40.5</td><td>18.9</td><td>180</td><td>3950</td><td>male  </td><td>2007</td></tr>\n",
       "\t<tr><td>⋮</td><td>⋮</td><td>⋮</td><td>⋮</td><td>⋮</td><td>⋮</td><td>⋮</td><td>⋮</td><td>⋮</td></tr>\n",
       "\t<tr><td>315</td><td>Chinstrap</td><td>Dream</td><td>46.9</td><td>16.6</td><td>192</td><td>2700</td><td>female</td><td>2008</td></tr>\n",
       "\t<tr><td>316</td><td>Chinstrap</td><td>Dream</td><td>53.5</td><td>19.9</td><td>205</td><td>4500</td><td>male  </td><td>2008</td></tr>\n",
       "\t<tr><td>317</td><td>Chinstrap</td><td>Dream</td><td>49.0</td><td>19.5</td><td>210</td><td>3950</td><td>male  </td><td>2008</td></tr>\n",
       "\t<tr><td>318</td><td>Chinstrap</td><td>Dream</td><td>46.2</td><td>17.5</td><td>187</td><td>3650</td><td>female</td><td>2008</td></tr>\n",
       "\t<tr><td>319</td><td>Chinstrap</td><td>Dream</td><td>50.9</td><td>19.1</td><td>196</td><td>3550</td><td>male  </td><td>2008</td></tr>\n",
       "\t<tr><td>320</td><td>Chinstrap</td><td>Dream</td><td>45.5</td><td>17.0</td><td>196</td><td>3500</td><td>female</td><td>2008</td></tr>\n",
       "\t<tr><td>321</td><td>Chinstrap</td><td>Dream</td><td>50.9</td><td>17.9</td><td>196</td><td>3675</td><td>female</td><td>2009</td></tr>\n",
       "\t<tr><td>322</td><td>Chinstrap</td><td>Dream</td><td>50.8</td><td>18.5</td><td>201</td><td>4450</td><td>male  </td><td>2009</td></tr>\n",
       "\t<tr><td>323</td><td>Chinstrap</td><td>Dream</td><td>50.1</td><td>17.9</td><td>190</td><td>3400</td><td>female</td><td>2009</td></tr>\n",
       "\t<tr><td>324</td><td>Chinstrap</td><td>Dream</td><td>49.0</td><td>19.6</td><td>212</td><td>4300</td><td>male  </td><td>2009</td></tr>\n",
       "\t<tr><td>325</td><td>Chinstrap</td><td>Dream</td><td>51.5</td><td>18.7</td><td>187</td><td>3250</td><td>male  </td><td>2009</td></tr>\n",
       "\t<tr><td>326</td><td>Chinstrap</td><td>Dream</td><td>49.8</td><td>17.3</td><td>198</td><td>3675</td><td>female</td><td>2009</td></tr>\n",
       "\t<tr><td>327</td><td>Chinstrap</td><td>Dream</td><td>48.1</td><td>16.4</td><td>199</td><td>3325</td><td>female</td><td>2009</td></tr>\n",
       "\t<tr><td>328</td><td>Chinstrap</td><td>Dream</td><td>51.4</td><td>19.0</td><td>201</td><td>3950</td><td>male  </td><td>2009</td></tr>\n",
       "\t<tr><td>329</td><td>Chinstrap</td><td>Dream</td><td>45.7</td><td>17.3</td><td>193</td><td>3600</td><td>female</td><td>2009</td></tr>\n",
       "\t<tr><td>330</td><td>Chinstrap</td><td>Dream</td><td>50.7</td><td>19.7</td><td>203</td><td>4050</td><td>male  </td><td>2009</td></tr>\n",
       "\t<tr><td>331</td><td>Chinstrap</td><td>Dream</td><td>42.5</td><td>17.3</td><td>187</td><td>3350</td><td>female</td><td>2009</td></tr>\n",
       "\t<tr><td>332</td><td>Chinstrap</td><td>Dream</td><td>52.2</td><td>18.8</td><td>197</td><td>3450</td><td>male  </td><td>2009</td></tr>\n",
       "\t<tr><td>333</td><td>Chinstrap</td><td>Dream</td><td>45.2</td><td>16.6</td><td>191</td><td>3250</td><td>female</td><td>2009</td></tr>\n",
       "\t<tr><td>334</td><td>Chinstrap</td><td>Dream</td><td>49.3</td><td>19.9</td><td>203</td><td>4050</td><td>male  </td><td>2009</td></tr>\n",
       "\t<tr><td>335</td><td>Chinstrap</td><td>Dream</td><td>50.2</td><td>18.8</td><td>202</td><td>3800</td><td>male  </td><td>2009</td></tr>\n",
       "\t<tr><td>336</td><td>Chinstrap</td><td>Dream</td><td>45.6</td><td>19.4</td><td>194</td><td>3525</td><td>female</td><td>2009</td></tr>\n",
       "\t<tr><td>337</td><td>Chinstrap</td><td>Dream</td><td>51.9</td><td>19.5</td><td>206</td><td>3950</td><td>male  </td><td>2009</td></tr>\n",
       "\t<tr><td>338</td><td>Chinstrap</td><td>Dream</td><td>46.8</td><td>16.5</td><td>189</td><td>3650</td><td>female</td><td>2009</td></tr>\n",
       "\t<tr><td>339</td><td>Chinstrap</td><td>Dream</td><td>45.7</td><td>17.0</td><td>195</td><td>3650</td><td>female</td><td>2009</td></tr>\n",
       "\t<tr><td>340</td><td>Chinstrap</td><td>Dream</td><td>55.8</td><td>19.8</td><td>207</td><td>4000</td><td>male  </td><td>2009</td></tr>\n",
       "\t<tr><td>341</td><td>Chinstrap</td><td>Dream</td><td>43.5</td><td>18.1</td><td>202</td><td>3400</td><td>female</td><td>2009</td></tr>\n",
       "\t<tr><td>342</td><td>Chinstrap</td><td>Dream</td><td>49.6</td><td>18.2</td><td>193</td><td>3775</td><td>male  </td><td>2009</td></tr>\n",
       "\t<tr><td>343</td><td>Chinstrap</td><td>Dream</td><td>50.8</td><td>19.0</td><td>210</td><td>4100</td><td>male  </td><td>2009</td></tr>\n",
       "\t<tr><td>344</td><td>Chinstrap</td><td>Dream</td><td>50.2</td><td>18.7</td><td>198</td><td>3775</td><td>female</td><td>2009</td></tr>\n",
       "</tbody>\n",
       "</table>\n"
      ],
      "text/latex": [
       "A spec\\_tbl\\_df: 344 × 9\n",
       "\\begin{tabular}{lllllllll}\n",
       " rowid & species & island & bill\\_length\\_mm & bill\\_depth\\_mm & flipper\\_length\\_mm & body\\_mass\\_g & sex & year\\\\\n",
       " <dbl> & <chr> & <chr> & <dbl> & <dbl> & <dbl> & <dbl> & <chr> & <dbl>\\\\\n",
       "\\hline\n",
       "\t  1 & Adelie & Torgersen & 39.1 & 18.7 & 181 & 3750 & male   & 2007\\\\\n",
       "\t  2 & Adelie & Torgersen & 39.5 & 17.4 & 186 & 3800 & female & 2007\\\\\n",
       "\t  3 & Adelie & Torgersen & 40.3 & 18.0 & 195 & 3250 & female & 2007\\\\\n",
       "\t  4 & Adelie & Torgersen &   NA &   NA &  NA &   NA & NA     & 2007\\\\\n",
       "\t  5 & Adelie & Torgersen & 36.7 & 19.3 & 193 & 3450 & female & 2007\\\\\n",
       "\t  6 & Adelie & Torgersen & 39.3 & 20.6 & 190 & 3650 & male   & 2007\\\\\n",
       "\t  7 & Adelie & Torgersen & 38.9 & 17.8 & 181 & 3625 & female & 2007\\\\\n",
       "\t  8 & Adelie & Torgersen & 39.2 & 19.6 & 195 & 4675 & male   & 2007\\\\\n",
       "\t  9 & Adelie & Torgersen & 34.1 & 18.1 & 193 & 3475 & NA     & 2007\\\\\n",
       "\t 10 & Adelie & Torgersen & 42.0 & 20.2 & 190 & 4250 & NA     & 2007\\\\\n",
       "\t 11 & Adelie & Torgersen & 37.8 & 17.1 & 186 & 3300 & NA     & 2007\\\\\n",
       "\t 12 & Adelie & Torgersen & 37.8 & 17.3 & 180 & 3700 & NA     & 2007\\\\\n",
       "\t 13 & Adelie & Torgersen & 41.1 & 17.6 & 182 & 3200 & female & 2007\\\\\n",
       "\t 14 & Adelie & Torgersen & 38.6 & 21.2 & 191 & 3800 & male   & 2007\\\\\n",
       "\t 15 & Adelie & Torgersen & 34.6 & 21.1 & 198 & 4400 & male   & 2007\\\\\n",
       "\t 16 & Adelie & Torgersen & 36.6 & 17.8 & 185 & 3700 & female & 2007\\\\\n",
       "\t 17 & Adelie & Torgersen & 38.7 & 19.0 & 195 & 3450 & female & 2007\\\\\n",
       "\t 18 & Adelie & Torgersen & 42.5 & 20.7 & 197 & 4500 & male   & 2007\\\\\n",
       "\t 19 & Adelie & Torgersen & 34.4 & 18.4 & 184 & 3325 & female & 2007\\\\\n",
       "\t 20 & Adelie & Torgersen & 46.0 & 21.5 & 194 & 4200 & male   & 2007\\\\\n",
       "\t 21 & Adelie & Biscoe    & 37.8 & 18.3 & 174 & 3400 & female & 2007\\\\\n",
       "\t 22 & Adelie & Biscoe    & 37.7 & 18.7 & 180 & 3600 & male   & 2007\\\\\n",
       "\t 23 & Adelie & Biscoe    & 35.9 & 19.2 & 189 & 3800 & female & 2007\\\\\n",
       "\t 24 & Adelie & Biscoe    & 38.2 & 18.1 & 185 & 3950 & male   & 2007\\\\\n",
       "\t 25 & Adelie & Biscoe    & 38.8 & 17.2 & 180 & 3800 & male   & 2007\\\\\n",
       "\t 26 & Adelie & Biscoe    & 35.3 & 18.9 & 187 & 3800 & female & 2007\\\\\n",
       "\t 27 & Adelie & Biscoe    & 40.6 & 18.6 & 183 & 3550 & male   & 2007\\\\\n",
       "\t 28 & Adelie & Biscoe    & 40.5 & 17.9 & 187 & 3200 & female & 2007\\\\\n",
       "\t 29 & Adelie & Biscoe    & 37.9 & 18.6 & 172 & 3150 & female & 2007\\\\\n",
       "\t 30 & Adelie & Biscoe    & 40.5 & 18.9 & 180 & 3950 & male   & 2007\\\\\n",
       "\t ⋮ & ⋮ & ⋮ & ⋮ & ⋮ & ⋮ & ⋮ & ⋮ & ⋮\\\\\n",
       "\t 315 & Chinstrap & Dream & 46.9 & 16.6 & 192 & 2700 & female & 2008\\\\\n",
       "\t 316 & Chinstrap & Dream & 53.5 & 19.9 & 205 & 4500 & male   & 2008\\\\\n",
       "\t 317 & Chinstrap & Dream & 49.0 & 19.5 & 210 & 3950 & male   & 2008\\\\\n",
       "\t 318 & Chinstrap & Dream & 46.2 & 17.5 & 187 & 3650 & female & 2008\\\\\n",
       "\t 319 & Chinstrap & Dream & 50.9 & 19.1 & 196 & 3550 & male   & 2008\\\\\n",
       "\t 320 & Chinstrap & Dream & 45.5 & 17.0 & 196 & 3500 & female & 2008\\\\\n",
       "\t 321 & Chinstrap & Dream & 50.9 & 17.9 & 196 & 3675 & female & 2009\\\\\n",
       "\t 322 & Chinstrap & Dream & 50.8 & 18.5 & 201 & 4450 & male   & 2009\\\\\n",
       "\t 323 & Chinstrap & Dream & 50.1 & 17.9 & 190 & 3400 & female & 2009\\\\\n",
       "\t 324 & Chinstrap & Dream & 49.0 & 19.6 & 212 & 4300 & male   & 2009\\\\\n",
       "\t 325 & Chinstrap & Dream & 51.5 & 18.7 & 187 & 3250 & male   & 2009\\\\\n",
       "\t 326 & Chinstrap & Dream & 49.8 & 17.3 & 198 & 3675 & female & 2009\\\\\n",
       "\t 327 & Chinstrap & Dream & 48.1 & 16.4 & 199 & 3325 & female & 2009\\\\\n",
       "\t 328 & Chinstrap & Dream & 51.4 & 19.0 & 201 & 3950 & male   & 2009\\\\\n",
       "\t 329 & Chinstrap & Dream & 45.7 & 17.3 & 193 & 3600 & female & 2009\\\\\n",
       "\t 330 & Chinstrap & Dream & 50.7 & 19.7 & 203 & 4050 & male   & 2009\\\\\n",
       "\t 331 & Chinstrap & Dream & 42.5 & 17.3 & 187 & 3350 & female & 2009\\\\\n",
       "\t 332 & Chinstrap & Dream & 52.2 & 18.8 & 197 & 3450 & male   & 2009\\\\\n",
       "\t 333 & Chinstrap & Dream & 45.2 & 16.6 & 191 & 3250 & female & 2009\\\\\n",
       "\t 334 & Chinstrap & Dream & 49.3 & 19.9 & 203 & 4050 & male   & 2009\\\\\n",
       "\t 335 & Chinstrap & Dream & 50.2 & 18.8 & 202 & 3800 & male   & 2009\\\\\n",
       "\t 336 & Chinstrap & Dream & 45.6 & 19.4 & 194 & 3525 & female & 2009\\\\\n",
       "\t 337 & Chinstrap & Dream & 51.9 & 19.5 & 206 & 3950 & male   & 2009\\\\\n",
       "\t 338 & Chinstrap & Dream & 46.8 & 16.5 & 189 & 3650 & female & 2009\\\\\n",
       "\t 339 & Chinstrap & Dream & 45.7 & 17.0 & 195 & 3650 & female & 2009\\\\\n",
       "\t 340 & Chinstrap & Dream & 55.8 & 19.8 & 207 & 4000 & male   & 2009\\\\\n",
       "\t 341 & Chinstrap & Dream & 43.5 & 18.1 & 202 & 3400 & female & 2009\\\\\n",
       "\t 342 & Chinstrap & Dream & 49.6 & 18.2 & 193 & 3775 & male   & 2009\\\\\n",
       "\t 343 & Chinstrap & Dream & 50.8 & 19.0 & 210 & 4100 & male   & 2009\\\\\n",
       "\t 344 & Chinstrap & Dream & 50.2 & 18.7 & 198 & 3775 & female & 2009\\\\\n",
       "\\end{tabular}\n"
      ],
      "text/markdown": [
       "\n",
       "A spec_tbl_df: 344 × 9\n",
       "\n",
       "| rowid &lt;dbl&gt; | species &lt;chr&gt; | island &lt;chr&gt; | bill_length_mm &lt;dbl&gt; | bill_depth_mm &lt;dbl&gt; | flipper_length_mm &lt;dbl&gt; | body_mass_g &lt;dbl&gt; | sex &lt;chr&gt; | year &lt;dbl&gt; |\n",
       "|---|---|---|---|---|---|---|---|---|\n",
       "|  1 | Adelie | Torgersen | 39.1 | 18.7 | 181 | 3750 | male   | 2007 |\n",
       "|  2 | Adelie | Torgersen | 39.5 | 17.4 | 186 | 3800 | female | 2007 |\n",
       "|  3 | Adelie | Torgersen | 40.3 | 18.0 | 195 | 3250 | female | 2007 |\n",
       "|  4 | Adelie | Torgersen |   NA |   NA |  NA |   NA | NA     | 2007 |\n",
       "|  5 | Adelie | Torgersen | 36.7 | 19.3 | 193 | 3450 | female | 2007 |\n",
       "|  6 | Adelie | Torgersen | 39.3 | 20.6 | 190 | 3650 | male   | 2007 |\n",
       "|  7 | Adelie | Torgersen | 38.9 | 17.8 | 181 | 3625 | female | 2007 |\n",
       "|  8 | Adelie | Torgersen | 39.2 | 19.6 | 195 | 4675 | male   | 2007 |\n",
       "|  9 | Adelie | Torgersen | 34.1 | 18.1 | 193 | 3475 | NA     | 2007 |\n",
       "| 10 | Adelie | Torgersen | 42.0 | 20.2 | 190 | 4250 | NA     | 2007 |\n",
       "| 11 | Adelie | Torgersen | 37.8 | 17.1 | 186 | 3300 | NA     | 2007 |\n",
       "| 12 | Adelie | Torgersen | 37.8 | 17.3 | 180 | 3700 | NA     | 2007 |\n",
       "| 13 | Adelie | Torgersen | 41.1 | 17.6 | 182 | 3200 | female | 2007 |\n",
       "| 14 | Adelie | Torgersen | 38.6 | 21.2 | 191 | 3800 | male   | 2007 |\n",
       "| 15 | Adelie | Torgersen | 34.6 | 21.1 | 198 | 4400 | male   | 2007 |\n",
       "| 16 | Adelie | Torgersen | 36.6 | 17.8 | 185 | 3700 | female | 2007 |\n",
       "| 17 | Adelie | Torgersen | 38.7 | 19.0 | 195 | 3450 | female | 2007 |\n",
       "| 18 | Adelie | Torgersen | 42.5 | 20.7 | 197 | 4500 | male   | 2007 |\n",
       "| 19 | Adelie | Torgersen | 34.4 | 18.4 | 184 | 3325 | female | 2007 |\n",
       "| 20 | Adelie | Torgersen | 46.0 | 21.5 | 194 | 4200 | male   | 2007 |\n",
       "| 21 | Adelie | Biscoe    | 37.8 | 18.3 | 174 | 3400 | female | 2007 |\n",
       "| 22 | Adelie | Biscoe    | 37.7 | 18.7 | 180 | 3600 | male   | 2007 |\n",
       "| 23 | Adelie | Biscoe    | 35.9 | 19.2 | 189 | 3800 | female | 2007 |\n",
       "| 24 | Adelie | Biscoe    | 38.2 | 18.1 | 185 | 3950 | male   | 2007 |\n",
       "| 25 | Adelie | Biscoe    | 38.8 | 17.2 | 180 | 3800 | male   | 2007 |\n",
       "| 26 | Adelie | Biscoe    | 35.3 | 18.9 | 187 | 3800 | female | 2007 |\n",
       "| 27 | Adelie | Biscoe    | 40.6 | 18.6 | 183 | 3550 | male   | 2007 |\n",
       "| 28 | Adelie | Biscoe    | 40.5 | 17.9 | 187 | 3200 | female | 2007 |\n",
       "| 29 | Adelie | Biscoe    | 37.9 | 18.6 | 172 | 3150 | female | 2007 |\n",
       "| 30 | Adelie | Biscoe    | 40.5 | 18.9 | 180 | 3950 | male   | 2007 |\n",
       "| ⋮ | ⋮ | ⋮ | ⋮ | ⋮ | ⋮ | ⋮ | ⋮ | ⋮ |\n",
       "| 315 | Chinstrap | Dream | 46.9 | 16.6 | 192 | 2700 | female | 2008 |\n",
       "| 316 | Chinstrap | Dream | 53.5 | 19.9 | 205 | 4500 | male   | 2008 |\n",
       "| 317 | Chinstrap | Dream | 49.0 | 19.5 | 210 | 3950 | male   | 2008 |\n",
       "| 318 | Chinstrap | Dream | 46.2 | 17.5 | 187 | 3650 | female | 2008 |\n",
       "| 319 | Chinstrap | Dream | 50.9 | 19.1 | 196 | 3550 | male   | 2008 |\n",
       "| 320 | Chinstrap | Dream | 45.5 | 17.0 | 196 | 3500 | female | 2008 |\n",
       "| 321 | Chinstrap | Dream | 50.9 | 17.9 | 196 | 3675 | female | 2009 |\n",
       "| 322 | Chinstrap | Dream | 50.8 | 18.5 | 201 | 4450 | male   | 2009 |\n",
       "| 323 | Chinstrap | Dream | 50.1 | 17.9 | 190 | 3400 | female | 2009 |\n",
       "| 324 | Chinstrap | Dream | 49.0 | 19.6 | 212 | 4300 | male   | 2009 |\n",
       "| 325 | Chinstrap | Dream | 51.5 | 18.7 | 187 | 3250 | male   | 2009 |\n",
       "| 326 | Chinstrap | Dream | 49.8 | 17.3 | 198 | 3675 | female | 2009 |\n",
       "| 327 | Chinstrap | Dream | 48.1 | 16.4 | 199 | 3325 | female | 2009 |\n",
       "| 328 | Chinstrap | Dream | 51.4 | 19.0 | 201 | 3950 | male   | 2009 |\n",
       "| 329 | Chinstrap | Dream | 45.7 | 17.3 | 193 | 3600 | female | 2009 |\n",
       "| 330 | Chinstrap | Dream | 50.7 | 19.7 | 203 | 4050 | male   | 2009 |\n",
       "| 331 | Chinstrap | Dream | 42.5 | 17.3 | 187 | 3350 | female | 2009 |\n",
       "| 332 | Chinstrap | Dream | 52.2 | 18.8 | 197 | 3450 | male   | 2009 |\n",
       "| 333 | Chinstrap | Dream | 45.2 | 16.6 | 191 | 3250 | female | 2009 |\n",
       "| 334 | Chinstrap | Dream | 49.3 | 19.9 | 203 | 4050 | male   | 2009 |\n",
       "| 335 | Chinstrap | Dream | 50.2 | 18.8 | 202 | 3800 | male   | 2009 |\n",
       "| 336 | Chinstrap | Dream | 45.6 | 19.4 | 194 | 3525 | female | 2009 |\n",
       "| 337 | Chinstrap | Dream | 51.9 | 19.5 | 206 | 3950 | male   | 2009 |\n",
       "| 338 | Chinstrap | Dream | 46.8 | 16.5 | 189 | 3650 | female | 2009 |\n",
       "| 339 | Chinstrap | Dream | 45.7 | 17.0 | 195 | 3650 | female | 2009 |\n",
       "| 340 | Chinstrap | Dream | 55.8 | 19.8 | 207 | 4000 | male   | 2009 |\n",
       "| 341 | Chinstrap | Dream | 43.5 | 18.1 | 202 | 3400 | female | 2009 |\n",
       "| 342 | Chinstrap | Dream | 49.6 | 18.2 | 193 | 3775 | male   | 2009 |\n",
       "| 343 | Chinstrap | Dream | 50.8 | 19.0 | 210 | 4100 | male   | 2009 |\n",
       "| 344 | Chinstrap | Dream | 50.2 | 18.7 | 198 | 3775 | female | 2009 |\n",
       "\n"
      ],
      "text/plain": [
       "    rowid species   island    bill_length_mm bill_depth_mm flipper_length_mm\n",
       "1    1    Adelie    Torgersen 39.1           18.7          181              \n",
       "2    2    Adelie    Torgersen 39.5           17.4          186              \n",
       "3    3    Adelie    Torgersen 40.3           18.0          195              \n",
       "4    4    Adelie    Torgersen   NA             NA           NA              \n",
       "5    5    Adelie    Torgersen 36.7           19.3          193              \n",
       "6    6    Adelie    Torgersen 39.3           20.6          190              \n",
       "7    7    Adelie    Torgersen 38.9           17.8          181              \n",
       "8    8    Adelie    Torgersen 39.2           19.6          195              \n",
       "9    9    Adelie    Torgersen 34.1           18.1          193              \n",
       "10  10    Adelie    Torgersen 42.0           20.2          190              \n",
       "11  11    Adelie    Torgersen 37.8           17.1          186              \n",
       "12  12    Adelie    Torgersen 37.8           17.3          180              \n",
       "13  13    Adelie    Torgersen 41.1           17.6          182              \n",
       "14  14    Adelie    Torgersen 38.6           21.2          191              \n",
       "15  15    Adelie    Torgersen 34.6           21.1          198              \n",
       "16  16    Adelie    Torgersen 36.6           17.8          185              \n",
       "17  17    Adelie    Torgersen 38.7           19.0          195              \n",
       "18  18    Adelie    Torgersen 42.5           20.7          197              \n",
       "19  19    Adelie    Torgersen 34.4           18.4          184              \n",
       "20  20    Adelie    Torgersen 46.0           21.5          194              \n",
       "21  21    Adelie    Biscoe    37.8           18.3          174              \n",
       "22  22    Adelie    Biscoe    37.7           18.7          180              \n",
       "23  23    Adelie    Biscoe    35.9           19.2          189              \n",
       "24  24    Adelie    Biscoe    38.2           18.1          185              \n",
       "25  25    Adelie    Biscoe    38.8           17.2          180              \n",
       "26  26    Adelie    Biscoe    35.3           18.9          187              \n",
       "27  27    Adelie    Biscoe    40.6           18.6          183              \n",
       "28  28    Adelie    Biscoe    40.5           17.9          187              \n",
       "29  29    Adelie    Biscoe    37.9           18.6          172              \n",
       "30  30    Adelie    Biscoe    40.5           18.9          180              \n",
       "⋮   ⋮     ⋮         ⋮         ⋮              ⋮             ⋮                \n",
       "315 315   Chinstrap Dream     46.9           16.6          192              \n",
       "316 316   Chinstrap Dream     53.5           19.9          205              \n",
       "317 317   Chinstrap Dream     49.0           19.5          210              \n",
       "318 318   Chinstrap Dream     46.2           17.5          187              \n",
       "319 319   Chinstrap Dream     50.9           19.1          196              \n",
       "320 320   Chinstrap Dream     45.5           17.0          196              \n",
       "321 321   Chinstrap Dream     50.9           17.9          196              \n",
       "322 322   Chinstrap Dream     50.8           18.5          201              \n",
       "323 323   Chinstrap Dream     50.1           17.9          190              \n",
       "324 324   Chinstrap Dream     49.0           19.6          212              \n",
       "325 325   Chinstrap Dream     51.5           18.7          187              \n",
       "326 326   Chinstrap Dream     49.8           17.3          198              \n",
       "327 327   Chinstrap Dream     48.1           16.4          199              \n",
       "328 328   Chinstrap Dream     51.4           19.0          201              \n",
       "329 329   Chinstrap Dream     45.7           17.3          193              \n",
       "330 330   Chinstrap Dream     50.7           19.7          203              \n",
       "331 331   Chinstrap Dream     42.5           17.3          187              \n",
       "332 332   Chinstrap Dream     52.2           18.8          197              \n",
       "333 333   Chinstrap Dream     45.2           16.6          191              \n",
       "334 334   Chinstrap Dream     49.3           19.9          203              \n",
       "335 335   Chinstrap Dream     50.2           18.8          202              \n",
       "336 336   Chinstrap Dream     45.6           19.4          194              \n",
       "337 337   Chinstrap Dream     51.9           19.5          206              \n",
       "338 338   Chinstrap Dream     46.8           16.5          189              \n",
       "339 339   Chinstrap Dream     45.7           17.0          195              \n",
       "340 340   Chinstrap Dream     55.8           19.8          207              \n",
       "341 341   Chinstrap Dream     43.5           18.1          202              \n",
       "342 342   Chinstrap Dream     49.6           18.2          193              \n",
       "343 343   Chinstrap Dream     50.8           19.0          210              \n",
       "344 344   Chinstrap Dream     50.2           18.7          198              \n",
       "    body_mass_g sex    year\n",
       "1   3750        male   2007\n",
       "2   3800        female 2007\n",
       "3   3250        female 2007\n",
       "4     NA        NA     2007\n",
       "5   3450        female 2007\n",
       "6   3650        male   2007\n",
       "7   3625        female 2007\n",
       "8   4675        male   2007\n",
       "9   3475        NA     2007\n",
       "10  4250        NA     2007\n",
       "11  3300        NA     2007\n",
       "12  3700        NA     2007\n",
       "13  3200        female 2007\n",
       "14  3800        male   2007\n",
       "15  4400        male   2007\n",
       "16  3700        female 2007\n",
       "17  3450        female 2007\n",
       "18  4500        male   2007\n",
       "19  3325        female 2007\n",
       "20  4200        male   2007\n",
       "21  3400        female 2007\n",
       "22  3600        male   2007\n",
       "23  3800        female 2007\n",
       "24  3950        male   2007\n",
       "25  3800        male   2007\n",
       "26  3800        female 2007\n",
       "27  3550        male   2007\n",
       "28  3200        female 2007\n",
       "29  3150        female 2007\n",
       "30  3950        male   2007\n",
       "⋮   ⋮           ⋮      ⋮   \n",
       "315 2700        female 2008\n",
       "316 4500        male   2008\n",
       "317 3950        male   2008\n",
       "318 3650        female 2008\n",
       "319 3550        male   2008\n",
       "320 3500        female 2008\n",
       "321 3675        female 2009\n",
       "322 4450        male   2009\n",
       "323 3400        female 2009\n",
       "324 4300        male   2009\n",
       "325 3250        male   2009\n",
       "326 3675        female 2009\n",
       "327 3325        female 2009\n",
       "328 3950        male   2009\n",
       "329 3600        female 2009\n",
       "330 4050        male   2009\n",
       "331 3350        female 2009\n",
       "332 3450        male   2009\n",
       "333 3250        female 2009\n",
       "334 4050        male   2009\n",
       "335 3800        male   2009\n",
       "336 3525        female 2009\n",
       "337 3950        male   2009\n",
       "338 3650        female 2009\n",
       "339 3650        female 2009\n",
       "340 4000        male   2009\n",
       "341 3400        female 2009\n",
       "342 3775        male   2009\n",
       "343 4100        male   2009\n",
       "344 3775        female 2009"
      ]
     },
     "metadata": {},
     "output_type": "display_data"
    }
   ],
   "source": [
    "data <- read_csv(\"data/penguins.csv\")\n",
    "data"
   ]
  },
  {
   "cell_type": "markdown",
   "metadata": {},
   "source": [
    "## Examine the imported dataset\n",
    "\n",
    "Built-in functions for quickly examining a dataframe:\n",
    "- `dim()`\n",
    "- `str()`\n",
    "- `summary()`\n",
    "- `colnames()`\n",
    "- `head()`\n",
    "- `tail()`\n",
    "- `View()`"
   ]
  },
  {
   "cell_type": "code",
   "execution_count": 6,
   "metadata": {
    "vscode": {
     "languageId": "r"
    }
   },
   "outputs": [
    {
     "data": {
      "text/html": [
       "<style>\n",
       ".list-inline {list-style: none; margin:0; padding: 0}\n",
       ".list-inline>li {display: inline-block}\n",
       ".list-inline>li:not(:last-child)::after {content: \"\\00b7\"; padding: 0 .5ex}\n",
       "</style>\n",
       "<ol class=list-inline><li>344</li><li>9</li></ol>\n"
      ],
      "text/latex": [
       "\\begin{enumerate*}\n",
       "\\item 344\n",
       "\\item 9\n",
       "\\end{enumerate*}\n"
      ],
      "text/markdown": [
       "1. 344\n",
       "2. 9\n",
       "\n",
       "\n"
      ],
      "text/plain": [
       "[1] 344   9"
      ]
     },
     "metadata": {},
     "output_type": "display_data"
    },
    {
     "name": "stdout",
     "output_type": "stream",
     "text": [
      "spec_tbl_df [344 × 9] (S3: spec_tbl_df/tbl_df/tbl/data.frame)\n",
      " $ rowid            : num [1:344] 1 2 3 4 5 6 7 8 9 10 ...\n",
      " $ species          : chr [1:344] \"Adelie\" \"Adelie\" \"Adelie\" \"Adelie\" ...\n",
      " $ island           : chr [1:344] \"Torgersen\" \"Torgersen\" \"Torgersen\" \"Torgersen\" ...\n",
      " $ bill_length_mm   : num [1:344] 39.1 39.5 40.3 NA 36.7 39.3 38.9 39.2 34.1 42 ...\n",
      " $ bill_depth_mm    : num [1:344] 18.7 17.4 18 NA 19.3 20.6 17.8 19.6 18.1 20.2 ...\n",
      " $ flipper_length_mm: num [1:344] 181 186 195 NA 193 190 181 195 193 190 ...\n",
      " $ body_mass_g      : num [1:344] 3750 3800 3250 NA 3450 ...\n",
      " $ sex              : chr [1:344] \"male\" \"female\" \"female\" NA ...\n",
      " $ year             : num [1:344] 2007 2007 2007 2007 2007 ...\n",
      " - attr(*, \"spec\")=\n",
      "  .. cols(\n",
      "  ..   rowid = \u001b[32mcol_double()\u001b[39m,\n",
      "  ..   species = \u001b[31mcol_character()\u001b[39m,\n",
      "  ..   island = \u001b[31mcol_character()\u001b[39m,\n",
      "  ..   bill_length_mm = \u001b[32mcol_double()\u001b[39m,\n",
      "  ..   bill_depth_mm = \u001b[32mcol_double()\u001b[39m,\n",
      "  ..   flipper_length_mm = \u001b[32mcol_double()\u001b[39m,\n",
      "  ..   body_mass_g = \u001b[32mcol_double()\u001b[39m,\n",
      "  ..   sex = \u001b[31mcol_character()\u001b[39m,\n",
      "  ..   year = \u001b[32mcol_double()\u001b[39m\n",
      "  .. )\n",
      " - attr(*, \"problems\")=<externalptr> \n"
     ]
    }
   ],
   "source": [
    "dim(data) #output shows dimensions of dataframe \n",
    "str(data)"
   ]
  },
  {
   "cell_type": "markdown",
   "metadata": {},
   "source": [
    "## Plotting data\n",
    "\n",
    "Below is an example how to plot the dataset. Think of the following: \n",
    "- What do you think each line of code is responsible for in the overall code cunk? \n",
    "- Can you see where the variables being called from the dataframe?\n",
    "- Try to modify an aspect of the code chunk to produce a different plot. \n"
   ]
  },
  {
   "cell_type": "code",
   "execution_count": 7,
   "metadata": {
    "vscode": {
     "languageId": "r"
    }
   },
   "outputs": [
    {
     "name": "stderr",
     "output_type": "stream",
     "text": [
      "Warning message:\n",
      "“Removed 2 rows containing non-finite values (stat_boxplot).”\n"
     ]
    },
    {
     "data": {
      "image/png": "[encoded data removed]",
      "text/plain": [
       "plot without title"
      ]
     },
     "metadata": {
      "image/png": {
       "height": 240,
       "width": 420
      }
     },
     "output_type": "display_data"
    }
   ],
   "source": [
    "options(repr.plot.width = 7, repr.plot.height = 4)\n",
    "\n",
    "ggplot(data) + \n",
    "    aes(x = sex, y = body_mass_g, color = sex) + #define what is being plotted and what to base coloring off of\n",
    "    geom_boxplot() + #choose what kind of graph to display\n",
    "    facet_wrap(~island) + #split data and plot separately (also adds headers)\n",
    "    theme_bw() + #background color of plots\n",
    "    scale_color_manual(values = c(\"#fdae61\", \"#C625A1\")) #change color of datapoints on the graphs\n"
   ]
  },
  {
   "cell_type": "markdown",
   "metadata": {},
   "source": [
    "# 2. `ggplot2` basics"
   ]
  },
  {
   "cell_type": "markdown",
   "metadata": {},
   "source": [
    "## Reading data\n",
    "\n",
    "Various options for reading and writing data are in package [`readr`](https://readr.tidyverse.org/)."
   ]
  },
  {
   "cell_type": "code",
   "execution_count": 8,
   "metadata": {
    "vscode": {
     "languageId": "r"
    }
   },
   "outputs": [
    {
     "name": "stderr",
     "output_type": "stream",
     "text": [
      "\u001b[1mRows: \u001b[22m\u001b[34m16\u001b[39m \u001b[1mColumns: \u001b[22m\u001b[34m7\u001b[39m\n",
      "\u001b[36m──\u001b[39m \u001b[1mColumn specification\u001b[22m \u001b[36m────────────────────────────────────────────────────────\u001b[39m\n",
      "\u001b[1mDelimiter:\u001b[22m \"\\t\"\n",
      "\u001b[31mchr\u001b[39m (3): strain, insert_sequence, kozak_region\n",
      "\u001b[32mdbl\u001b[39m (4): mean_yfp, mean_rfp, mean_ratio, se_ratio\n",
      "\n",
      "\u001b[36mℹ\u001b[39m Use `spec()` to retrieve the full column specification for this data.\n",
      "\u001b[36mℹ\u001b[39m Specify the column types or set `show_col_types = FALSE` to quiet this message.\n"
     ]
    },
    {
     "data": {
      "text/html": [
       "<table class=\"dataframe\">\n",
       "<caption>A spec_tbl_df: 16 × 7</caption>\n",
       "<thead>\n",
       "\t<tr><th scope=col>strain</th><th scope=col>mean_yfp</th><th scope=col>mean_rfp</th><th scope=col>mean_ratio</th><th scope=col>se_ratio</th><th scope=col>insert_sequence</th><th scope=col>kozak_region</th></tr>\n",
       "\t<tr><th scope=col>&lt;chr&gt;</th><th scope=col>&lt;dbl&gt;</th><th scope=col>&lt;dbl&gt;</th><th scope=col>&lt;dbl&gt;</th><th scope=col>&lt;dbl&gt;</th><th scope=col>&lt;chr&gt;</th><th scope=col>&lt;chr&gt;</th></tr>\n",
       "</thead>\n",
       "<tbody>\n",
       "\t<tr><td>schp688</td><td>1748</td><td>20754</td><td>0.755</td><td>0.066</td><td>10×AGA</td><td>A</td></tr>\n",
       "\t<tr><td>schp684</td><td>3294</td><td>20585</td><td>1.437</td><td>0.021</td><td>10×AGA</td><td>B</td></tr>\n",
       "\t<tr><td>schp690</td><td>3535</td><td>20593</td><td>1.541</td><td>0.018</td><td>10×AGA</td><td>C</td></tr>\n",
       "\t<tr><td>schp687</td><td>4658</td><td>20860</td><td>2.004</td><td>0.021</td><td>10×AGA</td><td>D</td></tr>\n",
       "\t<tr><td>schp686</td><td>5000</td><td>21171</td><td>2.121</td><td>0.023</td><td>10×AGA</td><td>E</td></tr>\n",
       "\t<tr><td>schp685</td><td>7379</td><td>22956</td><td>2.893</td><td>0.050</td><td>10×AGA</td><td>F</td></tr>\n",
       "\t<tr><td>schp683</td><td>9365</td><td>23866</td><td>3.522</td><td>0.110</td><td>10×AGA</td><td>G</td></tr>\n",
       "\t<tr><td>schp689</td><td>8693</td><td>22649</td><td>3.424</td><td>0.125</td><td>10×AGA</td><td>H</td></tr>\n",
       "\t<tr><td>schp679</td><td>2528</td><td>19906</td><td>1.149</td><td>0.056</td><td>10×AAG</td><td>A</td></tr>\n",
       "\t<tr><td>schp675</td><td>3687</td><td>20438</td><td>1.621</td><td>0.036</td><td>10×AAG</td><td>B</td></tr>\n",
       "\t<tr><td>schp681</td><td>3705</td><td>20227</td><td>1.645</td><td>0.021</td><td>10×AAG</td><td>C</td></tr>\n",
       "\t<tr><td>schp678</td><td>4378</td><td>20630</td><td>1.906</td><td>0.010</td><td>10×AAG</td><td>D</td></tr>\n",
       "\t<tr><td>schp677</td><td>3967</td><td>20604</td><td>1.728</td><td>0.030</td><td>10×AAG</td><td>E</td></tr>\n",
       "\t<tr><td>schp676</td><td>2657</td><td>20223</td><td>1.177</td><td>0.048</td><td>10×AAG</td><td>F</td></tr>\n",
       "\t<tr><td>schp674</td><td>1270</td><td>20316</td><td>0.561</td><td>0.004</td><td>10×AAG</td><td>G</td></tr>\n",
       "\t<tr><td>schp680</td><td>1117</td><td>19377</td><td>0.519</td><td>0.010</td><td>10×AAG</td><td>H</td></tr>\n",
       "</tbody>\n",
       "</table>\n"
      ],
      "text/latex": [
       "A spec\\_tbl\\_df: 16 × 7\n",
       "\\begin{tabular}{lllllll}\n",
       " strain & mean\\_yfp & mean\\_rfp & mean\\_ratio & se\\_ratio & insert\\_sequence & kozak\\_region\\\\\n",
       " <chr> & <dbl> & <dbl> & <dbl> & <dbl> & <chr> & <chr>\\\\\n",
       "\\hline\n",
       "\t schp688 & 1748 & 20754 & 0.755 & 0.066 & 10×AGA & A\\\\\n",
       "\t schp684 & 3294 & 20585 & 1.437 & 0.021 & 10×AGA & B\\\\\n",
       "\t schp690 & 3535 & 20593 & 1.541 & 0.018 & 10×AGA & C\\\\\n",
       "\t schp687 & 4658 & 20860 & 2.004 & 0.021 & 10×AGA & D\\\\\n",
       "\t schp686 & 5000 & 21171 & 2.121 & 0.023 & 10×AGA & E\\\\\n",
       "\t schp685 & 7379 & 22956 & 2.893 & 0.050 & 10×AGA & F\\\\\n",
       "\t schp683 & 9365 & 23866 & 3.522 & 0.110 & 10×AGA & G\\\\\n",
       "\t schp689 & 8693 & 22649 & 3.424 & 0.125 & 10×AGA & H\\\\\n",
       "\t schp679 & 2528 & 19906 & 1.149 & 0.056 & 10×AAG & A\\\\\n",
       "\t schp675 & 3687 & 20438 & 1.621 & 0.036 & 10×AAG & B\\\\\n",
       "\t schp681 & 3705 & 20227 & 1.645 & 0.021 & 10×AAG & C\\\\\n",
       "\t schp678 & 4378 & 20630 & 1.906 & 0.010 & 10×AAG & D\\\\\n",
       "\t schp677 & 3967 & 20604 & 1.728 & 0.030 & 10×AAG & E\\\\\n",
       "\t schp676 & 2657 & 20223 & 1.177 & 0.048 & 10×AAG & F\\\\\n",
       "\t schp674 & 1270 & 20316 & 0.561 & 0.004 & 10×AAG & G\\\\\n",
       "\t schp680 & 1117 & 19377 & 0.519 & 0.010 & 10×AAG & H\\\\\n",
       "\\end{tabular}\n"
      ],
      "text/markdown": [
       "\n",
       "A spec_tbl_df: 16 × 7\n",
       "\n",
       "| strain &lt;chr&gt; | mean_yfp &lt;dbl&gt; | mean_rfp &lt;dbl&gt; | mean_ratio &lt;dbl&gt; | se_ratio &lt;dbl&gt; | insert_sequence &lt;chr&gt; | kozak_region &lt;chr&gt; |\n",
       "|---|---|---|---|---|---|---|\n",
       "| schp688 | 1748 | 20754 | 0.755 | 0.066 | 10×AGA | A |\n",
       "| schp684 | 3294 | 20585 | 1.437 | 0.021 | 10×AGA | B |\n",
       "| schp690 | 3535 | 20593 | 1.541 | 0.018 | 10×AGA | C |\n",
       "| schp687 | 4658 | 20860 | 2.004 | 0.021 | 10×AGA | D |\n",
       "| schp686 | 5000 | 21171 | 2.121 | 0.023 | 10×AGA | E |\n",
       "| schp685 | 7379 | 22956 | 2.893 | 0.050 | 10×AGA | F |\n",
       "| schp683 | 9365 | 23866 | 3.522 | 0.110 | 10×AGA | G |\n",
       "| schp689 | 8693 | 22649 | 3.424 | 0.125 | 10×AGA | H |\n",
       "| schp679 | 2528 | 19906 | 1.149 | 0.056 | 10×AAG | A |\n",
       "| schp675 | 3687 | 20438 | 1.621 | 0.036 | 10×AAG | B |\n",
       "| schp681 | 3705 | 20227 | 1.645 | 0.021 | 10×AAG | C |\n",
       "| schp678 | 4378 | 20630 | 1.906 | 0.010 | 10×AAG | D |\n",
       "| schp677 | 3967 | 20604 | 1.728 | 0.030 | 10×AAG | E |\n",
       "| schp676 | 2657 | 20223 | 1.177 | 0.048 | 10×AAG | F |\n",
       "| schp674 | 1270 | 20316 | 0.561 | 0.004 | 10×AAG | G |\n",
       "| schp680 | 1117 | 19377 | 0.519 | 0.010 | 10×AAG | H |\n",
       "\n"
      ],
      "text/plain": [
       "   strain  mean_yfp mean_rfp mean_ratio se_ratio insert_sequence kozak_region\n",
       "1  schp688 1748     20754    0.755      0.066    10×AGA          A           \n",
       "2  schp684 3294     20585    1.437      0.021    10×AGA          B           \n",
       "3  schp690 3535     20593    1.541      0.018    10×AGA          C           \n",
       "4  schp687 4658     20860    2.004      0.021    10×AGA          D           \n",
       "5  schp686 5000     21171    2.121      0.023    10×AGA          E           \n",
       "6  schp685 7379     22956    2.893      0.050    10×AGA          F           \n",
       "7  schp683 9365     23866    3.522      0.110    10×AGA          G           \n",
       "8  schp689 8693     22649    3.424      0.125    10×AGA          H           \n",
       "9  schp679 2528     19906    1.149      0.056    10×AAG          A           \n",
       "10 schp675 3687     20438    1.621      0.036    10×AAG          B           \n",
       "11 schp681 3705     20227    1.645      0.021    10×AAG          C           \n",
       "12 schp678 4378     20630    1.906      0.010    10×AAG          D           \n",
       "13 schp677 3967     20604    1.728      0.030    10×AAG          E           \n",
       "14 schp676 2657     20223    1.177      0.048    10×AAG          F           \n",
       "15 schp674 1270     20316    0.561      0.004    10×AAG          G           \n",
       "16 schp680 1117     19377    0.519      0.010    10×AAG          H           "
      ]
     },
     "metadata": {},
     "output_type": "display_data"
    }
   ],
   "source": [
    "data <- read_tsv(\"data/example_dataset_1.tsv\") #tsv is tab-separated\n",
    "\n",
    "data"
   ]
  },
  {
   "cell_type": "markdown",
   "metadata": {},
   "source": [
    "The tabular data structure is called a `tibble` in `tidyverse`, and is a souped-up version of the [data.frame](https://en.wikipedia.org/wiki/Data_frame) R data structure with additional nice features.\n"
   ]
  },
  {
   "cell_type": "markdown",
   "metadata": {},
   "source": [
    "## Plotting data"
   ]
  },
  {
   "cell_type": "code",
   "execution_count": 9,
   "metadata": {
    "vscode": {
     "languageId": "r"
    }
   },
   "outputs": [
    {
     "data": {
      "image/png": "[encoded data removed]",
      "text/plain": [
       "plot without title"
      ]
     },
     "metadata": {
      "image/png": {
       "height": 240,
       "width": 420
      }
     },
     "output_type": "display_data"
    }
   ],
   "source": [
    "ggplot(data) + #specify what data to plot\n",
    "aes(x = kozak_region, y = mean_ratio) + #specify axes or variable to plot\n",
    "geom_point() #specify type of plot (scatterplot here)\n"
   ]
  },
  {
   "cell_type": "markdown",
   "metadata": {},
   "source": [
    "**Anatomy of a `ggplot2` plot:** \n",
    "\n",
    "`ggplot(tibble) + aes(x = x_axis) + geom_plot_type() + layers...`\n",
    "\n",
    " - Begins with `ggplot` function with a `tibble` argument as the first argument.\n",
    " - `aes` specifies the variables to plot.\n",
    " - `geom` specifies the type of plot.\n",
    " - `+` adds additional `layers` to the plot.\n",
    "\n",
    "\n",
    "**Key differences with `Python`**\n",
    "  - No need to specify variables within quotes.\n",
    "  - Indentation convention is different."
   ]
  },
  {
   "cell_type": "markdown",
   "metadata": {},
   "source": [
    "## Change size of plot globally"
   ]
  },
  {
   "cell_type": "code",
   "execution_count": 10,
   "metadata": {
    "vscode": {
     "languageId": "r"
    }
   },
   "outputs": [],
   "source": [
    "options(repr.plot.width = 5, repr.plot.height = 3)"
   ]
  },
  {
   "cell_type": "markdown",
   "metadata": {},
   "source": [
    "## How do we show multiple experimental variables?\n"
   ]
  },
  {
   "cell_type": "markdown",
   "metadata": {},
   "source": [
    "Plotting a point graph with `color`"
   ]
  },
  {
   "cell_type": "code",
   "execution_count": 11,
   "metadata": {
    "vscode": {
     "languageId": "r"
    }
   },
   "outputs": [
    {
     "data": {
      "image/png": "[encoded data removed]",
      "text/plain": [
       "plot without title"
      ]
     },
     "metadata": {
      "image/png": {
       "height": 180,
       "width": 300
      }
     },
     "output_type": "display_data"
    }
   ],
   "source": [
    "ggplot(data) + \n",
    "    aes(x = kozak_region, y = mean_ratio, color = insert_sequence) +\n",
    "    geom_point()"
   ]
  },
  {
   "cell_type": "markdown",
   "metadata": {},
   "source": [
    "Plotting a line graph"
   ]
  },
  {
   "cell_type": "code",
   "execution_count": 12,
   "metadata": {
    "vscode": {
     "languageId": "r"
    }
   },
   "outputs": [
    {
     "data": {
      "image/png": "[encoded data removed]",
      "text/plain": [
       "plot without title"
      ]
     },
     "metadata": {
      "image/png": {
       "height": 180,
       "width": 300
      }
     },
     "output_type": "display_data"
    }
   ],
   "source": [
    "ggplot(data) + \n",
    "    aes(x = kozak_region, y = mean_ratio, color = insert_sequence, group = insert_sequence) +\n",
    "    geom_line()"
   ]
  },
  {
   "cell_type": "markdown",
   "metadata": {},
   "source": [
    "Plotting point and line graphs"
   ]
  },
  {
   "cell_type": "code",
   "execution_count": 13,
   "metadata": {
    "vscode": {
     "languageId": "r"
    }
   },
   "outputs": [
    {
     "data": {
      "image/png": "[encoded data removed]",
      "text/plain": [
       "plot without title"
      ]
     },
     "metadata": {
      "image/png": {
       "height": 180,
       "width": 300
      }
     },
     "output_type": "display_data"
    }
   ],
   "source": [
    "ggplot(data) + \n",
    "    aes(x = kozak_region, y = mean_ratio, color = insert_sequence, group = insert_sequence) +\n",
    "    geom_line() + \n",
    "    geom_point()"
   ]
  },
  {
   "cell_type": "markdown",
   "metadata": {},
   "source": [
    "## ‘Faceting’ – Plotting in multiple panels"
   ]
  },
  {
   "cell_type": "code",
   "execution_count": 14,
   "metadata": {
    "vscode": {
     "languageId": "r"
    }
   },
   "outputs": [
    {
     "data": {
      "image/png": "[encoded data removed]",
      "text/plain": [
       "plot without title"
      ]
     },
     "metadata": {
      "image/png": {
       "height": 180,
       "width": 360
      }
     },
     "output_type": "display_data"
    }
   ],
   "source": [
    "#split data and plot separately. (~ [thing to split by])\n",
    "\n",
    "options(repr.plot.width = 6, repr.plot.height = 3)\n",
    "\n",
    "ggplot(data) + \n",
    "    aes(x = kozak_region, y = mean_ratio, color = insert_sequence, group = insert_sequence) +\n",
    "    geom_line() + \n",
    "    geom_point() + \n",
    "    facet_grid(~ insert_sequence)"
   ]
  },
  {
   "cell_type": "markdown",
   "metadata": {},
   "source": [
    "---"
   ]
  },
  {
   "cell_type": "markdown",
   "metadata": {},
   "source": [
    "# 3. In-class `ggplot2` exercises\n",
    "\n",
    "(20 min)"
   ]
  },
  {
   "cell_type": "markdown",
   "metadata": {},
   "source": [
    "## 1. Make X, Y, legend labels into nice strings\n",
    "\n",
    "See https://ggplot2.tidyverse.org/reference/labs.html"
   ]
  },
  {
   "cell_type": "code",
   "execution_count": 15,
   "metadata": {
    "vscode": {
     "languageId": "r"
    }
   },
   "outputs": [
    {
     "data": {
      "image/png": "[encoded data removed]",
      "text/plain": [
       "plot without title"
      ]
     },
     "metadata": {
      "image/png": {
       "height": 180,
       "width": 360
      }
     },
     "output_type": "display_data"
    }
   ],
   "source": [
    "plot = ggplot(data, aes(x = kozak_region,\n",
    "                 y = mean_ratio,\n",
    "                 color = insert_sequence,\n",
    "                 group = insert_sequence)) +\n",
    "  geom_line() +\n",
    "  geom_point() +\n",
    "labs(x = \"Kozak\", y = \"Mean Ratio\")\n",
    "\n",
    "plot\n"
   ]
  },
  {
   "cell_type": "markdown",
   "metadata": {},
   "source": [
    "## 2. Add title to the above plot"
   ]
  },
  {
   "cell_type": "code",
   "execution_count": 16,
   "metadata": {
    "vscode": {
     "languageId": "r"
    }
   },
   "outputs": [
    {
     "data": {
      "image/png": "[encoded data removed]",
      "text/plain": [
       "plot without title"
      ]
     },
     "metadata": {
      "image/png": {
       "height": 180,
       "width": 360
      }
     },
     "output_type": "display_data"
    }
   ],
   "source": [
    "plot = ggplot(data, aes(x = kozak_region,\n",
    "                 y = mean_ratio,\n",
    "                 color = insert_sequence,\n",
    "                 group = insert_sequence)) +\n",
    "  geom_line() +\n",
    "  geom_point() +\n",
    "labs(x = \"Kozak\", y = \"Mean Ratio\") + \n",
    "labs(title = \"Sequences in Kozak Region\") \n",
    "\n",
    "plot\n"
   ]
  },
  {
   "cell_type": "markdown",
   "metadata": {},
   "source": [
    "## 3. Change the plot look to a `classic` theme\n",
    "\n",
    "See https://ggplot2.tidyverse.org/reference/ggtheme.html"
   ]
  },
  {
   "cell_type": "code",
   "execution_count": 18,
   "metadata": {
    "vscode": {
     "languageId": "r"
    }
   },
   "outputs": [
    {
     "data": {
      "image/png": "[encoded data removed]",
      "text/plain": [
       "plot without title"
      ]
     },
     "metadata": {
      "image/png": {
       "height": 180,
       "width": 360
      }
     },
     "output_type": "display_data"
    }
   ],
   "source": [
    "plot = ggplot(data, aes(x = kozak_region,\n",
    "                 y = mean_ratio,\n",
    "                 color = insert_sequence,\n",
    "                 group = insert_sequence)) +\n",
    "  geom_line() +\n",
    "  geom_point() +\n",
    "labs(x = \"Kozak\", y = \"Mean Ratio\") + \n",
    "labs(title = \"Sequences in Kozak Region\") + \n",
    "theme_classic() \n",
    "\n",
    "plot"
   ]
  },
  {
   "cell_type": "markdown",
   "metadata": {},
   "source": [
    "## 4. Change Y axis to log scale\n",
    "\n",
    "See https://ggplot2.tidyverse.org/reference/scale_continuous.html"
   ]
  },
  {
   "cell_type": "code",
   "execution_count": 19,
   "metadata": {
    "vscode": {
     "languageId": "r"
    }
   },
   "outputs": [
    {
     "data": {
      "image/png": "[encoded data removed]",
      "text/plain": [
       "plot without title"
      ]
     },
     "metadata": {
      "image/png": {
       "height": 180,
       "width": 360
      }
     },
     "output_type": "display_data"
    }
   ],
   "source": [
    "plot = ggplot(data, aes(x = kozak_region,\n",
    "                 y = mean_ratio,\n",
    "                 color = insert_sequence,\n",
    "                 group = insert_sequence)) +\n",
    "  geom_line() +\n",
    "  geom_point() +\n",
    "labs(x = \"Kozak\", y = \"Mean Ratio\") + \n",
    "labs(title = \"Sequences in Kozak Region\") +\n",
    "scale_y_log10()\n",
    "\n",
    "plot\n"
   ]
  },
  {
   "cell_type": "markdown",
   "metadata": {},
   "source": [
    "## 5. Change Y scale to go linearly from 0 to 5"
   ]
  },
  {
   "cell_type": "code",
   "execution_count": 21,
   "metadata": {
    "vscode": {
     "languageId": "r"
    }
   },
   "outputs": [
    {
     "data": {
      "image/png": "[encoded data removed]",
      "text/plain": [
       "plot without title"
      ]
     },
     "metadata": {
      "image/png": {
       "height": 180,
       "width": 360
      }
     },
     "output_type": "display_data"
    }
   ],
   "source": [
    "plot = ggplot(data, aes(x = kozak_region,\n",
    "                 y = mean_ratio,\n",
    "                 color = insert_sequence,\n",
    "                 group = insert_sequence)) +\n",
    "  geom_line() +\n",
    "  geom_point() +\n",
    "labs(x = \"Kozak\", y = \"Mean Ratio\") + \n",
    "labs(title = \"Sequences in Kozak Region\") +\n",
    "#scale_y_log10() + \n",
    "ylim(0,5)\n",
    "\n",
    "plot"
   ]
  },
  {
   "cell_type": "markdown",
   "metadata": {},
   "source": [
    "---"
   ]
  },
  {
   "cell_type": "markdown",
   "metadata": {},
   "source": [
    "# 4. Transforming data\n",
    "\n",
    "Uses functions from the [`dplyr`](https://dplyr.tidyverse.org/) package."
   ]
  },
  {
   "cell_type": "code",
   "execution_count": 22,
   "metadata": {
    "vscode": {
     "languageId": "r"
    }
   },
   "outputs": [
    {
     "name": "stderr",
     "output_type": "stream",
     "text": [
      "\u001b[1mRows: \u001b[22m\u001b[34m16\u001b[39m \u001b[1mColumns: \u001b[22m\u001b[34m7\u001b[39m\n",
      "\u001b[36m──\u001b[39m \u001b[1mColumn specification\u001b[22m \u001b[36m────────────────────────────────────────────────────────\u001b[39m\n",
      "\u001b[1mDelimiter:\u001b[22m \"\\t\"\n",
      "\u001b[31mchr\u001b[39m (3): strain, insert_sequence, kozak_region\n",
      "\u001b[32mdbl\u001b[39m (4): mean_yfp, mean_rfp, mean_ratio, se_ratio\n",
      "\n",
      "\u001b[36mℹ\u001b[39m Use `spec()` to retrieve the full column specification for this data.\n",
      "\u001b[36mℹ\u001b[39m Specify the column types or set `show_col_types = FALSE` to quiet this message.\n"
     ]
    },
    {
     "data": {
      "text/html": [
       "<table class=\"dataframe\">\n",
       "<caption>A spec_tbl_df: 16 × 7</caption>\n",
       "<thead>\n",
       "\t<tr><th scope=col>strain</th><th scope=col>mean_yfp</th><th scope=col>mean_rfp</th><th scope=col>mean_ratio</th><th scope=col>se_ratio</th><th scope=col>insert_sequence</th><th scope=col>kozak_region</th></tr>\n",
       "\t<tr><th scope=col>&lt;chr&gt;</th><th scope=col>&lt;dbl&gt;</th><th scope=col>&lt;dbl&gt;</th><th scope=col>&lt;dbl&gt;</th><th scope=col>&lt;dbl&gt;</th><th scope=col>&lt;chr&gt;</th><th scope=col>&lt;chr&gt;</th></tr>\n",
       "</thead>\n",
       "<tbody>\n",
       "\t<tr><td>schp688</td><td>1748</td><td>20754</td><td>0.755</td><td>0.066</td><td>10×AGA</td><td>A</td></tr>\n",
       "\t<tr><td>schp684</td><td>3294</td><td>20585</td><td>1.437</td><td>0.021</td><td>10×AGA</td><td>B</td></tr>\n",
       "\t<tr><td>schp690</td><td>3535</td><td>20593</td><td>1.541</td><td>0.018</td><td>10×AGA</td><td>C</td></tr>\n",
       "\t<tr><td>schp687</td><td>4658</td><td>20860</td><td>2.004</td><td>0.021</td><td>10×AGA</td><td>D</td></tr>\n",
       "\t<tr><td>schp686</td><td>5000</td><td>21171</td><td>2.121</td><td>0.023</td><td>10×AGA</td><td>E</td></tr>\n",
       "\t<tr><td>schp685</td><td>7379</td><td>22956</td><td>2.893</td><td>0.050</td><td>10×AGA</td><td>F</td></tr>\n",
       "\t<tr><td>schp683</td><td>9365</td><td>23866</td><td>3.522</td><td>0.110</td><td>10×AGA</td><td>G</td></tr>\n",
       "\t<tr><td>schp689</td><td>8693</td><td>22649</td><td>3.424</td><td>0.125</td><td>10×AGA</td><td>H</td></tr>\n",
       "\t<tr><td>schp679</td><td>2528</td><td>19906</td><td>1.149</td><td>0.056</td><td>10×AAG</td><td>A</td></tr>\n",
       "\t<tr><td>schp675</td><td>3687</td><td>20438</td><td>1.621</td><td>0.036</td><td>10×AAG</td><td>B</td></tr>\n",
       "\t<tr><td>schp681</td><td>3705</td><td>20227</td><td>1.645</td><td>0.021</td><td>10×AAG</td><td>C</td></tr>\n",
       "\t<tr><td>schp678</td><td>4378</td><td>20630</td><td>1.906</td><td>0.010</td><td>10×AAG</td><td>D</td></tr>\n",
       "\t<tr><td>schp677</td><td>3967</td><td>20604</td><td>1.728</td><td>0.030</td><td>10×AAG</td><td>E</td></tr>\n",
       "\t<tr><td>schp676</td><td>2657</td><td>20223</td><td>1.177</td><td>0.048</td><td>10×AAG</td><td>F</td></tr>\n",
       "\t<tr><td>schp674</td><td>1270</td><td>20316</td><td>0.561</td><td>0.004</td><td>10×AAG</td><td>G</td></tr>\n",
       "\t<tr><td>schp680</td><td>1117</td><td>19377</td><td>0.519</td><td>0.010</td><td>10×AAG</td><td>H</td></tr>\n",
       "</tbody>\n",
       "</table>\n"
      ],
      "text/latex": [
       "A spec\\_tbl\\_df: 16 × 7\n",
       "\\begin{tabular}{lllllll}\n",
       " strain & mean\\_yfp & mean\\_rfp & mean\\_ratio & se\\_ratio & insert\\_sequence & kozak\\_region\\\\\n",
       " <chr> & <dbl> & <dbl> & <dbl> & <dbl> & <chr> & <chr>\\\\\n",
       "\\hline\n",
       "\t schp688 & 1748 & 20754 & 0.755 & 0.066 & 10×AGA & A\\\\\n",
       "\t schp684 & 3294 & 20585 & 1.437 & 0.021 & 10×AGA & B\\\\\n",
       "\t schp690 & 3535 & 20593 & 1.541 & 0.018 & 10×AGA & C\\\\\n",
       "\t schp687 & 4658 & 20860 & 2.004 & 0.021 & 10×AGA & D\\\\\n",
       "\t schp686 & 5000 & 21171 & 2.121 & 0.023 & 10×AGA & E\\\\\n",
       "\t schp685 & 7379 & 22956 & 2.893 & 0.050 & 10×AGA & F\\\\\n",
       "\t schp683 & 9365 & 23866 & 3.522 & 0.110 & 10×AGA & G\\\\\n",
       "\t schp689 & 8693 & 22649 & 3.424 & 0.125 & 10×AGA & H\\\\\n",
       "\t schp679 & 2528 & 19906 & 1.149 & 0.056 & 10×AAG & A\\\\\n",
       "\t schp675 & 3687 & 20438 & 1.621 & 0.036 & 10×AAG & B\\\\\n",
       "\t schp681 & 3705 & 20227 & 1.645 & 0.021 & 10×AAG & C\\\\\n",
       "\t schp678 & 4378 & 20630 & 1.906 & 0.010 & 10×AAG & D\\\\\n",
       "\t schp677 & 3967 & 20604 & 1.728 & 0.030 & 10×AAG & E\\\\\n",
       "\t schp676 & 2657 & 20223 & 1.177 & 0.048 & 10×AAG & F\\\\\n",
       "\t schp674 & 1270 & 20316 & 0.561 & 0.004 & 10×AAG & G\\\\\n",
       "\t schp680 & 1117 & 19377 & 0.519 & 0.010 & 10×AAG & H\\\\\n",
       "\\end{tabular}\n"
      ],
      "text/markdown": [
       "\n",
       "A spec_tbl_df: 16 × 7\n",
       "\n",
       "| strain &lt;chr&gt; | mean_yfp &lt;dbl&gt; | mean_rfp &lt;dbl&gt; | mean_ratio &lt;dbl&gt; | se_ratio &lt;dbl&gt; | insert_sequence &lt;chr&gt; | kozak_region &lt;chr&gt; |\n",
       "|---|---|---|---|---|---|---|\n",
       "| schp688 | 1748 | 20754 | 0.755 | 0.066 | 10×AGA | A |\n",
       "| schp684 | 3294 | 20585 | 1.437 | 0.021 | 10×AGA | B |\n",
       "| schp690 | 3535 | 20593 | 1.541 | 0.018 | 10×AGA | C |\n",
       "| schp687 | 4658 | 20860 | 2.004 | 0.021 | 10×AGA | D |\n",
       "| schp686 | 5000 | 21171 | 2.121 | 0.023 | 10×AGA | E |\n",
       "| schp685 | 7379 | 22956 | 2.893 | 0.050 | 10×AGA | F |\n",
       "| schp683 | 9365 | 23866 | 3.522 | 0.110 | 10×AGA | G |\n",
       "| schp689 | 8693 | 22649 | 3.424 | 0.125 | 10×AGA | H |\n",
       "| schp679 | 2528 | 19906 | 1.149 | 0.056 | 10×AAG | A |\n",
       "| schp675 | 3687 | 20438 | 1.621 | 0.036 | 10×AAG | B |\n",
       "| schp681 | 3705 | 20227 | 1.645 | 0.021 | 10×AAG | C |\n",
       "| schp678 | 4378 | 20630 | 1.906 | 0.010 | 10×AAG | D |\n",
       "| schp677 | 3967 | 20604 | 1.728 | 0.030 | 10×AAG | E |\n",
       "| schp676 | 2657 | 20223 | 1.177 | 0.048 | 10×AAG | F |\n",
       "| schp674 | 1270 | 20316 | 0.561 | 0.004 | 10×AAG | G |\n",
       "| schp680 | 1117 | 19377 | 0.519 | 0.010 | 10×AAG | H |\n",
       "\n"
      ],
      "text/plain": [
       "   strain  mean_yfp mean_rfp mean_ratio se_ratio insert_sequence kozak_region\n",
       "1  schp688 1748     20754    0.755      0.066    10×AGA          A           \n",
       "2  schp684 3294     20585    1.437      0.021    10×AGA          B           \n",
       "3  schp690 3535     20593    1.541      0.018    10×AGA          C           \n",
       "4  schp687 4658     20860    2.004      0.021    10×AGA          D           \n",
       "5  schp686 5000     21171    2.121      0.023    10×AGA          E           \n",
       "6  schp685 7379     22956    2.893      0.050    10×AGA          F           \n",
       "7  schp683 9365     23866    3.522      0.110    10×AGA          G           \n",
       "8  schp689 8693     22649    3.424      0.125    10×AGA          H           \n",
       "9  schp679 2528     19906    1.149      0.056    10×AAG          A           \n",
       "10 schp675 3687     20438    1.621      0.036    10×AAG          B           \n",
       "11 schp681 3705     20227    1.645      0.021    10×AAG          C           \n",
       "12 schp678 4378     20630    1.906      0.010    10×AAG          D           \n",
       "13 schp677 3967     20604    1.728      0.030    10×AAG          E           \n",
       "14 schp676 2657     20223    1.177      0.048    10×AAG          F           \n",
       "15 schp674 1270     20316    0.561      0.004    10×AAG          G           \n",
       "16 schp680 1117     19377    0.519      0.010    10×AAG          H           "
      ]
     },
     "metadata": {},
     "output_type": "display_data"
    }
   ],
   "source": [
    "data <- read_tsv(\"data/example_dataset_1.tsv\")\n",
    "\n",
    "\n",
    "data"
   ]
  },
  {
   "cell_type": "markdown",
   "metadata": {},
   "source": [
    "## Select specific columns"
   ]
  },
  {
   "cell_type": "code",
   "execution_count": null,
   "metadata": {
    "vscode": {
     "languageId": "r"
    }
   },
   "outputs": [
    {
     "data": {
      "text/html": [
       "<table class=\"dataframe\">\n",
       "<caption>A tibble: 16 × 4</caption>\n",
       "<thead>\n",
       "\t<tr><th scope=col>strain</th><th scope=col>mean_ratio</th><th scope=col>insert_sequence</th><th scope=col>kozak_region</th></tr>\n",
       "\t<tr><th scope=col>&lt;chr&gt;</th><th scope=col>&lt;dbl&gt;</th><th scope=col>&lt;chr&gt;</th><th scope=col>&lt;chr&gt;</th></tr>\n",
       "</thead>\n",
       "<tbody>\n",
       "\t<tr><td>schp688</td><td>0.755</td><td>10×AGA</td><td>A</td></tr>\n",
       "\t<tr><td>schp684</td><td>1.437</td><td>10×AGA</td><td>B</td></tr>\n",
       "\t<tr><td>schp690</td><td>1.541</td><td>10×AGA</td><td>C</td></tr>\n",
       "\t<tr><td>schp687</td><td>2.004</td><td>10×AGA</td><td>D</td></tr>\n",
       "\t<tr><td>schp686</td><td>2.121</td><td>10×AGA</td><td>E</td></tr>\n",
       "\t<tr><td>schp685</td><td>2.893</td><td>10×AGA</td><td>F</td></tr>\n",
       "\t<tr><td>schp683</td><td>3.522</td><td>10×AGA</td><td>G</td></tr>\n",
       "\t<tr><td>schp689</td><td>3.424</td><td>10×AGA</td><td>H</td></tr>\n",
       "\t<tr><td>schp679</td><td>1.149</td><td>10×AAG</td><td>A</td></tr>\n",
       "\t<tr><td>schp675</td><td>1.621</td><td>10×AAG</td><td>B</td></tr>\n",
       "\t<tr><td>schp681</td><td>1.645</td><td>10×AAG</td><td>C</td></tr>\n",
       "\t<tr><td>schp678</td><td>1.906</td><td>10×AAG</td><td>D</td></tr>\n",
       "\t<tr><td>schp677</td><td>1.728</td><td>10×AAG</td><td>E</td></tr>\n",
       "\t<tr><td>schp676</td><td>1.177</td><td>10×AAG</td><td>F</td></tr>\n",
       "\t<tr><td>schp674</td><td>0.561</td><td>10×AAG</td><td>G</td></tr>\n",
       "\t<tr><td>schp680</td><td>0.519</td><td>10×AAG</td><td>H</td></tr>\n",
       "</tbody>\n",
       "</table>\n"
      ],
      "text/latex": [
       "A tibble: 16 × 4\n",
       "\\begin{tabular}{llll}\n",
       " strain & mean\\_ratio & insert\\_sequence & kozak\\_region\\\\\n",
       " <chr> & <dbl> & <chr> & <chr>\\\\\n",
       "\\hline\n",
       "\t schp688 & 0.755 & 10×AGA & A\\\\\n",
       "\t schp684 & 1.437 & 10×AGA & B\\\\\n",
       "\t schp690 & 1.541 & 10×AGA & C\\\\\n",
       "\t schp687 & 2.004 & 10×AGA & D\\\\\n",
       "\t schp686 & 2.121 & 10×AGA & E\\\\\n",
       "\t schp685 & 2.893 & 10×AGA & F\\\\\n",
       "\t schp683 & 3.522 & 10×AGA & G\\\\\n",
       "\t schp689 & 3.424 & 10×AGA & H\\\\\n",
       "\t schp679 & 1.149 & 10×AAG & A\\\\\n",
       "\t schp675 & 1.621 & 10×AAG & B\\\\\n",
       "\t schp681 & 1.645 & 10×AAG & C\\\\\n",
       "\t schp678 & 1.906 & 10×AAG & D\\\\\n",
       "\t schp677 & 1.728 & 10×AAG & E\\\\\n",
       "\t schp676 & 1.177 & 10×AAG & F\\\\\n",
       "\t schp674 & 0.561 & 10×AAG & G\\\\\n",
       "\t schp680 & 0.519 & 10×AAG & H\\\\\n",
       "\\end{tabular}\n"
      ],
      "text/markdown": [
       "\n",
       "A tibble: 16 × 4\n",
       "\n",
       "| strain &lt;chr&gt; | mean_ratio &lt;dbl&gt; | insert_sequence &lt;chr&gt; | kozak_region &lt;chr&gt; |\n",
       "|---|---|---|---|\n",
       "| schp688 | 0.755 | 10×AGA | A |\n",
       "| schp684 | 1.437 | 10×AGA | B |\n",
       "| schp690 | 1.541 | 10×AGA | C |\n",
       "| schp687 | 2.004 | 10×AGA | D |\n",
       "| schp686 | 2.121 | 10×AGA | E |\n",
       "| schp685 | 2.893 | 10×AGA | F |\n",
       "| schp683 | 3.522 | 10×AGA | G |\n",
       "| schp689 | 3.424 | 10×AGA | H |\n",
       "| schp679 | 1.149 | 10×AAG | A |\n",
       "| schp675 | 1.621 | 10×AAG | B |\n",
       "| schp681 | 1.645 | 10×AAG | C |\n",
       "| schp678 | 1.906 | 10×AAG | D |\n",
       "| schp677 | 1.728 | 10×AAG | E |\n",
       "| schp676 | 1.177 | 10×AAG | F |\n",
       "| schp674 | 0.561 | 10×AAG | G |\n",
       "| schp680 | 0.519 | 10×AAG | H |\n",
       "\n"
      ],
      "text/plain": [
       "   strain  mean_ratio insert_sequence kozak_region\n",
       "1  schp688 0.755      10×AGA          A           \n",
       "2  schp684 1.437      10×AGA          B           \n",
       "3  schp690 1.541      10×AGA          C           \n",
       "4  schp687 2.004      10×AGA          D           \n",
       "5  schp686 2.121      10×AGA          E           \n",
       "6  schp685 2.893      10×AGA          F           \n",
       "7  schp683 3.522      10×AGA          G           \n",
       "8  schp689 3.424      10×AGA          H           \n",
       "9  schp679 1.149      10×AAG          A           \n",
       "10 schp675 1.621      10×AAG          B           \n",
       "11 schp681 1.645      10×AAG          C           \n",
       "12 schp678 1.906      10×AAG          D           \n",
       "13 schp677 1.728      10×AAG          E           \n",
       "14 schp676 1.177      10×AAG          F           \n",
       "15 schp674 0.561      10×AAG          G           \n",
       "16 schp680 0.519      10×AAG          H           "
      ]
     },
     "metadata": {},
     "output_type": "display_data"
    }
   ],
   "source": [
    "select(data, strain, mean_ratio, insert_sequence, kozak_region)\n",
    "#first thing in the parentheses is the df you're selecting columns from (here that's \"data\")"
   ]
  },
  {
   "cell_type": "markdown",
   "metadata": {},
   "source": [
    "## Filter rows"
   ]
  },
  {
   "cell_type": "code",
   "execution_count": 24,
   "metadata": {
    "vscode": {
     "languageId": "r"
    }
   },
   "outputs": [
    {
     "name": "stderr",
     "output_type": "stream",
     "text": [
      "\u001b[1mRows: \u001b[22m\u001b[34m16\u001b[39m \u001b[1mColumns: \u001b[22m\u001b[34m7\u001b[39m\n",
      "\u001b[36m──\u001b[39m \u001b[1mColumn specification\u001b[22m \u001b[36m────────────────────────────────────────────────────────\u001b[39m\n",
      "\u001b[1mDelimiter:\u001b[22m \"\\t\"\n",
      "\u001b[31mchr\u001b[39m (3): strain, insert_sequence, kozak_region\n",
      "\u001b[32mdbl\u001b[39m (4): mean_yfp, mean_rfp, mean_ratio, se_ratio\n",
      "\n",
      "\u001b[36mℹ\u001b[39m Use `spec()` to retrieve the full column specification for this data.\n",
      "\u001b[36mℹ\u001b[39m Specify the column types or set `show_col_types = FALSE` to quiet this message.\n"
     ]
    },
    {
     "name": "stdout",
     "output_type": "stream",
     "text": [
      "\u001b[90m# A tibble: 16 × 7\u001b[39m\n",
      "   strain  mean_yfp mean_rfp mean_ratio se_ratio insert_sequence kozak_region\n",
      "   \u001b[3m\u001b[90m<chr>\u001b[39m\u001b[23m      \u001b[3m\u001b[90m<dbl>\u001b[39m\u001b[23m    \u001b[3m\u001b[90m<dbl>\u001b[39m\u001b[23m      \u001b[3m\u001b[90m<dbl>\u001b[39m\u001b[23m    \u001b[3m\u001b[90m<dbl>\u001b[39m\u001b[23m \u001b[3m\u001b[90m<chr>\u001b[39m\u001b[23m           \u001b[3m\u001b[90m<chr>\u001b[39m\u001b[23m       \n",
      "\u001b[90m 1\u001b[39m schp688     \u001b[4m1\u001b[24m748    \u001b[4m2\u001b[24m\u001b[4m0\u001b[24m754      0.755    0.066 10×AGA          A           \n",
      "\u001b[90m 2\u001b[39m schp684     \u001b[4m3\u001b[24m294    \u001b[4m2\u001b[24m\u001b[4m0\u001b[24m585      1.44     0.021 10×AGA          B           \n",
      "\u001b[90m 3\u001b[39m schp690     \u001b[4m3\u001b[24m535    \u001b[4m2\u001b[24m\u001b[4m0\u001b[24m593      1.54     0.018 10×AGA          C           \n",
      "\u001b[90m 4\u001b[39m schp687     \u001b[4m4\u001b[24m658    \u001b[4m2\u001b[24m\u001b[4m0\u001b[24m860      2.00     0.021 10×AGA          D           \n",
      "\u001b[90m 5\u001b[39m schp686     \u001b[4m5\u001b[24m000    \u001b[4m2\u001b[24m\u001b[4m1\u001b[24m171      2.12     0.023 10×AGA          E           \n",
      "\u001b[90m 6\u001b[39m schp685     \u001b[4m7\u001b[24m379    \u001b[4m2\u001b[24m\u001b[4m2\u001b[24m956      2.89     0.05  10×AGA          F           \n",
      "\u001b[90m 7\u001b[39m schp683     \u001b[4m9\u001b[24m365    \u001b[4m2\u001b[24m\u001b[4m3\u001b[24m866      3.52     0.11  10×AGA          G           \n",
      "\u001b[90m 8\u001b[39m schp689     \u001b[4m8\u001b[24m693    \u001b[4m2\u001b[24m\u001b[4m2\u001b[24m649      3.42     0.125 10×AGA          H           \n",
      "\u001b[90m 9\u001b[39m schp679     \u001b[4m2\u001b[24m528    \u001b[4m1\u001b[24m\u001b[4m9\u001b[24m906      1.15     0.056 10×AAG          A           \n",
      "\u001b[90m10\u001b[39m schp675     \u001b[4m3\u001b[24m687    \u001b[4m2\u001b[24m\u001b[4m0\u001b[24m438      1.62     0.036 10×AAG          B           \n",
      "\u001b[90m11\u001b[39m schp681     \u001b[4m3\u001b[24m705    \u001b[4m2\u001b[24m\u001b[4m0\u001b[24m227      1.64     0.021 10×AAG          C           \n",
      "\u001b[90m12\u001b[39m schp678     \u001b[4m4\u001b[24m378    \u001b[4m2\u001b[24m\u001b[4m0\u001b[24m630      1.91     0.01  10×AAG          D           \n",
      "\u001b[90m13\u001b[39m schp677     \u001b[4m3\u001b[24m967    \u001b[4m2\u001b[24m\u001b[4m0\u001b[24m604      1.73     0.03  10×AAG          E           \n",
      "\u001b[90m14\u001b[39m schp676     \u001b[4m2\u001b[24m657    \u001b[4m2\u001b[24m\u001b[4m0\u001b[24m223      1.18     0.048 10×AAG          F           \n",
      "\u001b[90m15\u001b[39m schp674     \u001b[4m1\u001b[24m270    \u001b[4m2\u001b[24m\u001b[4m0\u001b[24m316      0.561    0.004 10×AAG          G           \n",
      "\u001b[90m16\u001b[39m schp680     \u001b[4m1\u001b[24m117    \u001b[4m1\u001b[24m\u001b[4m9\u001b[24m377      0.519    0.01  10×AAG          H           \n"
     ]
    }
   ],
   "source": [
    "data <- read_tsv(\"data/example_dataset_1.tsv\") %>%\n",
    "    print()"
   ]
  },
  {
   "cell_type": "code",
   "execution_count": null,
   "metadata": {
    "vscode": {
     "languageId": "r"
    }
   },
   "outputs": [
    {
     "data": {
      "text/html": [
       "<table class=\"dataframe\">\n",
       "<caption>A spec_tbl_df: 2 × 7</caption>\n",
       "<thead>\n",
       "\t<tr><th scope=col>strain</th><th scope=col>mean_yfp</th><th scope=col>mean_rfp</th><th scope=col>mean_ratio</th><th scope=col>se_ratio</th><th scope=col>insert_sequence</th><th scope=col>kozak_region</th></tr>\n",
       "\t<tr><th scope=col>&lt;chr&gt;</th><th scope=col>&lt;dbl&gt;</th><th scope=col>&lt;dbl&gt;</th><th scope=col>&lt;dbl&gt;</th><th scope=col>&lt;dbl&gt;</th><th scope=col>&lt;chr&gt;</th><th scope=col>&lt;chr&gt;</th></tr>\n",
       "</thead>\n",
       "<tbody>\n",
       "\t<tr><td>schp688</td><td>1748</td><td>20754</td><td>0.755</td><td>0.066</td><td>10×AGA</td><td>A</td></tr>\n",
       "\t<tr><td>schp679</td><td>2528</td><td>19906</td><td>1.149</td><td>0.056</td><td>10×AAG</td><td>A</td></tr>\n",
       "</tbody>\n",
       "</table>\n"
      ],
      "text/latex": [
       "A spec\\_tbl\\_df: 2 × 7\n",
       "\\begin{tabular}{lllllll}\n",
       " strain & mean\\_yfp & mean\\_rfp & mean\\_ratio & se\\_ratio & insert\\_sequence & kozak\\_region\\\\\n",
       " <chr> & <dbl> & <dbl> & <dbl> & <dbl> & <chr> & <chr>\\\\\n",
       "\\hline\n",
       "\t schp688 & 1748 & 20754 & 0.755 & 0.066 & 10×AGA & A\\\\\n",
       "\t schp679 & 2528 & 19906 & 1.149 & 0.056 & 10×AAG & A\\\\\n",
       "\\end{tabular}\n"
      ],
      "text/markdown": [
       "\n",
       "A spec_tbl_df: 2 × 7\n",
       "\n",
       "| strain &lt;chr&gt; | mean_yfp &lt;dbl&gt; | mean_rfp &lt;dbl&gt; | mean_ratio &lt;dbl&gt; | se_ratio &lt;dbl&gt; | insert_sequence &lt;chr&gt; | kozak_region &lt;chr&gt; |\n",
       "|---|---|---|---|---|---|---|\n",
       "| schp688 | 1748 | 20754 | 0.755 | 0.066 | 10×AGA | A |\n",
       "| schp679 | 2528 | 19906 | 1.149 | 0.056 | 10×AAG | A |\n",
       "\n"
      ],
      "text/plain": [
       "  strain  mean_yfp mean_rfp mean_ratio se_ratio insert_sequence kozak_region\n",
       "1 schp688 1748     20754    0.755      0.066    10×AGA          A           \n",
       "2 schp679 2528     19906    1.149      0.056    10×AAG          A           "
      ]
     },
     "metadata": {},
     "output_type": "display_data"
    }
   ],
   "source": [
    "data %>% \n",
    "  filter(kozak_region == \"A\") \n",
    "  #only keep things that have \"A\" in the column \"kozak_region\""
   ]
  },
  {
   "cell_type": "code",
   "execution_count": 29,
   "metadata": {
    "vscode": {
     "languageId": "r"
    }
   },
   "outputs": [
    {
     "data": {
      "text/html": [
       "<table class=\"dataframe\">\n",
       "<caption>A tibble: 1 × 4</caption>\n",
       "<thead>\n",
       "\t<tr><th scope=col>strain</th><th scope=col>mean_ratio</th><th scope=col>insert_sequence</th><th scope=col>kozak_region</th></tr>\n",
       "\t<tr><th scope=col>&lt;chr&gt;</th><th scope=col>&lt;dbl&gt;</th><th scope=col>&lt;chr&gt;</th><th scope=col>&lt;chr&gt;</th></tr>\n",
       "</thead>\n",
       "<tbody>\n",
       "\t<tr><td>schp688</td><td>0.755</td><td>10×AGA</td><td>A</td></tr>\n",
       "</tbody>\n",
       "</table>\n"
      ],
      "text/latex": [
       "A tibble: 1 × 4\n",
       "\\begin{tabular}{llll}\n",
       " strain & mean\\_ratio & insert\\_sequence & kozak\\_region\\\\\n",
       " <chr> & <dbl> & <chr> & <chr>\\\\\n",
       "\\hline\n",
       "\t schp688 & 0.755 & 10×AGA & A\\\\\n",
       "\\end{tabular}\n"
      ],
      "text/markdown": [
       "\n",
       "A tibble: 1 × 4\n",
       "\n",
       "| strain &lt;chr&gt; | mean_ratio &lt;dbl&gt; | insert_sequence &lt;chr&gt; | kozak_region &lt;chr&gt; |\n",
       "|---|---|---|---|\n",
       "| schp688 | 0.755 | 10×AGA | A |\n",
       "\n"
      ],
      "text/plain": [
       "  strain  mean_ratio insert_sequence kozak_region\n",
       "1 schp688 0.755      10×AGA          A           "
      ]
     },
     "metadata": {},
     "output_type": "display_data"
    }
   ],
   "source": [
    "data %>%\n",
    "  filter(kozak_region == \"A\", insert_sequence == \"10×AGA\")"
   ]
  },
  {
   "cell_type": "markdown",
   "metadata": {},
   "source": [
    "## Combine operations using the ` %>% ` operator"
   ]
  },
  {
   "cell_type": "code",
   "execution_count": 27,
   "metadata": {
    "vscode": {
     "languageId": "r"
    }
   },
   "outputs": [
    {
     "name": "stderr",
     "output_type": "stream",
     "text": [
      "\u001b[1mRows: \u001b[22m\u001b[34m16\u001b[39m \u001b[1mColumns: \u001b[22m\u001b[34m7\u001b[39m\n",
      "\u001b[36m──\u001b[39m \u001b[1mColumn specification\u001b[22m \u001b[36m────────────────────────────────────────────────────────\u001b[39m\n",
      "\u001b[1mDelimiter:\u001b[22m \"\\t\"\n",
      "\u001b[31mchr\u001b[39m (3): strain, insert_sequence, kozak_region\n",
      "\u001b[32mdbl\u001b[39m (4): mean_yfp, mean_rfp, mean_ratio, se_ratio\n",
      "\n",
      "\u001b[36mℹ\u001b[39m Use `spec()` to retrieve the full column specification for this data.\n",
      "\u001b[36mℹ\u001b[39m Specify the column types or set `show_col_types = FALSE` to quiet this message.\n"
     ]
    }
   ],
   "source": [
    "data <- read_tsv(\"data/example_dataset_1.tsv\") %>% \n",
    "  select(strain, mean_ratio, insert_sequence, kozak_region)"
   ]
  },
  {
   "cell_type": "markdown",
   "metadata": {},
   "source": [
    "Above is the same as the following:"
   ]
  },
  {
   "cell_type": "code",
   "execution_count": 28,
   "metadata": {
    "vscode": {
     "languageId": "r"
    }
   },
   "outputs": [
    {
     "name": "stderr",
     "output_type": "stream",
     "text": [
      "\u001b[1mRows: \u001b[22m\u001b[34m16\u001b[39m \u001b[1mColumns: \u001b[22m\u001b[34m7\u001b[39m\n",
      "\u001b[36m──\u001b[39m \u001b[1mColumn specification\u001b[22m \u001b[36m────────────────────────────────────────────────────────\u001b[39m\n",
      "\u001b[1mDelimiter:\u001b[22m \"\\t\"\n",
      "\u001b[31mchr\u001b[39m (3): strain, insert_sequence, kozak_region\n",
      "\u001b[32mdbl\u001b[39m (4): mean_yfp, mean_rfp, mean_ratio, se_ratio\n",
      "\n",
      "\u001b[36mℹ\u001b[39m Use `spec()` to retrieve the full column specification for this data.\n",
      "\u001b[36mℹ\u001b[39m Specify the column types or set `show_col_types = FALSE` to quiet this message.\n"
     ]
    }
   ],
   "source": [
    "data <- read_tsv(\"data/example_dataset_1.tsv\") %>% \n",
    "  select(., strain, mean_ratio, insert_sequence, kozak_region)"
   ]
  },
  {
   "cell_type": "markdown",
   "metadata": {},
   "source": [
    "The `%>%` operator lets you `chain` different data analysis tasks together and makes the analysis logic easier to understand.\n",
    "\n",
    "\n",
    "_Side note: You can create keyboard shortcuts for ` <- ` and ` %>% ` in VSCode as explained [here](https://code.visualstudio.com/docs/getstarted/keybindings)._\n",
    "\n",
    "Rasi uses `Alt + -` for ` <- ` and `Alt + Shift + m` for ` %>% ` following `RStudio` convention."
   ]
  },
  {
   "cell_type": "markdown",
   "metadata": {},
   "source": [
    "You can get a view of the transformed data using `print()` as the last step in a chain of commands"
   ]
  },
  {
   "cell_type": "code",
   "execution_count": null,
   "metadata": {
    "vscode": {
     "languageId": "r"
    }
   },
   "outputs": [
    {
     "name": "stderr",
     "output_type": "stream",
     "text": [
      "\u001b[1mRows: \u001b[22m\u001b[34m16\u001b[39m \u001b[1mColumns: \u001b[22m\u001b[34m7\u001b[39m\n",
      "\u001b[36m──\u001b[39m \u001b[1mColumn specification\u001b[22m \u001b[36m────────────────────────────────────────────────────────\u001b[39m\n",
      "\u001b[1mDelimiter:\u001b[22m \"\\t\"\n",
      "\u001b[31mchr\u001b[39m (3): strain, insert_sequence, kozak_region\n",
      "\u001b[32mdbl\u001b[39m (4): mean_yfp, mean_rfp, mean_ratio, se_ratio\n",
      "\n",
      "\u001b[36mℹ\u001b[39m Use `spec()` to retrieve the full column specification for this data.\n",
      "\u001b[36mℹ\u001b[39m Specify the column types or set `show_col_types = FALSE` to quiet this message.\n"
     ]
    },
    {
     "name": "stdout",
     "output_type": "stream",
     "text": [
      "\u001b[90m# A tibble: 16 × 4\u001b[39m\n",
      "   strain  mean_ratio insert_sequence kozak_region\n",
      "   \u001b[3m\u001b[90m<chr>\u001b[39m\u001b[23m        \u001b[3m\u001b[90m<dbl>\u001b[39m\u001b[23m \u001b[3m\u001b[90m<chr>\u001b[39m\u001b[23m           \u001b[3m\u001b[90m<chr>\u001b[39m\u001b[23m       \n",
      "\u001b[90m 1\u001b[39m schp688      0.755 10×AGA          A           \n",
      "\u001b[90m 2\u001b[39m schp684      1.44  10×AGA          B           \n",
      "\u001b[90m 3\u001b[39m schp690      1.54  10×AGA          C           \n",
      "\u001b[90m 4\u001b[39m schp687      2.00  10×AGA          D           \n",
      "\u001b[90m 5\u001b[39m schp686      2.12  10×AGA          E           \n",
      "\u001b[90m 6\u001b[39m schp685      2.89  10×AGA          F           \n",
      "\u001b[90m 7\u001b[39m schp683      3.52  10×AGA          G           \n",
      "\u001b[90m 8\u001b[39m schp689      3.42  10×AGA          H           \n",
      "\u001b[90m 9\u001b[39m schp679      1.15  10×AAG          A           \n",
      "\u001b[90m10\u001b[39m schp675      1.62  10×AAG          B           \n",
      "\u001b[90m11\u001b[39m schp681      1.64  10×AAG          C           \n",
      "\u001b[90m12\u001b[39m schp678      1.91  10×AAG          D           \n",
      "\u001b[90m13\u001b[39m schp677      1.73  10×AAG          E           \n",
      "\u001b[90m14\u001b[39m schp676      1.18  10×AAG          F           \n",
      "\u001b[90m15\u001b[39m schp674      0.561 10×AAG          G           \n",
      "\u001b[90m16\u001b[39m schp680      0.519 10×AAG          H           \n"
     ]
    }
   ],
   "source": [
    "data <- read_tsv(\"data/example_dataset_1.tsv\") %>% \n",
    "  select(strain, mean_ratio, insert_sequence, kozak_region) %>% \n",
    "  print() "
   ]
  },
  {
   "cell_type": "code",
   "execution_count": null,
   "metadata": {
    "vscode": {
     "languageId": "r"
    }
   },
   "outputs": [
    {
     "data": {
      "text/html": [
       "<table class=\"dataframe\">\n",
       "<caption>A tibble: 2 × 4</caption>\n",
       "<thead>\n",
       "\t<tr><th scope=col>strain</th><th scope=col>mean_ratio</th><th scope=col>insert_sequence</th><th scope=col>kozak_region</th></tr>\n",
       "\t<tr><th scope=col>&lt;chr&gt;</th><th scope=col>&lt;dbl&gt;</th><th scope=col>&lt;chr&gt;</th><th scope=col>&lt;chr&gt;</th></tr>\n",
       "</thead>\n",
       "<tbody>\n",
       "\t<tr><td>schp688</td><td>0.755</td><td>10×AGA</td><td>A</td></tr>\n",
       "\t<tr><td>schp679</td><td>1.149</td><td>10×AAG</td><td>A</td></tr>\n",
       "</tbody>\n",
       "</table>\n"
      ],
      "text/latex": [
       "A tibble: 2 × 4\n",
       "\\begin{tabular}{llll}\n",
       " strain & mean\\_ratio & insert\\_sequence & kozak\\_region\\\\\n",
       " <chr> & <dbl> & <chr> & <chr>\\\\\n",
       "\\hline\n",
       "\t schp688 & 0.755 & 10×AGA & A\\\\\n",
       "\t schp679 & 1.149 & 10×AAG & A\\\\\n",
       "\\end{tabular}\n"
      ],
      "text/markdown": [
       "\n",
       "A tibble: 2 × 4\n",
       "\n",
       "| strain &lt;chr&gt; | mean_ratio &lt;dbl&gt; | insert_sequence &lt;chr&gt; | kozak_region &lt;chr&gt; |\n",
       "|---|---|---|---|\n",
       "| schp688 | 0.755 | 10×AGA | A |\n",
       "| schp679 | 1.149 | 10×AAG | A |\n",
       "\n"
      ],
      "text/plain": [
       "  strain  mean_ratio insert_sequence kozak_region\n",
       "1 schp688 0.755      10×AGA          A           \n",
       "2 schp679 1.149      10×AAG          A           "
      ]
     },
     "metadata": {},
     "output_type": "display_data"
    }
   ],
   "source": [
    "data %>%\n",
    "  filter(kozak_region == \"A\") %>% \n",
    "  select(strain, mean_ratio, insert_sequence, kozak_region)"
   ]
  },
  {
   "cell_type": "markdown",
   "metadata": {},
   "source": [
    "## Arrange (sort) rows in a specific order"
   ]
  },
  {
   "cell_type": "code",
   "execution_count": null,
   "metadata": {
    "vscode": {
     "languageId": "r"
    }
   },
   "outputs": [
    {
     "data": {
      "text/html": [
       "<table class=\"dataframe\">\n",
       "<caption>A tibble: 16 × 4</caption>\n",
       "<thead>\n",
       "\t<tr><th scope=col>strain</th><th scope=col>mean_ratio</th><th scope=col>insert_sequence</th><th scope=col>kozak_region</th></tr>\n",
       "\t<tr><th scope=col>&lt;chr&gt;</th><th scope=col>&lt;dbl&gt;</th><th scope=col>&lt;chr&gt;</th><th scope=col>&lt;chr&gt;</th></tr>\n",
       "</thead>\n",
       "<tbody>\n",
       "\t<tr><td>schp680</td><td>0.519</td><td>10×AAG</td><td>H</td></tr>\n",
       "\t<tr><td>schp674</td><td>0.561</td><td>10×AAG</td><td>G</td></tr>\n",
       "\t<tr><td>schp688</td><td>0.755</td><td>10×AGA</td><td>A</td></tr>\n",
       "\t<tr><td>schp679</td><td>1.149</td><td>10×AAG</td><td>A</td></tr>\n",
       "\t<tr><td>schp676</td><td>1.177</td><td>10×AAG</td><td>F</td></tr>\n",
       "\t<tr><td>schp684</td><td>1.437</td><td>10×AGA</td><td>B</td></tr>\n",
       "\t<tr><td>schp690</td><td>1.541</td><td>10×AGA</td><td>C</td></tr>\n",
       "\t<tr><td>schp675</td><td>1.621</td><td>10×AAG</td><td>B</td></tr>\n",
       "\t<tr><td>schp681</td><td>1.645</td><td>10×AAG</td><td>C</td></tr>\n",
       "\t<tr><td>schp677</td><td>1.728</td><td>10×AAG</td><td>E</td></tr>\n",
       "\t<tr><td>schp678</td><td>1.906</td><td>10×AAG</td><td>D</td></tr>\n",
       "\t<tr><td>schp687</td><td>2.004</td><td>10×AGA</td><td>D</td></tr>\n",
       "\t<tr><td>schp686</td><td>2.121</td><td>10×AGA</td><td>E</td></tr>\n",
       "\t<tr><td>schp685</td><td>2.893</td><td>10×AGA</td><td>F</td></tr>\n",
       "\t<tr><td>schp689</td><td>3.424</td><td>10×AGA</td><td>H</td></tr>\n",
       "\t<tr><td>schp683</td><td>3.522</td><td>10×AGA</td><td>G</td></tr>\n",
       "</tbody>\n",
       "</table>\n"
      ],
      "text/latex": [
       "A tibble: 16 × 4\n",
       "\\begin{tabular}{llll}\n",
       " strain & mean\\_ratio & insert\\_sequence & kozak\\_region\\\\\n",
       " <chr> & <dbl> & <chr> & <chr>\\\\\n",
       "\\hline\n",
       "\t schp680 & 0.519 & 10×AAG & H\\\\\n",
       "\t schp674 & 0.561 & 10×AAG & G\\\\\n",
       "\t schp688 & 0.755 & 10×AGA & A\\\\\n",
       "\t schp679 & 1.149 & 10×AAG & A\\\\\n",
       "\t schp676 & 1.177 & 10×AAG & F\\\\\n",
       "\t schp684 & 1.437 & 10×AGA & B\\\\\n",
       "\t schp690 & 1.541 & 10×AGA & C\\\\\n",
       "\t schp675 & 1.621 & 10×AAG & B\\\\\n",
       "\t schp681 & 1.645 & 10×AAG & C\\\\\n",
       "\t schp677 & 1.728 & 10×AAG & E\\\\\n",
       "\t schp678 & 1.906 & 10×AAG & D\\\\\n",
       "\t schp687 & 2.004 & 10×AGA & D\\\\\n",
       "\t schp686 & 2.121 & 10×AGA & E\\\\\n",
       "\t schp685 & 2.893 & 10×AGA & F\\\\\n",
       "\t schp689 & 3.424 & 10×AGA & H\\\\\n",
       "\t schp683 & 3.522 & 10×AGA & G\\\\\n",
       "\\end{tabular}\n"
      ],
      "text/markdown": [
       "\n",
       "A tibble: 16 × 4\n",
       "\n",
       "| strain &lt;chr&gt; | mean_ratio &lt;dbl&gt; | insert_sequence &lt;chr&gt; | kozak_region &lt;chr&gt; |\n",
       "|---|---|---|---|\n",
       "| schp680 | 0.519 | 10×AAG | H |\n",
       "| schp674 | 0.561 | 10×AAG | G |\n",
       "| schp688 | 0.755 | 10×AGA | A |\n",
       "| schp679 | 1.149 | 10×AAG | A |\n",
       "| schp676 | 1.177 | 10×AAG | F |\n",
       "| schp684 | 1.437 | 10×AGA | B |\n",
       "| schp690 | 1.541 | 10×AGA | C |\n",
       "| schp675 | 1.621 | 10×AAG | B |\n",
       "| schp681 | 1.645 | 10×AAG | C |\n",
       "| schp677 | 1.728 | 10×AAG | E |\n",
       "| schp678 | 1.906 | 10×AAG | D |\n",
       "| schp687 | 2.004 | 10×AGA | D |\n",
       "| schp686 | 2.121 | 10×AGA | E |\n",
       "| schp685 | 2.893 | 10×AGA | F |\n",
       "| schp689 | 3.424 | 10×AGA | H |\n",
       "| schp683 | 3.522 | 10×AGA | G |\n",
       "\n"
      ],
      "text/plain": [
       "   strain  mean_ratio insert_sequence kozak_region\n",
       "1  schp680 0.519      10×AAG          H           \n",
       "2  schp674 0.561      10×AAG          G           \n",
       "3  schp688 0.755      10×AGA          A           \n",
       "4  schp679 1.149      10×AAG          A           \n",
       "5  schp676 1.177      10×AAG          F           \n",
       "6  schp684 1.437      10×AGA          B           \n",
       "7  schp690 1.541      10×AGA          C           \n",
       "8  schp675 1.621      10×AAG          B           \n",
       "9  schp681 1.645      10×AAG          C           \n",
       "10 schp677 1.728      10×AAG          E           \n",
       "11 schp678 1.906      10×AAG          D           \n",
       "12 schp687 2.004      10×AGA          D           \n",
       "13 schp686 2.121      10×AGA          E           \n",
       "14 schp685 2.893      10×AGA          F           \n",
       "15 schp689 3.424      10×AGA          H           \n",
       "16 schp683 3.522      10×AGA          G           "
      ]
     },
     "metadata": {},
     "output_type": "display_data"
    }
   ],
   "source": [
    "data %>%\n",
    "  arrange(mean_ratio)"
   ]
  },
  {
   "cell_type": "markdown",
   "metadata": {},
   "source": [
    "## Create new columns using `mutate`"
   ]
  },
  {
   "cell_type": "code",
   "execution_count": null,
   "metadata": {
    "vscode": {
     "languageId": "r"
    }
   },
   "outputs": [
    {
     "name": "stderr",
     "output_type": "stream",
     "text": [
      "\u001b[1mRows: \u001b[22m\u001b[34m16\u001b[39m \u001b[1mColumns: \u001b[22m\u001b[34m3\u001b[39m\n",
      "\u001b[36m──\u001b[39m \u001b[1mColumn specification\u001b[22m \u001b[36m────────────────────────────────────────────────────────\u001b[39m\n",
      "\u001b[1mDelimiter:\u001b[22m \"\\t\"\n",
      "\u001b[31mchr\u001b[39m (1): strain\n",
      "\u001b[32mdbl\u001b[39m (2): mean_yfp, mean_rfp\n",
      "\n",
      "\u001b[36mℹ\u001b[39m Use `spec()` to retrieve the full column specification for this data.\n",
      "\u001b[36mℹ\u001b[39m Specify the column types or set `show_col_types = FALSE` to quiet this message.\n"
     ]
    },
    {
     "name": "stdout",
     "output_type": "stream",
     "text": [
      "\u001b[90m# A tibble: 16 × 3\u001b[39m\n",
      "   strain  mean_yfp mean_rfp\n",
      "   \u001b[3m\u001b[90m<chr>\u001b[39m\u001b[23m      \u001b[3m\u001b[90m<dbl>\u001b[39m\u001b[23m    \u001b[3m\u001b[90m<dbl>\u001b[39m\u001b[23m\n",
      "\u001b[90m 1\u001b[39m schp688     \u001b[4m1\u001b[24m748    \u001b[4m2\u001b[24m\u001b[4m0\u001b[24m754\n",
      "\u001b[90m 2\u001b[39m schp684     \u001b[4m3\u001b[24m294    \u001b[4m2\u001b[24m\u001b[4m0\u001b[24m585\n",
      "\u001b[90m 3\u001b[39m schp690     \u001b[4m3\u001b[24m535    \u001b[4m2\u001b[24m\u001b[4m0\u001b[24m593\n",
      "\u001b[90m 4\u001b[39m schp687     \u001b[4m4\u001b[24m658    \u001b[4m2\u001b[24m\u001b[4m0\u001b[24m860\n",
      "\u001b[90m 5\u001b[39m schp686     \u001b[4m5\u001b[24m000    \u001b[4m2\u001b[24m\u001b[4m1\u001b[24m171\n",
      "\u001b[90m 6\u001b[39m schp685     \u001b[4m7\u001b[24m379    \u001b[4m2\u001b[24m\u001b[4m2\u001b[24m956\n",
      "\u001b[90m 7\u001b[39m schp683     \u001b[4m9\u001b[24m365    \u001b[4m2\u001b[24m\u001b[4m3\u001b[24m866\n",
      "\u001b[90m 8\u001b[39m schp689     \u001b[4m8\u001b[24m693    \u001b[4m2\u001b[24m\u001b[4m2\u001b[24m649\n",
      "\u001b[90m 9\u001b[39m schp679     \u001b[4m2\u001b[24m528    \u001b[4m1\u001b[24m\u001b[4m9\u001b[24m906\n",
      "\u001b[90m10\u001b[39m schp675     \u001b[4m3\u001b[24m687    \u001b[4m2\u001b[24m\u001b[4m0\u001b[24m438\n",
      "\u001b[90m11\u001b[39m schp681     \u001b[4m3\u001b[24m705    \u001b[4m2\u001b[24m\u001b[4m0\u001b[24m227\n",
      "\u001b[90m12\u001b[39m schp678     \u001b[4m4\u001b[24m378    \u001b[4m2\u001b[24m\u001b[4m0\u001b[24m630\n",
      "\u001b[90m13\u001b[39m schp677     \u001b[4m3\u001b[24m967    \u001b[4m2\u001b[24m\u001b[4m0\u001b[24m604\n",
      "\u001b[90m14\u001b[39m schp676     \u001b[4m2\u001b[24m657    \u001b[4m2\u001b[24m\u001b[4m0\u001b[24m223\n",
      "\u001b[90m15\u001b[39m schp674     \u001b[4m1\u001b[24m270    \u001b[4m2\u001b[24m\u001b[4m0\u001b[24m316\n",
      "\u001b[90m16\u001b[39m schp680     \u001b[4m1\u001b[24m117    \u001b[4m1\u001b[24m\u001b[4m9\u001b[24m377\n"
     ]
    }
   ],
   "source": [
    "data <- read_tsv(\"data/example_dataset_2.tsv\") %>% \n",
    "  print()"
   ]
  },
  {
   "cell_type": "code",
   "execution_count": null,
   "metadata": {
    "vscode": {
     "languageId": "r"
    }
   },
   "outputs": [
    {
     "name": "stdout",
     "output_type": "stream",
     "text": [
      "\u001b[90m# A tibble: 16 × 4\u001b[39m\n",
      "   strain  mean_yfp mean_rfp mean_ratio\n",
      "   \u001b[3m\u001b[90m<chr>\u001b[39m\u001b[23m      \u001b[3m\u001b[90m<dbl>\u001b[39m\u001b[23m    \u001b[3m\u001b[90m<dbl>\u001b[39m\u001b[23m      \u001b[3m\u001b[90m<dbl>\u001b[39m\u001b[23m\n",
      "\u001b[90m 1\u001b[39m schp688     \u001b[4m1\u001b[24m748    \u001b[4m2\u001b[24m\u001b[4m0\u001b[24m754     0.084\u001b[4m2\u001b[24m\n",
      "\u001b[90m 2\u001b[39m schp684     \u001b[4m3\u001b[24m294    \u001b[4m2\u001b[24m\u001b[4m0\u001b[24m585     0.160 \n",
      "\u001b[90m 3\u001b[39m schp690     \u001b[4m3\u001b[24m535    \u001b[4m2\u001b[24m\u001b[4m0\u001b[24m593     0.172 \n",
      "\u001b[90m 4\u001b[39m schp687     \u001b[4m4\u001b[24m658    \u001b[4m2\u001b[24m\u001b[4m0\u001b[24m860     0.223 \n",
      "\u001b[90m 5\u001b[39m schp686     \u001b[4m5\u001b[24m000    \u001b[4m2\u001b[24m\u001b[4m1\u001b[24m171     0.236 \n",
      "\u001b[90m 6\u001b[39m schp685     \u001b[4m7\u001b[24m379    \u001b[4m2\u001b[24m\u001b[4m2\u001b[24m956     0.321 \n",
      "\u001b[90m 7\u001b[39m schp683     \u001b[4m9\u001b[24m365    \u001b[4m2\u001b[24m\u001b[4m3\u001b[24m866     0.392 \n",
      "\u001b[90m 8\u001b[39m schp689     \u001b[4m8\u001b[24m693    \u001b[4m2\u001b[24m\u001b[4m2\u001b[24m649     0.384 \n",
      "\u001b[90m 9\u001b[39m schp679     \u001b[4m2\u001b[24m528    \u001b[4m1\u001b[24m\u001b[4m9\u001b[24m906     0.127 \n",
      "\u001b[90m10\u001b[39m schp675     \u001b[4m3\u001b[24m687    \u001b[4m2\u001b[24m\u001b[4m0\u001b[24m438     0.180 \n",
      "\u001b[90m11\u001b[39m schp681     \u001b[4m3\u001b[24m705    \u001b[4m2\u001b[24m\u001b[4m0\u001b[24m227     0.183 \n",
      "\u001b[90m12\u001b[39m schp678     \u001b[4m4\u001b[24m378    \u001b[4m2\u001b[24m\u001b[4m0\u001b[24m630     0.212 \n",
      "\u001b[90m13\u001b[39m schp677     \u001b[4m3\u001b[24m967    \u001b[4m2\u001b[24m\u001b[4m0\u001b[24m604     0.193 \n",
      "\u001b[90m14\u001b[39m schp676     \u001b[4m2\u001b[24m657    \u001b[4m2\u001b[24m\u001b[4m0\u001b[24m223     0.131 \n",
      "\u001b[90m15\u001b[39m schp674     \u001b[4m1\u001b[24m270    \u001b[4m2\u001b[24m\u001b[4m0\u001b[24m316     0.062\u001b[4m5\u001b[24m\n",
      "\u001b[90m16\u001b[39m schp680     \u001b[4m1\u001b[24m117    \u001b[4m1\u001b[24m\u001b[4m9\u001b[24m377     0.057\u001b[4m6\u001b[24m\n"
     ]
    }
   ],
   "source": [
    "data <- data %>%\n",
    "  mutate(mean_ratio = mean_yfp / mean_rfp) %>%\n",
    "  print()"
   ]
  },
  {
   "cell_type": "markdown",
   "metadata": {},
   "source": [
    "Use mutate to modify existing columns"
   ]
  },
  {
   "cell_type": "code",
   "execution_count": null,
   "metadata": {
    "vscode": {
     "languageId": "r"
    }
   },
   "outputs": [
    {
     "data": {
      "text/html": [
       "<table class=\"dataframe\">\n",
       "<caption>A tibble: 16 × 4</caption>\n",
       "<thead>\n",
       "\t<tr><th scope=col>strain</th><th scope=col>mean_yfp</th><th scope=col>mean_rfp</th><th scope=col>mean_ratio</th></tr>\n",
       "\t<tr><th scope=col>&lt;chr&gt;</th><th scope=col>&lt;dbl&gt;</th><th scope=col>&lt;dbl&gt;</th><th scope=col>&lt;dbl&gt;</th></tr>\n",
       "</thead>\n",
       "<tbody>\n",
       "\t<tr><td>schp688</td><td>1748</td><td>20754</td><td>0.08</td></tr>\n",
       "\t<tr><td>schp684</td><td>3294</td><td>20585</td><td>0.16</td></tr>\n",
       "\t<tr><td>schp690</td><td>3535</td><td>20593</td><td>0.17</td></tr>\n",
       "\t<tr><td>schp687</td><td>4658</td><td>20860</td><td>0.22</td></tr>\n",
       "\t<tr><td>schp686</td><td>5000</td><td>21171</td><td>0.24</td></tr>\n",
       "\t<tr><td>schp685</td><td>7379</td><td>22956</td><td>0.32</td></tr>\n",
       "\t<tr><td>schp683</td><td>9365</td><td>23866</td><td>0.39</td></tr>\n",
       "\t<tr><td>schp689</td><td>8693</td><td>22649</td><td>0.38</td></tr>\n",
       "\t<tr><td>schp679</td><td>2528</td><td>19906</td><td>0.13</td></tr>\n",
       "\t<tr><td>schp675</td><td>3687</td><td>20438</td><td>0.18</td></tr>\n",
       "\t<tr><td>schp681</td><td>3705</td><td>20227</td><td>0.18</td></tr>\n",
       "\t<tr><td>schp678</td><td>4378</td><td>20630</td><td>0.21</td></tr>\n",
       "\t<tr><td>schp677</td><td>3967</td><td>20604</td><td>0.19</td></tr>\n",
       "\t<tr><td>schp676</td><td>2657</td><td>20223</td><td>0.13</td></tr>\n",
       "\t<tr><td>schp674</td><td>1270</td><td>20316</td><td>0.06</td></tr>\n",
       "\t<tr><td>schp680</td><td>1117</td><td>19377</td><td>0.06</td></tr>\n",
       "</tbody>\n",
       "</table>\n"
      ],
      "text/latex": [
       "A tibble: 16 × 4\n",
       "\\begin{tabular}{llll}\n",
       " strain & mean\\_yfp & mean\\_rfp & mean\\_ratio\\\\\n",
       " <chr> & <dbl> & <dbl> & <dbl>\\\\\n",
       "\\hline\n",
       "\t schp688 & 1748 & 20754 & 0.08\\\\\n",
       "\t schp684 & 3294 & 20585 & 0.16\\\\\n",
       "\t schp690 & 3535 & 20593 & 0.17\\\\\n",
       "\t schp687 & 4658 & 20860 & 0.22\\\\\n",
       "\t schp686 & 5000 & 21171 & 0.24\\\\\n",
       "\t schp685 & 7379 & 22956 & 0.32\\\\\n",
       "\t schp683 & 9365 & 23866 & 0.39\\\\\n",
       "\t schp689 & 8693 & 22649 & 0.38\\\\\n",
       "\t schp679 & 2528 & 19906 & 0.13\\\\\n",
       "\t schp675 & 3687 & 20438 & 0.18\\\\\n",
       "\t schp681 & 3705 & 20227 & 0.18\\\\\n",
       "\t schp678 & 4378 & 20630 & 0.21\\\\\n",
       "\t schp677 & 3967 & 20604 & 0.19\\\\\n",
       "\t schp676 & 2657 & 20223 & 0.13\\\\\n",
       "\t schp674 & 1270 & 20316 & 0.06\\\\\n",
       "\t schp680 & 1117 & 19377 & 0.06\\\\\n",
       "\\end{tabular}\n"
      ],
      "text/markdown": [
       "\n",
       "A tibble: 16 × 4\n",
       "\n",
       "| strain &lt;chr&gt; | mean_yfp &lt;dbl&gt; | mean_rfp &lt;dbl&gt; | mean_ratio &lt;dbl&gt; |\n",
       "|---|---|---|---|\n",
       "| schp688 | 1748 | 20754 | 0.08 |\n",
       "| schp684 | 3294 | 20585 | 0.16 |\n",
       "| schp690 | 3535 | 20593 | 0.17 |\n",
       "| schp687 | 4658 | 20860 | 0.22 |\n",
       "| schp686 | 5000 | 21171 | 0.24 |\n",
       "| schp685 | 7379 | 22956 | 0.32 |\n",
       "| schp683 | 9365 | 23866 | 0.39 |\n",
       "| schp689 | 8693 | 22649 | 0.38 |\n",
       "| schp679 | 2528 | 19906 | 0.13 |\n",
       "| schp675 | 3687 | 20438 | 0.18 |\n",
       "| schp681 | 3705 | 20227 | 0.18 |\n",
       "| schp678 | 4378 | 20630 | 0.21 |\n",
       "| schp677 | 3967 | 20604 | 0.19 |\n",
       "| schp676 | 2657 | 20223 | 0.13 |\n",
       "| schp674 | 1270 | 20316 | 0.06 |\n",
       "| schp680 | 1117 | 19377 | 0.06 |\n",
       "\n"
      ],
      "text/plain": [
       "   strain  mean_yfp mean_rfp mean_ratio\n",
       "1  schp688 1748     20754    0.08      \n",
       "2  schp684 3294     20585    0.16      \n",
       "3  schp690 3535     20593    0.17      \n",
       "4  schp687 4658     20860    0.22      \n",
       "5  schp686 5000     21171    0.24      \n",
       "6  schp685 7379     22956    0.32      \n",
       "7  schp683 9365     23866    0.39      \n",
       "8  schp689 8693     22649    0.38      \n",
       "9  schp679 2528     19906    0.13      \n",
       "10 schp675 3687     20438    0.18      \n",
       "11 schp681 3705     20227    0.18      \n",
       "12 schp678 4378     20630    0.21      \n",
       "13 schp677 3967     20604    0.19      \n",
       "14 schp676 2657     20223    0.13      \n",
       "15 schp674 1270     20316    0.06      \n",
       "16 schp680 1117     19377    0.06      "
      ]
     },
     "metadata": {},
     "output_type": "display_data"
    }
   ],
   "source": [
    "data %>%\n",
    "  mutate(mean_ratio = round(mean_ratio, 2))"
   ]
  },
  {
   "cell_type": "markdown",
   "metadata": {},
   "source": [
    "## Combine tables using `join` functions\n",
    "\n",
    "Variants: `inner_join`, `left_join`, `right_join`, `full_join`\n",
    "\n",
    "See [https://dplyr.tidyverse.org/reference/mutate-joins.html](https://dplyr.tidyverse.org/reference/mutate-joins.html)"
   ]
  },
  {
   "cell_type": "code",
   "execution_count": null,
   "metadata": {
    "vscode": {
     "languageId": "r"
    }
   },
   "outputs": [
    {
     "name": "stderr",
     "output_type": "stream",
     "text": [
      "\u001b[1mRows: \u001b[22m\u001b[34m17\u001b[39m \u001b[1mColumns: \u001b[22m\u001b[34m3\u001b[39m\n",
      "\u001b[36m──\u001b[39m \u001b[1mColumn specification\u001b[22m \u001b[36m────────────────────────────────────────────────────────\u001b[39m\n",
      "\u001b[1mDelimiter:\u001b[22m \"\\t\"\n",
      "\u001b[31mchr\u001b[39m (3): strain, insert_sequence, kozak_region\n"
     ]
    },
    {
     "name": "stderr",
     "output_type": "stream",
     "text": [
      "\n",
      "\u001b[36mℹ\u001b[39m Use `spec()` to retrieve the full column specification for this data.\n",
      "\u001b[36mℹ\u001b[39m Specify the column types or set `show_col_types = FALSE` to quiet this message.\n"
     ]
    },
    {
     "data": {
      "text/html": [
       "<table class=\"dataframe\">\n",
       "<caption>A spec_tbl_df: 17 × 3</caption>\n",
       "<thead>\n",
       "\t<tr><th scope=col>strain</th><th scope=col>insert_sequence</th><th scope=col>kozak_region</th></tr>\n",
       "\t<tr><th scope=col>&lt;chr&gt;</th><th scope=col>&lt;chr&gt;</th><th scope=col>&lt;chr&gt;</th></tr>\n",
       "</thead>\n",
       "<tbody>\n",
       "\t<tr><td>schp674</td><td>10×AAG</td><td>G </td></tr>\n",
       "\t<tr><td>schp675</td><td>10×AAG</td><td>B </td></tr>\n",
       "\t<tr><td>schp676</td><td>10×AAG</td><td>F </td></tr>\n",
       "\t<tr><td>schp677</td><td>10×AAG</td><td>E </td></tr>\n",
       "\t<tr><td>schp678</td><td>10×AAG</td><td>D </td></tr>\n",
       "\t<tr><td>schp679</td><td>10×AAG</td><td>A </td></tr>\n",
       "\t<tr><td>schp680</td><td>10×AAG</td><td>H </td></tr>\n",
       "\t<tr><td>schp681</td><td>10×AAG</td><td>C </td></tr>\n",
       "\t<tr><td>schp683</td><td>10×AGA</td><td>G </td></tr>\n",
       "\t<tr><td>schp684</td><td>10×AGA</td><td>B </td></tr>\n",
       "\t<tr><td>schp685</td><td>10×AGA</td><td>F </td></tr>\n",
       "\t<tr><td>schp686</td><td>10×AGA</td><td>E </td></tr>\n",
       "\t<tr><td>schp687</td><td>10×AGA</td><td>D </td></tr>\n",
       "\t<tr><td>schp688</td><td>10×AGA</td><td>A </td></tr>\n",
       "\t<tr><td>schp689</td><td>10×AGA</td><td>H </td></tr>\n",
       "\t<tr><td>schp690</td><td>10×AGA</td><td>C </td></tr>\n",
       "\t<tr><td>control</td><td>NA    </td><td>NA</td></tr>\n",
       "</tbody>\n",
       "</table>\n"
      ],
      "text/latex": [
       "A spec\\_tbl\\_df: 17 × 3\n",
       "\\begin{tabular}{lll}\n",
       " strain & insert\\_sequence & kozak\\_region\\\\\n",
       " <chr> & <chr> & <chr>\\\\\n",
       "\\hline\n",
       "\t schp674 & 10×AAG & G \\\\\n",
       "\t schp675 & 10×AAG & B \\\\\n",
       "\t schp676 & 10×AAG & F \\\\\n",
       "\t schp677 & 10×AAG & E \\\\\n",
       "\t schp678 & 10×AAG & D \\\\\n",
       "\t schp679 & 10×AAG & A \\\\\n",
       "\t schp680 & 10×AAG & H \\\\\n",
       "\t schp681 & 10×AAG & C \\\\\n",
       "\t schp683 & 10×AGA & G \\\\\n",
       "\t schp684 & 10×AGA & B \\\\\n",
       "\t schp685 & 10×AGA & F \\\\\n",
       "\t schp686 & 10×AGA & E \\\\\n",
       "\t schp687 & 10×AGA & D \\\\\n",
       "\t schp688 & 10×AGA & A \\\\\n",
       "\t schp689 & 10×AGA & H \\\\\n",
       "\t schp690 & 10×AGA & C \\\\\n",
       "\t control & NA     & NA\\\\\n",
       "\\end{tabular}\n"
      ],
      "text/markdown": [
       "\n",
       "A spec_tbl_df: 17 × 3\n",
       "\n",
       "| strain &lt;chr&gt; | insert_sequence &lt;chr&gt; | kozak_region &lt;chr&gt; |\n",
       "|---|---|---|\n",
       "| schp674 | 10×AAG | G  |\n",
       "| schp675 | 10×AAG | B  |\n",
       "| schp676 | 10×AAG | F  |\n",
       "| schp677 | 10×AAG | E  |\n",
       "| schp678 | 10×AAG | D  |\n",
       "| schp679 | 10×AAG | A  |\n",
       "| schp680 | 10×AAG | H  |\n",
       "| schp681 | 10×AAG | C  |\n",
       "| schp683 | 10×AGA | G  |\n",
       "| schp684 | 10×AGA | B  |\n",
       "| schp685 | 10×AGA | F  |\n",
       "| schp686 | 10×AGA | E  |\n",
       "| schp687 | 10×AGA | D  |\n",
       "| schp688 | 10×AGA | A  |\n",
       "| schp689 | 10×AGA | H  |\n",
       "| schp690 | 10×AGA | C  |\n",
       "| control | NA     | NA |\n",
       "\n"
      ],
      "text/plain": [
       "   strain  insert_sequence kozak_region\n",
       "1  schp674 10×AAG          G           \n",
       "2  schp675 10×AAG          B           \n",
       "3  schp676 10×AAG          F           \n",
       "4  schp677 10×AAG          E           \n",
       "5  schp678 10×AAG          D           \n",
       "6  schp679 10×AAG          A           \n",
       "7  schp680 10×AAG          H           \n",
       "8  schp681 10×AAG          C           \n",
       "9  schp683 10×AGA          G           \n",
       "10 schp684 10×AGA          B           \n",
       "11 schp685 10×AGA          F           \n",
       "12 schp686 10×AGA          E           \n",
       "13 schp687 10×AGA          D           \n",
       "14 schp688 10×AGA          A           \n",
       "15 schp689 10×AGA          H           \n",
       "16 schp690 10×AGA          C           \n",
       "17 control NA              NA          "
      ]
     },
     "metadata": {},
     "output_type": "display_data"
    }
   ],
   "source": [
    "annotations <- read_tsv(\"data/example_dataset_3.tsv\")\n",
    "\n",
    "annotations"
   ]
  },
  {
   "cell_type": "code",
   "execution_count": null,
   "metadata": {
    "vscode": {
     "languageId": "r"
    }
   },
   "outputs": [
    {
     "data": {
      "text/html": [
       "<table class=\"dataframe\">\n",
       "<caption>A tibble: 16 × 6</caption>\n",
       "<thead>\n",
       "\t<tr><th scope=col>strain</th><th scope=col>mean_yfp</th><th scope=col>mean_rfp</th><th scope=col>mean_ratio</th><th scope=col>insert_sequence</th><th scope=col>kozak_region</th></tr>\n",
       "\t<tr><th scope=col>&lt;chr&gt;</th><th scope=col>&lt;dbl&gt;</th><th scope=col>&lt;dbl&gt;</th><th scope=col>&lt;dbl&gt;</th><th scope=col>&lt;chr&gt;</th><th scope=col>&lt;chr&gt;</th></tr>\n",
       "</thead>\n",
       "<tbody>\n",
       "\t<tr><td>schp688</td><td>1748</td><td>20754</td><td>0.08422473</td><td>10×AGA</td><td>A</td></tr>\n",
       "\t<tr><td>schp684</td><td>3294</td><td>20585</td><td>0.16001943</td><td>10×AGA</td><td>B</td></tr>\n",
       "\t<tr><td>schp690</td><td>3535</td><td>20593</td><td>0.17166027</td><td>10×AGA</td><td>C</td></tr>\n",
       "\t<tr><td>schp687</td><td>4658</td><td>20860</td><td>0.22329818</td><td>10×AGA</td><td>D</td></tr>\n",
       "\t<tr><td>schp686</td><td>5000</td><td>21171</td><td>0.23617212</td><td>10×AGA</td><td>E</td></tr>\n",
       "\t<tr><td>schp685</td><td>7379</td><td>22956</td><td>0.32144102</td><td>10×AGA</td><td>F</td></tr>\n",
       "\t<tr><td>schp683</td><td>9365</td><td>23866</td><td>0.39239923</td><td>10×AGA</td><td>G</td></tr>\n",
       "\t<tr><td>schp689</td><td>8693</td><td>22649</td><td>0.38381385</td><td>10×AGA</td><td>H</td></tr>\n",
       "\t<tr><td>schp679</td><td>2528</td><td>19906</td><td>0.12699689</td><td>10×AAG</td><td>A</td></tr>\n",
       "\t<tr><td>schp675</td><td>3687</td><td>20438</td><td>0.18039926</td><td>10×AAG</td><td>B</td></tr>\n",
       "\t<tr><td>schp681</td><td>3705</td><td>20227</td><td>0.18317101</td><td>10×AAG</td><td>C</td></tr>\n",
       "\t<tr><td>schp678</td><td>4378</td><td>20630</td><td>0.21221522</td><td>10×AAG</td><td>D</td></tr>\n",
       "\t<tr><td>schp677</td><td>3967</td><td>20604</td><td>0.19253543</td><td>10×AAG</td><td>E</td></tr>\n",
       "\t<tr><td>schp676</td><td>2657</td><td>20223</td><td>0.13138506</td><td>10×AAG</td><td>F</td></tr>\n",
       "\t<tr><td>schp674</td><td>1270</td><td>20316</td><td>0.06251231</td><td>10×AAG</td><td>G</td></tr>\n",
       "\t<tr><td>schp680</td><td>1117</td><td>19377</td><td>0.05764566</td><td>10×AAG</td><td>H</td></tr>\n",
       "</tbody>\n",
       "</table>\n"
      ],
      "text/latex": [
       "A tibble: 16 × 6\n",
       "\\begin{tabular}{llllll}\n",
       " strain & mean\\_yfp & mean\\_rfp & mean\\_ratio & insert\\_sequence & kozak\\_region\\\\\n",
       " <chr> & <dbl> & <dbl> & <dbl> & <chr> & <chr>\\\\\n",
       "\\hline\n",
       "\t schp688 & 1748 & 20754 & 0.08422473 & 10×AGA & A\\\\\n",
       "\t schp684 & 3294 & 20585 & 0.16001943 & 10×AGA & B\\\\\n",
       "\t schp690 & 3535 & 20593 & 0.17166027 & 10×AGA & C\\\\\n",
       "\t schp687 & 4658 & 20860 & 0.22329818 & 10×AGA & D\\\\\n",
       "\t schp686 & 5000 & 21171 & 0.23617212 & 10×AGA & E\\\\\n",
       "\t schp685 & 7379 & 22956 & 0.32144102 & 10×AGA & F\\\\\n",
       "\t schp683 & 9365 & 23866 & 0.39239923 & 10×AGA & G\\\\\n",
       "\t schp689 & 8693 & 22649 & 0.38381385 & 10×AGA & H\\\\\n",
       "\t schp679 & 2528 & 19906 & 0.12699689 & 10×AAG & A\\\\\n",
       "\t schp675 & 3687 & 20438 & 0.18039926 & 10×AAG & B\\\\\n",
       "\t schp681 & 3705 & 20227 & 0.18317101 & 10×AAG & C\\\\\n",
       "\t schp678 & 4378 & 20630 & 0.21221522 & 10×AAG & D\\\\\n",
       "\t schp677 & 3967 & 20604 & 0.19253543 & 10×AAG & E\\\\\n",
       "\t schp676 & 2657 & 20223 & 0.13138506 & 10×AAG & F\\\\\n",
       "\t schp674 & 1270 & 20316 & 0.06251231 & 10×AAG & G\\\\\n",
       "\t schp680 & 1117 & 19377 & 0.05764566 & 10×AAG & H\\\\\n",
       "\\end{tabular}\n"
      ],
      "text/markdown": [
       "\n",
       "A tibble: 16 × 6\n",
       "\n",
       "| strain &lt;chr&gt; | mean_yfp &lt;dbl&gt; | mean_rfp &lt;dbl&gt; | mean_ratio &lt;dbl&gt; | insert_sequence &lt;chr&gt; | kozak_region &lt;chr&gt; |\n",
       "|---|---|---|---|---|---|\n",
       "| schp688 | 1748 | 20754 | 0.08422473 | 10×AGA | A |\n",
       "| schp684 | 3294 | 20585 | 0.16001943 | 10×AGA | B |\n",
       "| schp690 | 3535 | 20593 | 0.17166027 | 10×AGA | C |\n",
       "| schp687 | 4658 | 20860 | 0.22329818 | 10×AGA | D |\n",
       "| schp686 | 5000 | 21171 | 0.23617212 | 10×AGA | E |\n",
       "| schp685 | 7379 | 22956 | 0.32144102 | 10×AGA | F |\n",
       "| schp683 | 9365 | 23866 | 0.39239923 | 10×AGA | G |\n",
       "| schp689 | 8693 | 22649 | 0.38381385 | 10×AGA | H |\n",
       "| schp679 | 2528 | 19906 | 0.12699689 | 10×AAG | A |\n",
       "| schp675 | 3687 | 20438 | 0.18039926 | 10×AAG | B |\n",
       "| schp681 | 3705 | 20227 | 0.18317101 | 10×AAG | C |\n",
       "| schp678 | 4378 | 20630 | 0.21221522 | 10×AAG | D |\n",
       "| schp677 | 3967 | 20604 | 0.19253543 | 10×AAG | E |\n",
       "| schp676 | 2657 | 20223 | 0.13138506 | 10×AAG | F |\n",
       "| schp674 | 1270 | 20316 | 0.06251231 | 10×AAG | G |\n",
       "| schp680 | 1117 | 19377 | 0.05764566 | 10×AAG | H |\n",
       "\n"
      ],
      "text/plain": [
       "   strain  mean_yfp mean_rfp mean_ratio insert_sequence kozak_region\n",
       "1  schp688 1748     20754    0.08422473 10×AGA          A           \n",
       "2  schp684 3294     20585    0.16001943 10×AGA          B           \n",
       "3  schp690 3535     20593    0.17166027 10×AGA          C           \n",
       "4  schp687 4658     20860    0.22329818 10×AGA          D           \n",
       "5  schp686 5000     21171    0.23617212 10×AGA          E           \n",
       "6  schp685 7379     22956    0.32144102 10×AGA          F           \n",
       "7  schp683 9365     23866    0.39239923 10×AGA          G           \n",
       "8  schp689 8693     22649    0.38381385 10×AGA          H           \n",
       "9  schp679 2528     19906    0.12699689 10×AAG          A           \n",
       "10 schp675 3687     20438    0.18039926 10×AAG          B           \n",
       "11 schp681 3705     20227    0.18317101 10×AAG          C           \n",
       "12 schp678 4378     20630    0.21221522 10×AAG          D           \n",
       "13 schp677 3967     20604    0.19253543 10×AAG          E           \n",
       "14 schp676 2657     20223    0.13138506 10×AAG          F           \n",
       "15 schp674 1270     20316    0.06251231 10×AAG          G           \n",
       "16 schp680 1117     19377    0.05764566 10×AAG          H           "
      ]
     },
     "metadata": {},
     "output_type": "display_data"
    }
   ],
   "source": [
    "data %>% \n",
    "  inner_join(annotations, by = \"strain\")"
   ]
  },
  {
   "cell_type": "code",
   "execution_count": null,
   "metadata": {
    "vscode": {
     "languageId": "r"
    }
   },
   "outputs": [
    {
     "data": {
      "text/html": [
       "<table class=\"dataframe\">\n",
       "<caption>A tibble: 16 × 6</caption>\n",
       "<thead>\n",
       "\t<tr><th scope=col>strain</th><th scope=col>mean_yfp</th><th scope=col>mean_rfp</th><th scope=col>mean_ratio</th><th scope=col>insert_sequence</th><th scope=col>kozak_region</th></tr>\n",
       "\t<tr><th scope=col>&lt;chr&gt;</th><th scope=col>&lt;dbl&gt;</th><th scope=col>&lt;dbl&gt;</th><th scope=col>&lt;dbl&gt;</th><th scope=col>&lt;chr&gt;</th><th scope=col>&lt;chr&gt;</th></tr>\n",
       "</thead>\n",
       "<tbody>\n",
       "\t<tr><td>schp688</td><td>1748</td><td>20754</td><td>0.08422473</td><td>10×AGA</td><td>A</td></tr>\n",
       "\t<tr><td>schp684</td><td>3294</td><td>20585</td><td>0.16001943</td><td>10×AGA</td><td>B</td></tr>\n",
       "\t<tr><td>schp690</td><td>3535</td><td>20593</td><td>0.17166027</td><td>10×AGA</td><td>C</td></tr>\n",
       "\t<tr><td>schp687</td><td>4658</td><td>20860</td><td>0.22329818</td><td>10×AGA</td><td>D</td></tr>\n",
       "\t<tr><td>schp686</td><td>5000</td><td>21171</td><td>0.23617212</td><td>10×AGA</td><td>E</td></tr>\n",
       "\t<tr><td>schp685</td><td>7379</td><td>22956</td><td>0.32144102</td><td>10×AGA</td><td>F</td></tr>\n",
       "\t<tr><td>schp683</td><td>9365</td><td>23866</td><td>0.39239923</td><td>10×AGA</td><td>G</td></tr>\n",
       "\t<tr><td>schp689</td><td>8693</td><td>22649</td><td>0.38381385</td><td>10×AGA</td><td>H</td></tr>\n",
       "\t<tr><td>schp679</td><td>2528</td><td>19906</td><td>0.12699689</td><td>10×AAG</td><td>A</td></tr>\n",
       "\t<tr><td>schp675</td><td>3687</td><td>20438</td><td>0.18039926</td><td>10×AAG</td><td>B</td></tr>\n",
       "\t<tr><td>schp681</td><td>3705</td><td>20227</td><td>0.18317101</td><td>10×AAG</td><td>C</td></tr>\n",
       "\t<tr><td>schp678</td><td>4378</td><td>20630</td><td>0.21221522</td><td>10×AAG</td><td>D</td></tr>\n",
       "\t<tr><td>schp677</td><td>3967</td><td>20604</td><td>0.19253543</td><td>10×AAG</td><td>E</td></tr>\n",
       "\t<tr><td>schp676</td><td>2657</td><td>20223</td><td>0.13138506</td><td>10×AAG</td><td>F</td></tr>\n",
       "\t<tr><td>schp674</td><td>1270</td><td>20316</td><td>0.06251231</td><td>10×AAG</td><td>G</td></tr>\n",
       "\t<tr><td>schp680</td><td>1117</td><td>19377</td><td>0.05764566</td><td>10×AAG</td><td>H</td></tr>\n",
       "</tbody>\n",
       "</table>\n"
      ],
      "text/latex": [
       "A tibble: 16 × 6\n",
       "\\begin{tabular}{llllll}\n",
       " strain & mean\\_yfp & mean\\_rfp & mean\\_ratio & insert\\_sequence & kozak\\_region\\\\\n",
       " <chr> & <dbl> & <dbl> & <dbl> & <chr> & <chr>\\\\\n",
       "\\hline\n",
       "\t schp688 & 1748 & 20754 & 0.08422473 & 10×AGA & A\\\\\n",
       "\t schp684 & 3294 & 20585 & 0.16001943 & 10×AGA & B\\\\\n",
       "\t schp690 & 3535 & 20593 & 0.17166027 & 10×AGA & C\\\\\n",
       "\t schp687 & 4658 & 20860 & 0.22329818 & 10×AGA & D\\\\\n",
       "\t schp686 & 5000 & 21171 & 0.23617212 & 10×AGA & E\\\\\n",
       "\t schp685 & 7379 & 22956 & 0.32144102 & 10×AGA & F\\\\\n",
       "\t schp683 & 9365 & 23866 & 0.39239923 & 10×AGA & G\\\\\n",
       "\t schp689 & 8693 & 22649 & 0.38381385 & 10×AGA & H\\\\\n",
       "\t schp679 & 2528 & 19906 & 0.12699689 & 10×AAG & A\\\\\n",
       "\t schp675 & 3687 & 20438 & 0.18039926 & 10×AAG & B\\\\\n",
       "\t schp681 & 3705 & 20227 & 0.18317101 & 10×AAG & C\\\\\n",
       "\t schp678 & 4378 & 20630 & 0.21221522 & 10×AAG & D\\\\\n",
       "\t schp677 & 3967 & 20604 & 0.19253543 & 10×AAG & E\\\\\n",
       "\t schp676 & 2657 & 20223 & 0.13138506 & 10×AAG & F\\\\\n",
       "\t schp674 & 1270 & 20316 & 0.06251231 & 10×AAG & G\\\\\n",
       "\t schp680 & 1117 & 19377 & 0.05764566 & 10×AAG & H\\\\\n",
       "\\end{tabular}\n"
      ],
      "text/markdown": [
       "\n",
       "A tibble: 16 × 6\n",
       "\n",
       "| strain &lt;chr&gt; | mean_yfp &lt;dbl&gt; | mean_rfp &lt;dbl&gt; | mean_ratio &lt;dbl&gt; | insert_sequence &lt;chr&gt; | kozak_region &lt;chr&gt; |\n",
       "|---|---|---|---|---|---|\n",
       "| schp688 | 1748 | 20754 | 0.08422473 | 10×AGA | A |\n",
       "| schp684 | 3294 | 20585 | 0.16001943 | 10×AGA | B |\n",
       "| schp690 | 3535 | 20593 | 0.17166027 | 10×AGA | C |\n",
       "| schp687 | 4658 | 20860 | 0.22329818 | 10×AGA | D |\n",
       "| schp686 | 5000 | 21171 | 0.23617212 | 10×AGA | E |\n",
       "| schp685 | 7379 | 22956 | 0.32144102 | 10×AGA | F |\n",
       "| schp683 | 9365 | 23866 | 0.39239923 | 10×AGA | G |\n",
       "| schp689 | 8693 | 22649 | 0.38381385 | 10×AGA | H |\n",
       "| schp679 | 2528 | 19906 | 0.12699689 | 10×AAG | A |\n",
       "| schp675 | 3687 | 20438 | 0.18039926 | 10×AAG | B |\n",
       "| schp681 | 3705 | 20227 | 0.18317101 | 10×AAG | C |\n",
       "| schp678 | 4378 | 20630 | 0.21221522 | 10×AAG | D |\n",
       "| schp677 | 3967 | 20604 | 0.19253543 | 10×AAG | E |\n",
       "| schp676 | 2657 | 20223 | 0.13138506 | 10×AAG | F |\n",
       "| schp674 | 1270 | 20316 | 0.06251231 | 10×AAG | G |\n",
       "| schp680 | 1117 | 19377 | 0.05764566 | 10×AAG | H |\n",
       "\n"
      ],
      "text/plain": [
       "   strain  mean_yfp mean_rfp mean_ratio insert_sequence kozak_region\n",
       "1  schp688 1748     20754    0.08422473 10×AGA          A           \n",
       "2  schp684 3294     20585    0.16001943 10×AGA          B           \n",
       "3  schp690 3535     20593    0.17166027 10×AGA          C           \n",
       "4  schp687 4658     20860    0.22329818 10×AGA          D           \n",
       "5  schp686 5000     21171    0.23617212 10×AGA          E           \n",
       "6  schp685 7379     22956    0.32144102 10×AGA          F           \n",
       "7  schp683 9365     23866    0.39239923 10×AGA          G           \n",
       "8  schp689 8693     22649    0.38381385 10×AGA          H           \n",
       "9  schp679 2528     19906    0.12699689 10×AAG          A           \n",
       "10 schp675 3687     20438    0.18039926 10×AAG          B           \n",
       "11 schp681 3705     20227    0.18317101 10×AAG          C           \n",
       "12 schp678 4378     20630    0.21221522 10×AAG          D           \n",
       "13 schp677 3967     20604    0.19253543 10×AAG          E           \n",
       "14 schp676 2657     20223    0.13138506 10×AAG          F           \n",
       "15 schp674 1270     20316    0.06251231 10×AAG          G           \n",
       "16 schp680 1117     19377    0.05764566 10×AAG          H           "
      ]
     },
     "metadata": {},
     "output_type": "display_data"
    }
   ],
   "source": [
    "data %>% \n",
    "  left_join(annotations, by = \"strain\")"
   ]
  },
  {
   "cell_type": "code",
   "execution_count": null,
   "metadata": {
    "vscode": {
     "languageId": "r"
    }
   },
   "outputs": [
    {
     "data": {
      "text/html": [
       "<table class=\"dataframe\">\n",
       "<caption>A tibble: 17 × 6</caption>\n",
       "<thead>\n",
       "\t<tr><th scope=col>strain</th><th scope=col>mean_yfp</th><th scope=col>mean_rfp</th><th scope=col>mean_ratio</th><th scope=col>insert_sequence</th><th scope=col>kozak_region</th></tr>\n",
       "\t<tr><th scope=col>&lt;chr&gt;</th><th scope=col>&lt;dbl&gt;</th><th scope=col>&lt;dbl&gt;</th><th scope=col>&lt;dbl&gt;</th><th scope=col>&lt;chr&gt;</th><th scope=col>&lt;chr&gt;</th></tr>\n",
       "</thead>\n",
       "<tbody>\n",
       "\t<tr><td>schp688</td><td>1748</td><td>20754</td><td>0.08422473</td><td>10×AGA</td><td>A </td></tr>\n",
       "\t<tr><td>schp684</td><td>3294</td><td>20585</td><td>0.16001943</td><td>10×AGA</td><td>B </td></tr>\n",
       "\t<tr><td>schp690</td><td>3535</td><td>20593</td><td>0.17166027</td><td>10×AGA</td><td>C </td></tr>\n",
       "\t<tr><td>schp687</td><td>4658</td><td>20860</td><td>0.22329818</td><td>10×AGA</td><td>D </td></tr>\n",
       "\t<tr><td>schp686</td><td>5000</td><td>21171</td><td>0.23617212</td><td>10×AGA</td><td>E </td></tr>\n",
       "\t<tr><td>schp685</td><td>7379</td><td>22956</td><td>0.32144102</td><td>10×AGA</td><td>F </td></tr>\n",
       "\t<tr><td>schp683</td><td>9365</td><td>23866</td><td>0.39239923</td><td>10×AGA</td><td>G </td></tr>\n",
       "\t<tr><td>schp689</td><td>8693</td><td>22649</td><td>0.38381385</td><td>10×AGA</td><td>H </td></tr>\n",
       "\t<tr><td>schp679</td><td>2528</td><td>19906</td><td>0.12699689</td><td>10×AAG</td><td>A </td></tr>\n",
       "\t<tr><td>schp675</td><td>3687</td><td>20438</td><td>0.18039926</td><td>10×AAG</td><td>B </td></tr>\n",
       "\t<tr><td>schp681</td><td>3705</td><td>20227</td><td>0.18317101</td><td>10×AAG</td><td>C </td></tr>\n",
       "\t<tr><td>schp678</td><td>4378</td><td>20630</td><td>0.21221522</td><td>10×AAG</td><td>D </td></tr>\n",
       "\t<tr><td>schp677</td><td>3967</td><td>20604</td><td>0.19253543</td><td>10×AAG</td><td>E </td></tr>\n",
       "\t<tr><td>schp676</td><td>2657</td><td>20223</td><td>0.13138506</td><td>10×AAG</td><td>F </td></tr>\n",
       "\t<tr><td>schp674</td><td>1270</td><td>20316</td><td>0.06251231</td><td>10×AAG</td><td>G </td></tr>\n",
       "\t<tr><td>schp680</td><td>1117</td><td>19377</td><td>0.05764566</td><td>10×AAG</td><td>H </td></tr>\n",
       "\t<tr><td>control</td><td>  NA</td><td>   NA</td><td>        NA</td><td>NA    </td><td>NA</td></tr>\n",
       "</tbody>\n",
       "</table>\n"
      ],
      "text/latex": [
       "A tibble: 17 × 6\n",
       "\\begin{tabular}{llllll}\n",
       " strain & mean\\_yfp & mean\\_rfp & mean\\_ratio & insert\\_sequence & kozak\\_region\\\\\n",
       " <chr> & <dbl> & <dbl> & <dbl> & <chr> & <chr>\\\\\n",
       "\\hline\n",
       "\t schp688 & 1748 & 20754 & 0.08422473 & 10×AGA & A \\\\\n",
       "\t schp684 & 3294 & 20585 & 0.16001943 & 10×AGA & B \\\\\n",
       "\t schp690 & 3535 & 20593 & 0.17166027 & 10×AGA & C \\\\\n",
       "\t schp687 & 4658 & 20860 & 0.22329818 & 10×AGA & D \\\\\n",
       "\t schp686 & 5000 & 21171 & 0.23617212 & 10×AGA & E \\\\\n",
       "\t schp685 & 7379 & 22956 & 0.32144102 & 10×AGA & F \\\\\n",
       "\t schp683 & 9365 & 23866 & 0.39239923 & 10×AGA & G \\\\\n",
       "\t schp689 & 8693 & 22649 & 0.38381385 & 10×AGA & H \\\\\n",
       "\t schp679 & 2528 & 19906 & 0.12699689 & 10×AAG & A \\\\\n",
       "\t schp675 & 3687 & 20438 & 0.18039926 & 10×AAG & B \\\\\n",
       "\t schp681 & 3705 & 20227 & 0.18317101 & 10×AAG & C \\\\\n",
       "\t schp678 & 4378 & 20630 & 0.21221522 & 10×AAG & D \\\\\n",
       "\t schp677 & 3967 & 20604 & 0.19253543 & 10×AAG & E \\\\\n",
       "\t schp676 & 2657 & 20223 & 0.13138506 & 10×AAG & F \\\\\n",
       "\t schp674 & 1270 & 20316 & 0.06251231 & 10×AAG & G \\\\\n",
       "\t schp680 & 1117 & 19377 & 0.05764566 & 10×AAG & H \\\\\n",
       "\t control &   NA &    NA &         NA & NA     & NA\\\\\n",
       "\\end{tabular}\n"
      ],
      "text/markdown": [
       "\n",
       "A tibble: 17 × 6\n",
       "\n",
       "| strain &lt;chr&gt; | mean_yfp &lt;dbl&gt; | mean_rfp &lt;dbl&gt; | mean_ratio &lt;dbl&gt; | insert_sequence &lt;chr&gt; | kozak_region &lt;chr&gt; |\n",
       "|---|---|---|---|---|---|\n",
       "| schp688 | 1748 | 20754 | 0.08422473 | 10×AGA | A  |\n",
       "| schp684 | 3294 | 20585 | 0.16001943 | 10×AGA | B  |\n",
       "| schp690 | 3535 | 20593 | 0.17166027 | 10×AGA | C  |\n",
       "| schp687 | 4658 | 20860 | 0.22329818 | 10×AGA | D  |\n",
       "| schp686 | 5000 | 21171 | 0.23617212 | 10×AGA | E  |\n",
       "| schp685 | 7379 | 22956 | 0.32144102 | 10×AGA | F  |\n",
       "| schp683 | 9365 | 23866 | 0.39239923 | 10×AGA | G  |\n",
       "| schp689 | 8693 | 22649 | 0.38381385 | 10×AGA | H  |\n",
       "| schp679 | 2528 | 19906 | 0.12699689 | 10×AAG | A  |\n",
       "| schp675 | 3687 | 20438 | 0.18039926 | 10×AAG | B  |\n",
       "| schp681 | 3705 | 20227 | 0.18317101 | 10×AAG | C  |\n",
       "| schp678 | 4378 | 20630 | 0.21221522 | 10×AAG | D  |\n",
       "| schp677 | 3967 | 20604 | 0.19253543 | 10×AAG | E  |\n",
       "| schp676 | 2657 | 20223 | 0.13138506 | 10×AAG | F  |\n",
       "| schp674 | 1270 | 20316 | 0.06251231 | 10×AAG | G  |\n",
       "| schp680 | 1117 | 19377 | 0.05764566 | 10×AAG | H  |\n",
       "| control |   NA |    NA |         NA | NA     | NA |\n",
       "\n"
      ],
      "text/plain": [
       "   strain  mean_yfp mean_rfp mean_ratio insert_sequence kozak_region\n",
       "1  schp688 1748     20754    0.08422473 10×AGA          A           \n",
       "2  schp684 3294     20585    0.16001943 10×AGA          B           \n",
       "3  schp690 3535     20593    0.17166027 10×AGA          C           \n",
       "4  schp687 4658     20860    0.22329818 10×AGA          D           \n",
       "5  schp686 5000     21171    0.23617212 10×AGA          E           \n",
       "6  schp685 7379     22956    0.32144102 10×AGA          F           \n",
       "7  schp683 9365     23866    0.39239923 10×AGA          G           \n",
       "8  schp689 8693     22649    0.38381385 10×AGA          H           \n",
       "9  schp679 2528     19906    0.12699689 10×AAG          A           \n",
       "10 schp675 3687     20438    0.18039926 10×AAG          B           \n",
       "11 schp681 3705     20227    0.18317101 10×AAG          C           \n",
       "12 schp678 4378     20630    0.21221522 10×AAG          D           \n",
       "13 schp677 3967     20604    0.19253543 10×AAG          E           \n",
       "14 schp676 2657     20223    0.13138506 10×AAG          F           \n",
       "15 schp674 1270     20316    0.06251231 10×AAG          G           \n",
       "16 schp680 1117     19377    0.05764566 10×AAG          H           \n",
       "17 control   NA        NA            NA NA              NA          "
      ]
     },
     "metadata": {},
     "output_type": "display_data"
    }
   ],
   "source": [
    "data %>% \n",
    "  right_join(annotations, by = \"strain\")"
   ]
  },
  {
   "cell_type": "markdown",
   "metadata": {},
   "source": [
    "## You can combine `dplyr` and `ggplot2` functions\n",
    "\n",
    "But remember to use ` %>% ` in `dplyr` vs ` +` in `ggplot2`!"
   ]
  },
  {
   "cell_type": "code",
   "execution_count": null,
   "metadata": {
    "vscode": {
     "languageId": "r"
    }
   },
   "outputs": [
    {
     "data": {
      "image/png": "[encoded data removed]",
      "text/plain": [
       "plot without title"
      ]
     },
     "metadata": {
      "image/png": {
       "height": 180,
       "width": 360
      }
     },
     "output_type": "display_data"
    }
   ],
   "source": [
    "data %>% \n",
    "  mutate(mean_ratio = mean_yfp / mean_rfp) %>%\n",
    "  left_join(annotations, by = \"strain\") %>%\n",
    "  ggplot(aes(x = kozak_region, y = mean_ratio, \n",
    "             color = insert_sequence, group = insert_sequence)) +\n",
    "  geom_line() +\n",
    "  geom_point()"
   ]
  },
  {
   "cell_type": "markdown",
   "metadata": {},
   "source": [
    "## Use `stringr` functions to manipulate string columns\n",
    "\n",
    "All functions are named nicely and begin with `str_`.\n",
    "\n",
    "See [https://stringr.tidyverse.org/reference/index.html](https://stringr.tidyverse.org/reference/index.html)"
   ]
  },
  {
   "cell_type": "code",
   "execution_count": null,
   "metadata": {
    "vscode": {
     "languageId": "r"
    }
   },
   "outputs": [
    {
     "data": {
      "text/html": [
       "<table class=\"dataframe\">\n",
       "<caption>A tibble: 16 × 7</caption>\n",
       "<thead>\n",
       "\t<tr><th scope=col>strain</th><th scope=col>mean_yfp</th><th scope=col>mean_rfp</th><th scope=col>mean_ratio</th><th scope=col>insert_sequence</th><th scope=col>kozak_region</th><th scope=col>codon</th></tr>\n",
       "\t<tr><th scope=col>&lt;chr&gt;</th><th scope=col>&lt;dbl&gt;</th><th scope=col>&lt;dbl&gt;</th><th scope=col>&lt;dbl&gt;</th><th scope=col>&lt;chr&gt;</th><th scope=col>&lt;chr&gt;</th><th scope=col>&lt;chr&gt;</th></tr>\n",
       "</thead>\n",
       "<tbody>\n",
       "\t<tr><td>schp688</td><td>1748</td><td>20754</td><td>0.08422473</td><td>10×AGA</td><td>A</td><td>AGA</td></tr>\n",
       "\t<tr><td>schp684</td><td>3294</td><td>20585</td><td>0.16001943</td><td>10×AGA</td><td>B</td><td>AGA</td></tr>\n",
       "\t<tr><td>schp690</td><td>3535</td><td>20593</td><td>0.17166027</td><td>10×AGA</td><td>C</td><td>AGA</td></tr>\n",
       "\t<tr><td>schp687</td><td>4658</td><td>20860</td><td>0.22329818</td><td>10×AGA</td><td>D</td><td>AGA</td></tr>\n",
       "\t<tr><td>schp686</td><td>5000</td><td>21171</td><td>0.23617212</td><td>10×AGA</td><td>E</td><td>AGA</td></tr>\n",
       "\t<tr><td>schp685</td><td>7379</td><td>22956</td><td>0.32144102</td><td>10×AGA</td><td>F</td><td>AGA</td></tr>\n",
       "\t<tr><td>schp683</td><td>9365</td><td>23866</td><td>0.39239923</td><td>10×AGA</td><td>G</td><td>AGA</td></tr>\n",
       "\t<tr><td>schp689</td><td>8693</td><td>22649</td><td>0.38381385</td><td>10×AGA</td><td>H</td><td>AGA</td></tr>\n",
       "\t<tr><td>schp679</td><td>2528</td><td>19906</td><td>0.12699689</td><td>10×AAG</td><td>A</td><td>AAG</td></tr>\n",
       "\t<tr><td>schp675</td><td>3687</td><td>20438</td><td>0.18039926</td><td>10×AAG</td><td>B</td><td>AAG</td></tr>\n",
       "\t<tr><td>schp681</td><td>3705</td><td>20227</td><td>0.18317101</td><td>10×AAG</td><td>C</td><td>AAG</td></tr>\n",
       "\t<tr><td>schp678</td><td>4378</td><td>20630</td><td>0.21221522</td><td>10×AAG</td><td>D</td><td>AAG</td></tr>\n",
       "\t<tr><td>schp677</td><td>3967</td><td>20604</td><td>0.19253543</td><td>10×AAG</td><td>E</td><td>AAG</td></tr>\n",
       "\t<tr><td>schp676</td><td>2657</td><td>20223</td><td>0.13138506</td><td>10×AAG</td><td>F</td><td>AAG</td></tr>\n",
       "\t<tr><td>schp674</td><td>1270</td><td>20316</td><td>0.06251231</td><td>10×AAG</td><td>G</td><td>AAG</td></tr>\n",
       "\t<tr><td>schp680</td><td>1117</td><td>19377</td><td>0.05764566</td><td>10×AAG</td><td>H</td><td>AAG</td></tr>\n",
       "</tbody>\n",
       "</table>\n"
      ],
      "text/latex": [
       "A tibble: 16 × 7\n",
       "\\begin{tabular}{lllllll}\n",
       " strain & mean\\_yfp & mean\\_rfp & mean\\_ratio & insert\\_sequence & kozak\\_region & codon\\\\\n",
       " <chr> & <dbl> & <dbl> & <dbl> & <chr> & <chr> & <chr>\\\\\n",
       "\\hline\n",
       "\t schp688 & 1748 & 20754 & 0.08422473 & 10×AGA & A & AGA\\\\\n",
       "\t schp684 & 3294 & 20585 & 0.16001943 & 10×AGA & B & AGA\\\\\n",
       "\t schp690 & 3535 & 20593 & 0.17166027 & 10×AGA & C & AGA\\\\\n",
       "\t schp687 & 4658 & 20860 & 0.22329818 & 10×AGA & D & AGA\\\\\n",
       "\t schp686 & 5000 & 21171 & 0.23617212 & 10×AGA & E & AGA\\\\\n",
       "\t schp685 & 7379 & 22956 & 0.32144102 & 10×AGA & F & AGA\\\\\n",
       "\t schp683 & 9365 & 23866 & 0.39239923 & 10×AGA & G & AGA\\\\\n",
       "\t schp689 & 8693 & 22649 & 0.38381385 & 10×AGA & H & AGA\\\\\n",
       "\t schp679 & 2528 & 19906 & 0.12699689 & 10×AAG & A & AAG\\\\\n",
       "\t schp675 & 3687 & 20438 & 0.18039926 & 10×AAG & B & AAG\\\\\n",
       "\t schp681 & 3705 & 20227 & 0.18317101 & 10×AAG & C & AAG\\\\\n",
       "\t schp678 & 4378 & 20630 & 0.21221522 & 10×AAG & D & AAG\\\\\n",
       "\t schp677 & 3967 & 20604 & 0.19253543 & 10×AAG & E & AAG\\\\\n",
       "\t schp676 & 2657 & 20223 & 0.13138506 & 10×AAG & F & AAG\\\\\n",
       "\t schp674 & 1270 & 20316 & 0.06251231 & 10×AAG & G & AAG\\\\\n",
       "\t schp680 & 1117 & 19377 & 0.05764566 & 10×AAG & H & AAG\\\\\n",
       "\\end{tabular}\n"
      ],
      "text/markdown": [
       "\n",
       "A tibble: 16 × 7\n",
       "\n",
       "| strain &lt;chr&gt; | mean_yfp &lt;dbl&gt; | mean_rfp &lt;dbl&gt; | mean_ratio &lt;dbl&gt; | insert_sequence &lt;chr&gt; | kozak_region &lt;chr&gt; | codon &lt;chr&gt; |\n",
       "|---|---|---|---|---|---|---|\n",
       "| schp688 | 1748 | 20754 | 0.08422473 | 10×AGA | A | AGA |\n",
       "| schp684 | 3294 | 20585 | 0.16001943 | 10×AGA | B | AGA |\n",
       "| schp690 | 3535 | 20593 | 0.17166027 | 10×AGA | C | AGA |\n",
       "| schp687 | 4658 | 20860 | 0.22329818 | 10×AGA | D | AGA |\n",
       "| schp686 | 5000 | 21171 | 0.23617212 | 10×AGA | E | AGA |\n",
       "| schp685 | 7379 | 22956 | 0.32144102 | 10×AGA | F | AGA |\n",
       "| schp683 | 9365 | 23866 | 0.39239923 | 10×AGA | G | AGA |\n",
       "| schp689 | 8693 | 22649 | 0.38381385 | 10×AGA | H | AGA |\n",
       "| schp679 | 2528 | 19906 | 0.12699689 | 10×AAG | A | AAG |\n",
       "| schp675 | 3687 | 20438 | 0.18039926 | 10×AAG | B | AAG |\n",
       "| schp681 | 3705 | 20227 | 0.18317101 | 10×AAG | C | AAG |\n",
       "| schp678 | 4378 | 20630 | 0.21221522 | 10×AAG | D | AAG |\n",
       "| schp677 | 3967 | 20604 | 0.19253543 | 10×AAG | E | AAG |\n",
       "| schp676 | 2657 | 20223 | 0.13138506 | 10×AAG | F | AAG |\n",
       "| schp674 | 1270 | 20316 | 0.06251231 | 10×AAG | G | AAG |\n",
       "| schp680 | 1117 | 19377 | 0.05764566 | 10×AAG | H | AAG |\n",
       "\n"
      ],
      "text/plain": [
       "   strain  mean_yfp mean_rfp mean_ratio insert_sequence kozak_region codon\n",
       "1  schp688 1748     20754    0.08422473 10×AGA          A            AGA  \n",
       "2  schp684 3294     20585    0.16001943 10×AGA          B            AGA  \n",
       "3  schp690 3535     20593    0.17166027 10×AGA          C            AGA  \n",
       "4  schp687 4658     20860    0.22329818 10×AGA          D            AGA  \n",
       "5  schp686 5000     21171    0.23617212 10×AGA          E            AGA  \n",
       "6  schp685 7379     22956    0.32144102 10×AGA          F            AGA  \n",
       "7  schp683 9365     23866    0.39239923 10×AGA          G            AGA  \n",
       "8  schp689 8693     22649    0.38381385 10×AGA          H            AGA  \n",
       "9  schp679 2528     19906    0.12699689 10×AAG          A            AAG  \n",
       "10 schp675 3687     20438    0.18039926 10×AAG          B            AAG  \n",
       "11 schp681 3705     20227    0.18317101 10×AAG          C            AAG  \n",
       "12 schp678 4378     20630    0.21221522 10×AAG          D            AAG  \n",
       "13 schp677 3967     20604    0.19253543 10×AAG          E            AAG  \n",
       "14 schp676 2657     20223    0.13138506 10×AAG          F            AAG  \n",
       "15 schp674 1270     20316    0.06251231 10×AAG          G            AAG  \n",
       "16 schp680 1117     19377    0.05764566 10×AAG          H            AAG  "
      ]
     },
     "metadata": {},
     "output_type": "display_data"
    }
   ],
   "source": [
    "data %>% \n",
    "  mutate(mean_ratio = mean_yfp / mean_rfp) %>%\n",
    "  left_join(annotations, by = \"strain\") %>% \n",
    "  mutate(codon = str_extract(insert_sequence, \"[A-Z]{3}$\"))"
   ]
  },
  {
   "cell_type": "markdown",
   "metadata": {},
   "source": [
    "---"
   ]
  },
  {
   "cell_type": "markdown",
   "metadata": {},
   "source": [
    "# 5. In-class data transformation exercises\n",
    "\n",
    "(20 min)"
   ]
  },
  {
   "cell_type": "markdown",
   "metadata": {},
   "source": [
    "## 1. Create log2-transformed YFP/RFP ratio as a new column\n",
    "\n",
    "Google for `log2 R` to find the appropriate function"
   ]
  },
  {
   "cell_type": "code",
   "execution_count": null,
   "metadata": {
    "vscode": {
     "languageId": "r"
    }
   },
   "outputs": [
    {
     "name": "stderr",
     "output_type": "stream",
     "text": [
      "\u001b[1mRows: \u001b[22m\u001b[34m16\u001b[39m \u001b[1mColumns: \u001b[22m\u001b[34m3\u001b[39m\n",
      "\u001b[36m──\u001b[39m \u001b[1mColumn specification\u001b[22m \u001b[36m────────────────────────────────────────────────────────\u001b[39m\n",
      "\u001b[1mDelimiter:\u001b[22m \"\\t\"\n",
      "\u001b[31mchr\u001b[39m (1): strain\n",
      "\u001b[32mdbl\u001b[39m (2): mean_yfp, mean_rfp\n",
      "\n",
      "\u001b[36mℹ\u001b[39m Use `spec()` to retrieve the full column specification for this data.\n",
      "\u001b[36mℹ\u001b[39m Specify the column types or set `show_col_types = FALSE` to quiet this message.\n"
     ]
    }
   ],
   "source": [
    "data <- read_tsv(\"data/example_dataset_2.tsv\")"
   ]
  },
  {
   "cell_type": "markdown",
   "metadata": {},
   "source": [
    "## 2. Extract strain number from the `strain` column into a new column and sort numerically by strain number\n",
    "\n",
    "Extract the strain number using a `stringr` function.\n",
    "\n",
    "Google for `character to integer R` to find appropriate function to use in `mutate`.\n",
    "\n",
    "Then sort."
   ]
  },
  {
   "cell_type": "code",
   "execution_count": null,
   "metadata": {
    "vscode": {
     "languageId": "r"
    }
   },
   "outputs": [
    {
     "name": "stderr",
     "output_type": "stream",
     "text": [
      "\u001b[1mRows: \u001b[22m\u001b[34m17\u001b[39m \u001b[1mColumns: \u001b[22m\u001b[34m3\u001b[39m\n",
      "\u001b[36m──\u001b[39m \u001b[1mColumn specification\u001b[22m \u001b[36m────────────────────────────────────────────────────────\u001b[39m\n",
      "\u001b[1mDelimiter:\u001b[22m \"\\t\"\n",
      "\u001b[31mchr\u001b[39m (3): strain, insert_sequence, kozak_region\n",
      "\n",
      "\u001b[36mℹ\u001b[39m Use `spec()` to retrieve the full column specification for this data.\n",
      "\u001b[36mℹ\u001b[39m Specify the column types or set `show_col_types = FALSE` to quiet this message.\n"
     ]
    },
    {
     "data": {
      "text/html": [
       "<table class=\"dataframe\">\n",
       "<caption>A spec_tbl_df: 17 × 3</caption>\n",
       "<thead>\n",
       "\t<tr><th scope=col>strain</th><th scope=col>insert_sequence</th><th scope=col>kozak_region</th></tr>\n",
       "\t<tr><th scope=col>&lt;chr&gt;</th><th scope=col>&lt;chr&gt;</th><th scope=col>&lt;chr&gt;</th></tr>\n",
       "</thead>\n",
       "<tbody>\n",
       "\t<tr><td>schp674</td><td>10×AAG</td><td>G </td></tr>\n",
       "\t<tr><td>schp675</td><td>10×AAG</td><td>B </td></tr>\n",
       "\t<tr><td>schp676</td><td>10×AAG</td><td>F </td></tr>\n",
       "\t<tr><td>schp677</td><td>10×AAG</td><td>E </td></tr>\n",
       "\t<tr><td>schp678</td><td>10×AAG</td><td>D </td></tr>\n",
       "\t<tr><td>schp679</td><td>10×AAG</td><td>A </td></tr>\n",
       "\t<tr><td>schp680</td><td>10×AAG</td><td>H </td></tr>\n",
       "\t<tr><td>schp681</td><td>10×AAG</td><td>C </td></tr>\n",
       "\t<tr><td>schp683</td><td>10×AGA</td><td>G </td></tr>\n",
       "\t<tr><td>schp684</td><td>10×AGA</td><td>B </td></tr>\n",
       "\t<tr><td>schp685</td><td>10×AGA</td><td>F </td></tr>\n",
       "\t<tr><td>schp686</td><td>10×AGA</td><td>E </td></tr>\n",
       "\t<tr><td>schp687</td><td>10×AGA</td><td>D </td></tr>\n",
       "\t<tr><td>schp688</td><td>10×AGA</td><td>A </td></tr>\n",
       "\t<tr><td>schp689</td><td>10×AGA</td><td>H </td></tr>\n",
       "\t<tr><td>schp690</td><td>10×AGA</td><td>C </td></tr>\n",
       "\t<tr><td>control</td><td>NA    </td><td>NA</td></tr>\n",
       "</tbody>\n",
       "</table>\n"
      ],
      "text/latex": [
       "A spec\\_tbl\\_df: 17 × 3\n",
       "\\begin{tabular}{lll}\n",
       " strain & insert\\_sequence & kozak\\_region\\\\\n",
       " <chr> & <chr> & <chr>\\\\\n",
       "\\hline\n",
       "\t schp674 & 10×AAG & G \\\\\n",
       "\t schp675 & 10×AAG & B \\\\\n",
       "\t schp676 & 10×AAG & F \\\\\n",
       "\t schp677 & 10×AAG & E \\\\\n",
       "\t schp678 & 10×AAG & D \\\\\n",
       "\t schp679 & 10×AAG & A \\\\\n",
       "\t schp680 & 10×AAG & H \\\\\n",
       "\t schp681 & 10×AAG & C \\\\\n",
       "\t schp683 & 10×AGA & G \\\\\n",
       "\t schp684 & 10×AGA & B \\\\\n",
       "\t schp685 & 10×AGA & F \\\\\n",
       "\t schp686 & 10×AGA & E \\\\\n",
       "\t schp687 & 10×AGA & D \\\\\n",
       "\t schp688 & 10×AGA & A \\\\\n",
       "\t schp689 & 10×AGA & H \\\\\n",
       "\t schp690 & 10×AGA & C \\\\\n",
       "\t control & NA     & NA\\\\\n",
       "\\end{tabular}\n"
      ],
      "text/markdown": [
       "\n",
       "A spec_tbl_df: 17 × 3\n",
       "\n",
       "| strain &lt;chr&gt; | insert_sequence &lt;chr&gt; | kozak_region &lt;chr&gt; |\n",
       "|---|---|---|\n",
       "| schp674 | 10×AAG | G  |\n",
       "| schp675 | 10×AAG | B  |\n",
       "| schp676 | 10×AAG | F  |\n",
       "| schp677 | 10×AAG | E  |\n",
       "| schp678 | 10×AAG | D  |\n",
       "| schp679 | 10×AAG | A  |\n",
       "| schp680 | 10×AAG | H  |\n",
       "| schp681 | 10×AAG | C  |\n",
       "| schp683 | 10×AGA | G  |\n",
       "| schp684 | 10×AGA | B  |\n",
       "| schp685 | 10×AGA | F  |\n",
       "| schp686 | 10×AGA | E  |\n",
       "| schp687 | 10×AGA | D  |\n",
       "| schp688 | 10×AGA | A  |\n",
       "| schp689 | 10×AGA | H  |\n",
       "| schp690 | 10×AGA | C  |\n",
       "| control | NA     | NA |\n",
       "\n"
      ],
      "text/plain": [
       "   strain  insert_sequence kozak_region\n",
       "1  schp674 10×AAG          G           \n",
       "2  schp675 10×AAG          B           \n",
       "3  schp676 10×AAG          F           \n",
       "4  schp677 10×AAG          E           \n",
       "5  schp678 10×AAG          D           \n",
       "6  schp679 10×AAG          A           \n",
       "7  schp680 10×AAG          H           \n",
       "8  schp681 10×AAG          C           \n",
       "9  schp683 10×AGA          G           \n",
       "10 schp684 10×AGA          B           \n",
       "11 schp685 10×AGA          F           \n",
       "12 schp686 10×AGA          E           \n",
       "13 schp687 10×AGA          D           \n",
       "14 schp688 10×AGA          A           \n",
       "15 schp689 10×AGA          H           \n",
       "16 schp690 10×AGA          C           \n",
       "17 control NA              NA          "
      ]
     },
     "metadata": {},
     "output_type": "display_data"
    }
   ],
   "source": [
    "annotations <- read_tsv(\"data/example_dataset_3.tsv\")\n",
    "\n",
    "annotations"
   ]
  },
  {
   "cell_type": "markdown",
   "metadata": {},
   "source": [
    "## 3. Plot with the X axis as `kozak_region` but sorted by strain number\n",
    "\n",
    "This requires a bit more reading and discussion, but it is a good example of how to learn new `tidyverse` functions on your own!\n",
    "\n",
    "Use [fct_reorder](https://forcats.tidyverse.org/reference/fct_reorder.html) function from the [`forcats`](https://forcats.tidyverse.org/reference/index.html) package to sort `kozak_region` by strain number you created above in a `mutate` step and then feed it into `ggplot`."
   ]
  },
  {
   "cell_type": "code",
   "execution_count": null,
   "metadata": {
    "vscode": {
     "languageId": "r"
    }
   },
   "outputs": [
    {
     "data": {
      "image/png": "[encoded data removed]",
      "text/plain": [
       "plot without title"
      ]
     },
     "metadata": {
      "image/png": {
       "height": 180,
       "width": 360
      }
     },
     "output_type": "display_data"
    }
   ],
   "source": [
    "data %>% \n",
    "  mutate(mean_ratio = mean_yfp / mean_rfp) %>%\n",
    "  left_join(annotations, by = \"strain\") %>%\n",
    "  ggplot(aes(x = kozak_region, y = mean_ratio, \n",
    "             color = insert_sequence, group = insert_sequence)) +\n",
    "  geom_line() +\n",
    "  geom_point()"
   ]
  },
  {
   "cell_type": "markdown",
   "metadata": {},
   "source": [
    "---"
   ]
  },
  {
   "cell_type": "markdown",
   "metadata": {},
   "source": [
    "# 6. Grouping, summarizing, and reshaping data"
   ]
  },
  {
   "cell_type": "markdown",
   "metadata": {},
   "source": [
    "## Use `summarize` to calculate stats across rows"
   ]
  },
  {
   "cell_type": "code",
   "execution_count": null,
   "metadata": {
    "vscode": {
     "languageId": "r"
    }
   },
   "outputs": [
    {
     "name": "stderr",
     "output_type": "stream",
     "text": [
      "\u001b[1mRows: \u001b[22m\u001b[34m16\u001b[39m \u001b[1mColumns: \u001b[22m\u001b[34m3\u001b[39m\n",
      "\u001b[36m──\u001b[39m \u001b[1mColumn specification\u001b[22m \u001b[36m────────────────────────────────────────────────────────\u001b[39m\n",
      "\u001b[1mDelimiter:\u001b[22m \"\\t\"\n",
      "\u001b[31mchr\u001b[39m (1): strain\n",
      "\u001b[32mdbl\u001b[39m (2): mean_yfp, mean_rfp\n",
      "\n",
      "\u001b[36mℹ\u001b[39m Use `spec()` to retrieve the full column specification for this data.\n",
      "\u001b[36mℹ\u001b[39m Specify the column types or set `show_col_types = FALSE` to quiet this message.\n"
     ]
    }
   ],
   "source": [
    "data <- read_tsv(\"data/example_dataset_2.tsv\")"
   ]
  },
  {
   "cell_type": "code",
   "execution_count": null,
   "metadata": {
    "vscode": {
     "languageId": "r"
    }
   },
   "outputs": [
    {
     "name": "stdout",
     "output_type": "stream",
     "text": [
      "\u001b[90m# A tibble: 1 × 2\u001b[39m\n",
      "  max_yfp max_rfp\n",
      "    \u001b[3m\u001b[90m<dbl>\u001b[39m\u001b[23m   \u001b[3m\u001b[90m<dbl>\u001b[39m\u001b[23m\n",
      "\u001b[90m1\u001b[39m    \u001b[4m9\u001b[24m365   \u001b[4m2\u001b[24m\u001b[4m3\u001b[24m866\n"
     ]
    }
   ],
   "source": [
    "data %>%\n",
    "  summarize(max_yfp = max(mean_yfp),\n",
    "            max_rfp = max(mean_rfp)) %>%\n",
    "  print()"
   ]
  },
  {
   "cell_type": "markdown",
   "metadata": {},
   "source": [
    "## Other examples of summary functions:"
   ]
  },
  {
   "cell_type": "markdown",
   "metadata": {},
   "source": [
    "- `min()`\n",
    "- `mean()`\n",
    "- `sd()`\t\n",
    "- `dplyr::first()`\n",
    "- `dplyr::n()`"
   ]
  },
  {
   "cell_type": "markdown",
   "metadata": {},
   "source": [
    "## Use `group_by` to group rows by one or more columns"
   ]
  },
  {
   "cell_type": "code",
   "execution_count": null,
   "metadata": {
    "vscode": {
     "languageId": "r"
    }
   },
   "outputs": [
    {
     "name": "stderr",
     "output_type": "stream",
     "text": [
      "\u001b[1mRows: \u001b[22m\u001b[34m74\u001b[39m \u001b[1mColumns: \u001b[22m\u001b[34m4\u001b[39m\n",
      "\u001b[36m──\u001b[39m \u001b[1mColumn specification\u001b[22m \u001b[36m────────────────────────────────────────────────────────\u001b[39m\n",
      "\u001b[1mDelimiter:\u001b[22m \"\\t\"\n",
      "\u001b[31mchr\u001b[39m (1): strain\n",
      "\u001b[32mdbl\u001b[39m (3): yfp, rfp, replicate\n",
      "\n",
      "\u001b[36mℹ\u001b[39m Use `spec()` to retrieve the full column specification for this data.\n",
      "\u001b[36mℹ\u001b[39m Specify the column types or set `show_col_types = FALSE` to quiet this message.\n"
     ]
    },
    {
     "name": "stdout",
     "output_type": "stream",
     "text": [
      "\u001b[90m# A tibble: 74 × 4\u001b[39m\n",
      "   strain    yfp   rfp replicate\n",
      "   \u001b[3m\u001b[90m<chr>\u001b[39m\u001b[23m   \u001b[3m\u001b[90m<dbl>\u001b[39m\u001b[23m \u001b[3m\u001b[90m<dbl>\u001b[39m\u001b[23m     \u001b[3m\u001b[90m<dbl>\u001b[39m\u001b[23m\n",
      "\u001b[90m 1\u001b[39m schp677  \u001b[4m4\u001b[24m123 \u001b[4m2\u001b[24m\u001b[4m0\u001b[24m661         1\n",
      "\u001b[90m 2\u001b[39m schp678  \u001b[4m4\u001b[24m550 \u001b[4m2\u001b[24m\u001b[4m1\u001b[24m437         1\n",
      "\u001b[90m 3\u001b[39m schp675  \u001b[4m3\u001b[24m880 \u001b[4m2\u001b[24m\u001b[4m1\u001b[24m323         1\n",
      "\u001b[90m 4\u001b[39m schp676  \u001b[4m2\u001b[24m863 \u001b[4m2\u001b[24m\u001b[4m0\u001b[24m668         1\n",
      "\u001b[90m 5\u001b[39m schp687  \u001b[4m4\u001b[24m767 \u001b[4m2\u001b[24m\u001b[4m0\u001b[24m995         1\n",
      "\u001b[90m 6\u001b[39m schp688  \u001b[4m1\u001b[24m274 \u001b[4m2\u001b[24m\u001b[4m0\u001b[24m927         1\n",
      "\u001b[90m 7\u001b[39m schp679  \u001b[4m2\u001b[24m605 \u001b[4m2\u001b[24m\u001b[4m0\u001b[24m840         1\n",
      "\u001b[90m 8\u001b[39m schp680  \u001b[4m1\u001b[24m175 \u001b[4m2\u001b[24m\u001b[4m0\u001b[24m902         1\n",
      "\u001b[90m 9\u001b[39m schp681  \u001b[4m3\u001b[24m861 \u001b[4m2\u001b[24m\u001b[4m0\u001b[24m659         1\n",
      "\u001b[90m10\u001b[39m schp683  \u001b[4m9\u001b[24m949 \u001b[4m2\u001b[24m\u001b[4m5\u001b[24m406         1\n",
      "\u001b[90m# … with 64 more rows\u001b[39m\n"
     ]
    }
   ],
   "source": [
    "data <- read_tsv(\"data/example_dataset_4.tsv\") %>% \n",
    "  print()"
   ]
  },
  {
   "cell_type": "code",
   "execution_count": null,
   "metadata": {
    "vscode": {
     "languageId": "r"
    }
   },
   "outputs": [
    {
     "name": "stdout",
     "output_type": "stream",
     "text": [
      "\u001b[90m# A tibble: 74 × 4\u001b[39m\n",
      "\u001b[90m# Groups:   strain [16]\u001b[39m\n",
      "   strain    yfp   rfp replicate\n",
      "   \u001b[3m\u001b[90m<chr>\u001b[39m\u001b[23m   \u001b[3m\u001b[90m<dbl>\u001b[39m\u001b[23m \u001b[3m\u001b[90m<dbl>\u001b[39m\u001b[23m     \u001b[3m\u001b[90m<dbl>\u001b[39m\u001b[23m\n",
      "\u001b[90m 1\u001b[39m schp677  \u001b[4m4\u001b[24m123 \u001b[4m2\u001b[24m\u001b[4m0\u001b[24m661         1\n",
      "\u001b[90m 2\u001b[39m schp678  \u001b[4m4\u001b[24m550 \u001b[4m2\u001b[24m\u001b[4m1\u001b[24m437         1\n",
      "\u001b[90m 3\u001b[39m schp675  \u001b[4m3\u001b[24m880 \u001b[4m2\u001b[24m\u001b[4m1\u001b[24m323         1\n",
      "\u001b[90m 4\u001b[39m schp676  \u001b[4m2\u001b[24m863 \u001b[4m2\u001b[24m\u001b[4m0\u001b[24m668         1\n",
      "\u001b[90m 5\u001b[39m schp687  \u001b[4m4\u001b[24m767 \u001b[4m2\u001b[24m\u001b[4m0\u001b[24m995         1\n",
      "\u001b[90m 6\u001b[39m schp688  \u001b[4m1\u001b[24m274 \u001b[4m2\u001b[24m\u001b[4m0\u001b[24m927         1\n",
      "\u001b[90m 7\u001b[39m schp679  \u001b[4m2\u001b[24m605 \u001b[4m2\u001b[24m\u001b[4m0\u001b[24m840         1\n",
      "\u001b[90m 8\u001b[39m schp680  \u001b[4m1\u001b[24m175 \u001b[4m2\u001b[24m\u001b[4m0\u001b[24m902         1\n",
      "\u001b[90m 9\u001b[39m schp681  \u001b[4m3\u001b[24m861 \u001b[4m2\u001b[24m\u001b[4m0\u001b[24m659         1\n",
      "\u001b[90m10\u001b[39m schp683  \u001b[4m9\u001b[24m949 \u001b[4m2\u001b[24m\u001b[4m5\u001b[24m406         1\n",
      "\u001b[90m# … with 64 more rows\u001b[39m\n"
     ]
    }
   ],
   "source": [
    "data %>% \n",
    "  group_by(strain) %>%\n",
    "  print()"
   ]
  },
  {
   "cell_type": "markdown",
   "metadata": {},
   "source": [
    "## Use `group_by` + `summarize` for statistics by group"
   ]
  },
  {
   "cell_type": "code",
   "execution_count": null,
   "metadata": {
    "vscode": {
     "languageId": "r"
    }
   },
   "outputs": [
    {
     "name": "stdout",
     "output_type": "stream",
     "text": [
      "\u001b[90m# A tibble: 16 × 3\u001b[39m\n",
      "   strain  mean_yfp mean_rfp\n",
      "   \u001b[3m\u001b[90m<chr>\u001b[39m\u001b[23m      \u001b[3m\u001b[90m<dbl>\u001b[39m\u001b[23m    \u001b[3m\u001b[90m<dbl>\u001b[39m\u001b[23m\n",
      "\u001b[90m 1\u001b[39m schp674    \u001b[4m1\u001b[24m270    \u001b[4m2\u001b[24m\u001b[4m0\u001b[24m316 \n",
      "\u001b[90m 2\u001b[39m schp675    \u001b[4m3\u001b[24m687.   \u001b[4m2\u001b[24m\u001b[4m0\u001b[24m438.\n",
      "\u001b[90m 3\u001b[39m schp676    \u001b[4m2\u001b[24m656.   \u001b[4m2\u001b[24m\u001b[4m0\u001b[24m223.\n",
      "\u001b[90m 4\u001b[39m schp677    \u001b[4m3\u001b[24m967.   \u001b[4m2\u001b[24m\u001b[4m0\u001b[24m604 \n",
      "\u001b[90m 5\u001b[39m schp678    \u001b[4m4\u001b[24m378.   \u001b[4m2\u001b[24m\u001b[4m0\u001b[24m630.\n",
      "\u001b[90m 6\u001b[39m schp679    \u001b[4m2\u001b[24m528    \u001b[4m1\u001b[24m\u001b[4m9\u001b[24m906 \n",
      "\u001b[90m 7\u001b[39m schp680    \u001b[4m1\u001b[24m117.   \u001b[4m1\u001b[24m\u001b[4m9\u001b[24m377.\n",
      "\u001b[90m 8\u001b[39m schp681    \u001b[4m3\u001b[24m705    \u001b[4m2\u001b[24m\u001b[4m0\u001b[24m227 \n",
      "\u001b[90m 9\u001b[39m schp683    \u001b[4m9\u001b[24m364.   \u001b[4m2\u001b[24m\u001b[4m3\u001b[24m866.\n",
      "\u001b[90m10\u001b[39m schp684    \u001b[4m3\u001b[24m294.   \u001b[4m2\u001b[24m\u001b[4m0\u001b[24m585.\n",
      "\u001b[90m11\u001b[39m schp685    \u001b[4m7\u001b[24m379    \u001b[4m2\u001b[24m\u001b[4m2\u001b[24m956 \n",
      "\u001b[90m12\u001b[39m schp686    \u001b[4m5\u001b[24m000.   \u001b[4m2\u001b[24m\u001b[4m1\u001b[24m171.\n",
      "\u001b[90m13\u001b[39m schp687    \u001b[4m4\u001b[24m658.   \u001b[4m2\u001b[24m\u001b[4m0\u001b[24m860.\n",
      "\u001b[90m14\u001b[39m schp688    \u001b[4m1\u001b[24m748.   \u001b[4m2\u001b[24m\u001b[4m0\u001b[24m755.\n",
      "\u001b[90m15\u001b[39m schp689    \u001b[4m8\u001b[24m693.   \u001b[4m2\u001b[24m\u001b[4m2\u001b[24m650.\n",
      "\u001b[90m16\u001b[39m schp690    \u001b[4m3\u001b[24m535.   \u001b[4m2\u001b[24m\u001b[4m0\u001b[24m594.\n"
     ]
    }
   ],
   "source": [
    "data %>% \n",
    "  group_by(strain) %>%\n",
    "  summarize(mean_yfp = mean(yfp), mean_rfp = mean(rfp)) %>%\n",
    "  print()"
   ]
  },
  {
   "cell_type": "code",
   "execution_count": null,
   "metadata": {
    "vscode": {
     "languageId": "r"
    }
   },
   "outputs": [
    {
     "name": "stdout",
     "output_type": "stream",
     "text": [
      "\u001b[90m# A tibble: 16 × 5\u001b[39m\n",
      "   strain  mean_yfp mean_rfp se_yfp se_rfp\n",
      "   \u001b[3m\u001b[90m<chr>\u001b[39m\u001b[23m      \u001b[3m\u001b[90m<dbl>\u001b[39m\u001b[23m    \u001b[3m\u001b[90m<dbl>\u001b[39m\u001b[23m  \u001b[3m\u001b[90m<dbl>\u001b[39m\u001b[23m  \u001b[3m\u001b[90m<dbl>\u001b[39m\u001b[23m\n",
      "\u001b[90m 1\u001b[39m schp674    \u001b[4m1\u001b[24m270    \u001b[4m2\u001b[24m\u001b[4m0\u001b[24m316    54     717 \n",
      "\u001b[90m 2\u001b[39m schp675    \u001b[4m3\u001b[24m687.   \u001b[4m2\u001b[24m\u001b[4m0\u001b[24m438.   84.6   483.\n",
      "\u001b[90m 3\u001b[39m schp676    \u001b[4m2\u001b[24m656.   \u001b[4m2\u001b[24m\u001b[4m0\u001b[24m223.  137.    380.\n",
      "\u001b[90m 4\u001b[39m schp677    \u001b[4m3\u001b[24m967.   \u001b[4m2\u001b[24m\u001b[4m0\u001b[24m604   107.    423.\n",
      "\u001b[90m 5\u001b[39m schp678    \u001b[4m4\u001b[24m378.   \u001b[4m2\u001b[24m\u001b[4m0\u001b[24m630.  111.    575.\n",
      "\u001b[90m 6\u001b[39m schp679    \u001b[4m2\u001b[24m528    \u001b[4m1\u001b[24m\u001b[4m9\u001b[24m906    33.9  \u001b[4m1\u001b[24m034.\n",
      "\u001b[90m 7\u001b[39m schp680    \u001b[4m1\u001b[24m117.   \u001b[4m1\u001b[24m\u001b[4m9\u001b[24m377.   27.7   700.\n",
      "\u001b[90m 8\u001b[39m schp681    \u001b[4m3\u001b[24m705    \u001b[4m2\u001b[24m\u001b[4m0\u001b[24m227    90.8   469.\n",
      "\u001b[90m 9\u001b[39m schp683    \u001b[4m9\u001b[24m364.   \u001b[4m2\u001b[24m\u001b[4m3\u001b[24m866.  352.    515.\n",
      "\u001b[90m10\u001b[39m schp684    \u001b[4m3\u001b[24m294.   \u001b[4m2\u001b[24m\u001b[4m0\u001b[24m585.   49.6   318.\n",
      "\u001b[90m11\u001b[39m schp685    \u001b[4m7\u001b[24m379    \u001b[4m2\u001b[24m\u001b[4m2\u001b[24m956   194.    973.\n",
      "\u001b[90m12\u001b[39m schp686    \u001b[4m5\u001b[24m000.   \u001b[4m2\u001b[24m\u001b[4m1\u001b[24m171.   81.5   307.\n",
      "\u001b[90m13\u001b[39m schp687    \u001b[4m4\u001b[24m658.   \u001b[4m2\u001b[24m\u001b[4m0\u001b[24m860.   80.9   199.\n",
      "\u001b[90m14\u001b[39m schp688    \u001b[4m1\u001b[24m748.   \u001b[4m2\u001b[24m\u001b[4m0\u001b[24m755.  160.    203.\n",
      "\u001b[90m15\u001b[39m schp689    \u001b[4m8\u001b[24m693.   \u001b[4m2\u001b[24m\u001b[4m2\u001b[24m650.  667.   \u001b[4m1\u001b[24m045.\n",
      "\u001b[90m16\u001b[39m schp690    \u001b[4m3\u001b[24m535.   \u001b[4m2\u001b[24m\u001b[4m0\u001b[24m594.   31.0   173.\n"
     ]
    }
   ],
   "source": [
    "data %>% \n",
    "  group_by(strain) %>%\n",
    "  summarize(mean_yfp = mean(yfp), mean_rfp = mean(rfp),\n",
    "            se_yfp = sd(yfp) / sqrt(n()), \n",
    "            se_rfp = sd(rfp) / sqrt(n())) %>%\n",
    "  print()"
   ]
  },
  {
   "cell_type": "markdown",
   "metadata": {},
   "source": [
    "## `%>%` enables complex yet easily understandable data analysis pipelines"
   ]
  },
  {
   "cell_type": "code",
   "execution_count": null,
   "metadata": {
    "vscode": {
     "languageId": "r"
    }
   },
   "outputs": [
    {
     "name": "stderr",
     "output_type": "stream",
     "text": [
      "\u001b[1mRows: \u001b[22m\u001b[34m17\u001b[39m \u001b[1mColumns: \u001b[22m\u001b[34m3\u001b[39m\n",
      "\u001b[36m──\u001b[39m \u001b[1mColumn specification\u001b[22m \u001b[36m────────────────────────────────────────────────────────\u001b[39m\n",
      "\u001b[1mDelimiter:\u001b[22m \"\\t\"\n",
      "\u001b[31mchr\u001b[39m (3): strain, insert_sequence, kozak_region\n",
      "\n",
      "\u001b[36mℹ\u001b[39m Use `spec()` to retrieve the full column specification for this data.\n",
      "\u001b[36mℹ\u001b[39m Specify the column types or set `show_col_types = FALSE` to quiet this message.\n"
     ]
    },
    {
     "data": {
      "text/html": [
       "<table class=\"dataframe\">\n",
       "<caption>A spec_tbl_df: 17 × 3</caption>\n",
       "<thead>\n",
       "\t<tr><th scope=col>strain</th><th scope=col>insert_sequence</th><th scope=col>kozak_region</th></tr>\n",
       "\t<tr><th scope=col>&lt;chr&gt;</th><th scope=col>&lt;chr&gt;</th><th scope=col>&lt;chr&gt;</th></tr>\n",
       "</thead>\n",
       "<tbody>\n",
       "\t<tr><td>schp674</td><td>10×AAG</td><td>G </td></tr>\n",
       "\t<tr><td>schp675</td><td>10×AAG</td><td>B </td></tr>\n",
       "\t<tr><td>schp676</td><td>10×AAG</td><td>F </td></tr>\n",
       "\t<tr><td>schp677</td><td>10×AAG</td><td>E </td></tr>\n",
       "\t<tr><td>schp678</td><td>10×AAG</td><td>D </td></tr>\n",
       "\t<tr><td>schp679</td><td>10×AAG</td><td>A </td></tr>\n",
       "\t<tr><td>schp680</td><td>10×AAG</td><td>H </td></tr>\n",
       "\t<tr><td>schp681</td><td>10×AAG</td><td>C </td></tr>\n",
       "\t<tr><td>schp683</td><td>10×AGA</td><td>G </td></tr>\n",
       "\t<tr><td>schp684</td><td>10×AGA</td><td>B </td></tr>\n",
       "\t<tr><td>schp685</td><td>10×AGA</td><td>F </td></tr>\n",
       "\t<tr><td>schp686</td><td>10×AGA</td><td>E </td></tr>\n",
       "\t<tr><td>schp687</td><td>10×AGA</td><td>D </td></tr>\n",
       "\t<tr><td>schp688</td><td>10×AGA</td><td>A </td></tr>\n",
       "\t<tr><td>schp689</td><td>10×AGA</td><td>H </td></tr>\n",
       "\t<tr><td>schp690</td><td>10×AGA</td><td>C </td></tr>\n",
       "\t<tr><td>control</td><td>NA    </td><td>NA</td></tr>\n",
       "</tbody>\n",
       "</table>\n"
      ],
      "text/latex": [
       "A spec\\_tbl\\_df: 17 × 3\n",
       "\\begin{tabular}{lll}\n",
       " strain & insert\\_sequence & kozak\\_region\\\\\n",
       " <chr> & <chr> & <chr>\\\\\n",
       "\\hline\n",
       "\t schp674 & 10×AAG & G \\\\\n",
       "\t schp675 & 10×AAG & B \\\\\n",
       "\t schp676 & 10×AAG & F \\\\\n",
       "\t schp677 & 10×AAG & E \\\\\n",
       "\t schp678 & 10×AAG & D \\\\\n",
       "\t schp679 & 10×AAG & A \\\\\n",
       "\t schp680 & 10×AAG & H \\\\\n",
       "\t schp681 & 10×AAG & C \\\\\n",
       "\t schp683 & 10×AGA & G \\\\\n",
       "\t schp684 & 10×AGA & B \\\\\n",
       "\t schp685 & 10×AGA & F \\\\\n",
       "\t schp686 & 10×AGA & E \\\\\n",
       "\t schp687 & 10×AGA & D \\\\\n",
       "\t schp688 & 10×AGA & A \\\\\n",
       "\t schp689 & 10×AGA & H \\\\\n",
       "\t schp690 & 10×AGA & C \\\\\n",
       "\t control & NA     & NA\\\\\n",
       "\\end{tabular}\n"
      ],
      "text/markdown": [
       "\n",
       "A spec_tbl_df: 17 × 3\n",
       "\n",
       "| strain &lt;chr&gt; | insert_sequence &lt;chr&gt; | kozak_region &lt;chr&gt; |\n",
       "|---|---|---|\n",
       "| schp674 | 10×AAG | G  |\n",
       "| schp675 | 10×AAG | B  |\n",
       "| schp676 | 10×AAG | F  |\n",
       "| schp677 | 10×AAG | E  |\n",
       "| schp678 | 10×AAG | D  |\n",
       "| schp679 | 10×AAG | A  |\n",
       "| schp680 | 10×AAG | H  |\n",
       "| schp681 | 10×AAG | C  |\n",
       "| schp683 | 10×AGA | G  |\n",
       "| schp684 | 10×AGA | B  |\n",
       "| schp685 | 10×AGA | F  |\n",
       "| schp686 | 10×AGA | E  |\n",
       "| schp687 | 10×AGA | D  |\n",
       "| schp688 | 10×AGA | A  |\n",
       "| schp689 | 10×AGA | H  |\n",
       "| schp690 | 10×AGA | C  |\n",
       "| control | NA     | NA |\n",
       "\n"
      ],
      "text/plain": [
       "   strain  insert_sequence kozak_region\n",
       "1  schp674 10×AAG          G           \n",
       "2  schp675 10×AAG          B           \n",
       "3  schp676 10×AAG          F           \n",
       "4  schp677 10×AAG          E           \n",
       "5  schp678 10×AAG          D           \n",
       "6  schp679 10×AAG          A           \n",
       "7  schp680 10×AAG          H           \n",
       "8  schp681 10×AAG          C           \n",
       "9  schp683 10×AGA          G           \n",
       "10 schp684 10×AGA          B           \n",
       "11 schp685 10×AGA          F           \n",
       "12 schp686 10×AGA          E           \n",
       "13 schp687 10×AGA          D           \n",
       "14 schp688 10×AGA          A           \n",
       "15 schp689 10×AGA          H           \n",
       "16 schp690 10×AGA          C           \n",
       "17 control NA              NA          "
      ]
     },
     "metadata": {},
     "output_type": "display_data"
    }
   ],
   "source": [
    "annotations <- read_tsv(\"data/example_dataset_3.tsv\")\n",
    "\n",
    "annotations"
   ]
  },
  {
   "cell_type": "code",
   "execution_count": null,
   "metadata": {
    "vscode": {
     "languageId": "r"
    }
   },
   "outputs": [
    {
     "name": "stdout",
     "output_type": "stream",
     "text": [
      "\u001b[90m# A tibble: 16 × 6\u001b[39m\n",
      "   strain  mean_yfp mean_rfp mean_ratio insert_sequence kozak_region\n",
      "   \u001b[3m\u001b[90m<chr>\u001b[39m\u001b[23m      \u001b[3m\u001b[90m<dbl>\u001b[39m\u001b[23m    \u001b[3m\u001b[90m<dbl>\u001b[39m\u001b[23m      \u001b[3m\u001b[90m<dbl>\u001b[39m\u001b[23m \u001b[3m\u001b[90m<chr>\u001b[39m\u001b[23m           \u001b[3m\u001b[90m<chr>\u001b[39m\u001b[23m       \n",
      "\u001b[90m 1\u001b[39m schp674    \u001b[4m1\u001b[24m270    \u001b[4m2\u001b[24m\u001b[4m0\u001b[24m316      0.062\u001b[4m5\u001b[24m 10×AAG          G           \n",
      "\u001b[90m 2\u001b[39m schp675    \u001b[4m3\u001b[24m687.   \u001b[4m2\u001b[24m\u001b[4m0\u001b[24m438.     0.180  10×AAG          B           \n",
      "\u001b[90m 3\u001b[39m schp676    \u001b[4m2\u001b[24m656.   \u001b[4m2\u001b[24m\u001b[4m0\u001b[24m223.     0.131  10×AAG          F           \n",
      "\u001b[90m 4\u001b[39m schp677    \u001b[4m3\u001b[24m967.   \u001b[4m2\u001b[24m\u001b[4m0\u001b[24m604      0.193  10×AAG          E           \n",
      "\u001b[90m 5\u001b[39m schp678    \u001b[4m4\u001b[24m378.   \u001b[4m2\u001b[24m\u001b[4m0\u001b[24m630.     0.212  10×AAG          D           \n",
      "\u001b[90m 6\u001b[39m schp679    \u001b[4m2\u001b[24m528    \u001b[4m1\u001b[24m\u001b[4m9\u001b[24m906      0.127  10×AAG          A           \n",
      "\u001b[90m 7\u001b[39m schp680    \u001b[4m1\u001b[24m117.   \u001b[4m1\u001b[24m\u001b[4m9\u001b[24m377.     0.057\u001b[4m7\u001b[24m 10×AAG          H           \n",
      "\u001b[90m 8\u001b[39m schp681    \u001b[4m3\u001b[24m705    \u001b[4m2\u001b[24m\u001b[4m0\u001b[24m227      0.183  10×AAG          C           \n",
      "\u001b[90m 9\u001b[39m schp683    \u001b[4m9\u001b[24m364.   \u001b[4m2\u001b[24m\u001b[4m3\u001b[24m866.     0.392  10×AGA          G           \n",
      "\u001b[90m10\u001b[39m schp684    \u001b[4m3\u001b[24m294.   \u001b[4m2\u001b[24m\u001b[4m0\u001b[24m585.     0.160  10×AGA          B           \n",
      "\u001b[90m11\u001b[39m schp685    \u001b[4m7\u001b[24m379    \u001b[4m2\u001b[24m\u001b[4m2\u001b[24m956      0.321  10×AGA          F           \n",
      "\u001b[90m12\u001b[39m schp686    \u001b[4m5\u001b[24m000.   \u001b[4m2\u001b[24m\u001b[4m1\u001b[24m171.     0.236  10×AGA          E           \n",
      "\u001b[90m13\u001b[39m schp687    \u001b[4m4\u001b[24m658.   \u001b[4m2\u001b[24m\u001b[4m0\u001b[24m860.     0.223  10×AGA          D           \n",
      "\u001b[90m14\u001b[39m schp688    \u001b[4m1\u001b[24m748.   \u001b[4m2\u001b[24m\u001b[4m0\u001b[24m755.     0.084\u001b[4m2\u001b[24m 10×AGA          A           \n",
      "\u001b[90m15\u001b[39m schp689    \u001b[4m8\u001b[24m693.   \u001b[4m2\u001b[24m\u001b[4m2\u001b[24m650.     0.384  10×AGA          H           \n",
      "\u001b[90m16\u001b[39m schp690    \u001b[4m3\u001b[24m535.   \u001b[4m2\u001b[24m\u001b[4m0\u001b[24m594.     0.172  10×AGA          C           \n"
     ]
    }
   ],
   "source": [
    "data %>% \n",
    "  group_by(strain) %>%\n",
    "  summarize(mean_yfp = mean(yfp), mean_rfp = mean(rfp)) %>%\n",
    "  mutate(mean_ratio = mean_yfp / mean_rfp) %>%\n",
    "  left_join(annotations, by = \"strain\") %>%\n",
    "  print()"
   ]
  },
  {
   "cell_type": "markdown",
   "metadata": {},
   "source": [
    "## `%>%` and `+` if you want to plot\n"
   ]
  },
  {
   "cell_type": "code",
   "execution_count": null,
   "metadata": {
    "vscode": {
     "languageId": "r"
    }
   },
   "outputs": [
    {
     "data": {
      "image/png": "[encoded data removed]",
      "text/plain": [
       "plot without title"
      ]
     },
     "metadata": {
      "image/png": {
       "height": 180,
       "width": 300
      }
     },
     "output_type": "display_data"
    }
   ],
   "source": [
    "options(repr.plot.width = 5, repr.plot.height = 3)\n",
    "\n",
    "data %>% \n",
    "  group_by(strain) %>%\n",
    "  summarize(mean_yfp = mean(yfp), mean_rfp = mean(rfp)) %>%\n",
    "  mutate(mean_ratio = mean_yfp / mean_rfp) %>%\n",
    "  left_join(annotations, by = \"strain\") %>%\n",
    "  ggplot(aes(x = kozak_region, y = mean_ratio, \n",
    "             color = insert_sequence, group = insert_sequence)) +\n",
    "  geom_line() + \n",
    "  geom_point() +\n",
    "  theme_classic() +\n",
    "  labs(x = \"Kozak region\", y = \"Mean YFP / RFP ratio\", color = \"Insert\")"
   ]
  },
  {
   "cell_type": "markdown",
   "metadata": {},
   "source": [
    "## Re-shape data using `pivot_longer` and `pivot_wider`"
   ]
  },
  {
   "cell_type": "code",
   "execution_count": null,
   "metadata": {
    "vscode": {
     "languageId": "r"
    }
   },
   "outputs": [
    {
     "name": "stderr",
     "output_type": "stream",
     "text": [
      "\u001b[1mRows: \u001b[22m\u001b[34m74\u001b[39m \u001b[1mColumns: \u001b[22m\u001b[34m4\u001b[39m\n",
      "\u001b[36m──\u001b[39m \u001b[1mColumn specification\u001b[22m \u001b[36m────────────────────────────────────────────────────────\u001b[39m\n",
      "\u001b[1mDelimiter:\u001b[22m \"\\t\"\n",
      "\u001b[31mchr\u001b[39m (1): strain\n",
      "\u001b[32mdbl\u001b[39m (3): yfp, rfp, replicate\n",
      "\n",
      "\u001b[36mℹ\u001b[39m Use `spec()` to retrieve the full column specification for this data.\n",
      "\u001b[36mℹ\u001b[39m Specify the column types or set `show_col_types = FALSE` to quiet this message.\n"
     ]
    },
    {
     "name": "stdout",
     "output_type": "stream",
     "text": [
      "\u001b[90m# A tibble: 74 × 4\u001b[39m\n",
      "   strain    yfp   rfp replicate\n",
      "   \u001b[3m\u001b[90m<chr>\u001b[39m\u001b[23m   \u001b[3m\u001b[90m<dbl>\u001b[39m\u001b[23m \u001b[3m\u001b[90m<dbl>\u001b[39m\u001b[23m     \u001b[3m\u001b[90m<dbl>\u001b[39m\u001b[23m\n",
      "\u001b[90m 1\u001b[39m schp677  \u001b[4m4\u001b[24m123 \u001b[4m2\u001b[24m\u001b[4m0\u001b[24m661         1\n",
      "\u001b[90m 2\u001b[39m schp678  \u001b[4m4\u001b[24m550 \u001b[4m2\u001b[24m\u001b[4m1\u001b[24m437         1\n",
      "\u001b[90m 3\u001b[39m schp675  \u001b[4m3\u001b[24m880 \u001b[4m2\u001b[24m\u001b[4m1\u001b[24m323         1\n",
      "\u001b[90m 4\u001b[39m schp676  \u001b[4m2\u001b[24m863 \u001b[4m2\u001b[24m\u001b[4m0\u001b[24m668         1\n",
      "\u001b[90m 5\u001b[39m schp687  \u001b[4m4\u001b[24m767 \u001b[4m2\u001b[24m\u001b[4m0\u001b[24m995         1\n",
      "\u001b[90m 6\u001b[39m schp688  \u001b[4m1\u001b[24m274 \u001b[4m2\u001b[24m\u001b[4m0\u001b[24m927         1\n",
      "\u001b[90m 7\u001b[39m schp679  \u001b[4m2\u001b[24m605 \u001b[4m2\u001b[24m\u001b[4m0\u001b[24m840         1\n",
      "\u001b[90m 8\u001b[39m schp680  \u001b[4m1\u001b[24m175 \u001b[4m2\u001b[24m\u001b[4m0\u001b[24m902         1\n",
      "\u001b[90m 9\u001b[39m schp681  \u001b[4m3\u001b[24m861 \u001b[4m2\u001b[24m\u001b[4m0\u001b[24m659         1\n",
      "\u001b[90m10\u001b[39m schp683  \u001b[4m9\u001b[24m949 \u001b[4m2\u001b[24m\u001b[4m5\u001b[24m406         1\n",
      "\u001b[90m# … with 64 more rows\u001b[39m\n"
     ]
    }
   ],
   "source": [
    "data <- read_tsv(\"data/example_dataset_4.tsv\") %>% \n",
    "  print()"
   ]
  },
  {
   "cell_type": "markdown",
   "metadata": {},
   "source": [
    "How do you plot a histogram of both `yfp` and `rfp` as separate panels?"
   ]
  },
  {
   "cell_type": "code",
   "execution_count": null,
   "metadata": {
    "vscode": {
     "languageId": "r"
    }
   },
   "outputs": [
    {
     "name": "stdout",
     "output_type": "stream",
     "text": [
      "\u001b[90m# A tibble: 148 × 4\u001b[39m\n",
      "   strain  replicate channel value\n",
      "   \u001b[3m\u001b[90m<chr>\u001b[39m\u001b[23m       \u001b[3m\u001b[90m<dbl>\u001b[39m\u001b[23m \u001b[3m\u001b[90m<chr>\u001b[39m\u001b[23m   \u001b[3m\u001b[90m<dbl>\u001b[39m\u001b[23m\n",
      "\u001b[90m 1\u001b[39m schp677         1 yfp      \u001b[4m4\u001b[24m123\n",
      "\u001b[90m 2\u001b[39m schp677         1 rfp     \u001b[4m2\u001b[24m\u001b[4m0\u001b[24m661\n",
      "\u001b[90m 3\u001b[39m schp678         1 yfp      \u001b[4m4\u001b[24m550\n",
      "\u001b[90m 4\u001b[39m schp678         1 rfp     \u001b[4m2\u001b[24m\u001b[4m1\u001b[24m437\n",
      "\u001b[90m 5\u001b[39m schp675         1 yfp      \u001b[4m3\u001b[24m880\n",
      "\u001b[90m 6\u001b[39m schp675         1 rfp     \u001b[4m2\u001b[24m\u001b[4m1\u001b[24m323\n",
      "\u001b[90m 7\u001b[39m schp676         1 yfp      \u001b[4m2\u001b[24m863\n",
      "\u001b[90m 8\u001b[39m schp676         1 rfp     \u001b[4m2\u001b[24m\u001b[4m0\u001b[24m668\n",
      "\u001b[90m 9\u001b[39m schp687         1 yfp      \u001b[4m4\u001b[24m767\n",
      "\u001b[90m10\u001b[39m schp687         1 rfp     \u001b[4m2\u001b[24m\u001b[4m0\u001b[24m995\n",
      "\u001b[90m# … with 138 more rows\u001b[39m\n"
     ]
    }
   ],
   "source": [
    "data %>%\n",
    "  pivot_longer(c(\"yfp\", \"rfp\"), names_to = \"channel\", values_to = \"value\") %>%\n",
    "  print()"
   ]
  },
  {
   "cell_type": "code",
   "execution_count": null,
   "metadata": {
    "vscode": {
     "languageId": "r"
    }
   },
   "outputs": [
    {
     "name": "stdout",
     "output_type": "stream",
     "text": [
      "\u001b[90m# A tibble: 74 × 4\u001b[39m\n",
      "   strain  replicate   yfp   rfp\n",
      "   \u001b[3m\u001b[90m<chr>\u001b[39m\u001b[23m       \u001b[3m\u001b[90m<dbl>\u001b[39m\u001b[23m \u001b[3m\u001b[90m<dbl>\u001b[39m\u001b[23m \u001b[3m\u001b[90m<dbl>\u001b[39m\u001b[23m\n",
      "\u001b[90m 1\u001b[39m schp677         1  \u001b[4m4\u001b[24m123 \u001b[4m2\u001b[24m\u001b[4m0\u001b[24m661\n",
      "\u001b[90m 2\u001b[39m schp678         1  \u001b[4m4\u001b[24m550 \u001b[4m2\u001b[24m\u001b[4m1\u001b[24m437\n",
      "\u001b[90m 3\u001b[39m schp675         1  \u001b[4m3\u001b[24m880 \u001b[4m2\u001b[24m\u001b[4m1\u001b[24m323\n",
      "\u001b[90m 4\u001b[39m schp676         1  \u001b[4m2\u001b[24m863 \u001b[4m2\u001b[24m\u001b[4m0\u001b[24m668\n",
      "\u001b[90m 5\u001b[39m schp687         1  \u001b[4m4\u001b[24m767 \u001b[4m2\u001b[24m\u001b[4m0\u001b[24m995\n",
      "\u001b[90m 6\u001b[39m schp688         1  \u001b[4m1\u001b[24m274 \u001b[4m2\u001b[24m\u001b[4m0\u001b[24m927\n",
      "\u001b[90m 7\u001b[39m schp679         1  \u001b[4m2\u001b[24m605 \u001b[4m2\u001b[24m\u001b[4m0\u001b[24m840\n",
      "\u001b[90m 8\u001b[39m schp680         1  \u001b[4m1\u001b[24m175 \u001b[4m2\u001b[24m\u001b[4m0\u001b[24m902\n",
      "\u001b[90m 9\u001b[39m schp681         1  \u001b[4m3\u001b[24m861 \u001b[4m2\u001b[24m\u001b[4m0\u001b[24m659\n",
      "\u001b[90m10\u001b[39m schp683         1  \u001b[4m9\u001b[24m949 \u001b[4m2\u001b[24m\u001b[4m5\u001b[24m406\n",
      "\u001b[90m# … with 64 more rows\u001b[39m\n"
     ]
    }
   ],
   "source": [
    "data %>%\n",
    "  pivot_longer(c(\"yfp\", \"rfp\"), names_to = \"channel\", values_to = \"value\") %>%\n",
    "  pivot_wider(names_from = \"channel\", values_from = \"value\") %>%\n",
    "  print()"
   ]
  },
  {
   "cell_type": "markdown",
   "metadata": {},
   "source": [
    "`pivot_longer` is useful for handling distinct measurements without listing them explicitly."
   ]
  },
  {
   "cell_type": "code",
   "execution_count": null,
   "metadata": {
    "vscode": {
     "languageId": "r"
    }
   },
   "outputs": [
    {
     "data": {
      "image/png": "[encoded data removed]",
      "text/plain": [
       "plot without title"
      ]
     },
     "metadata": {
      "image/png": {
       "height": 180,
       "width": 300
      }
     },
     "output_type": "display_data"
    }
   ],
   "source": [
    "plot_data <- data %>%\n",
    "  pivot_longer(c(\"yfp\", \"rfp\"), names_to = \"channel\", values_to = \"value\")\n",
    "\n",
    "plot_data %>%\n",
    "  ggplot(aes(x = value)) +\n",
    "  facet_wrap(~ channel) +\n",
    "  geom_histogram(bins = 30) +\n",
    "  theme_bw()\n"
   ]
  },
  {
   "cell_type": "markdown",
   "metadata": {},
   "source": [
    "## Use `purrr::map` and `purrr::unnest` to read and work with tables from many files\n",
    "\n",
    "We use `list.files` and `enframe` to go from a list of files to a `tibble` quickly. Also check out `deframe`."
   ]
  },
  {
   "cell_type": "code",
   "execution_count": null,
   "metadata": {
    "vscode": {
     "languageId": "r"
    }
   },
   "outputs": [
    {
     "name": "stderr",
     "output_type": "stream",
     "text": [
      "\u001b[1mRows: \u001b[22m\u001b[34m74\u001b[39m \u001b[1mColumns: \u001b[22m\u001b[34m3\u001b[39m\n",
      "\u001b[36m──\u001b[39m \u001b[1mColumn specification\u001b[22m \u001b[36m────────────────────────────────────────────────────────\u001b[39m\n",
      "\u001b[1mDelimiter:\u001b[22m \"\\t\"\n",
      "\u001b[31mchr\u001b[39m (1): strain\n",
      "\u001b[32mdbl\u001b[39m (2): replicate, value\n",
      "\n",
      "\u001b[36mℹ\u001b[39m Use `spec()` to retrieve the full column specification for this data.\n",
      "\u001b[36mℹ\u001b[39m Specify the column types or set `show_col_types = FALSE` to quiet this message.\n",
      "\u001b[1mRows: \u001b[22m\u001b[34m74\u001b[39m \u001b[1mColumns: \u001b[22m\u001b[34m3\u001b[39m\n",
      "\u001b[36m──\u001b[39m \u001b[1mColumn specification\u001b[22m \u001b[36m────────────────────────────────────────────────────────\u001b[39m\n",
      "\u001b[1mDelimiter:\u001b[22m \"\\t\"\n",
      "\u001b[31mchr\u001b[39m (1): strain\n",
      "\u001b[32mdbl\u001b[39m (2): replicate, value\n",
      "\n",
      "\u001b[36mℹ\u001b[39m Use `spec()` to retrieve the full column specification for this data.\n",
      "\u001b[36mℹ\u001b[39m Specify the column types or set `show_col_types = FALSE` to quiet this message.\n"
     ]
    },
    {
     "name": "stdout",
     "output_type": "stream",
     "text": [
      "\u001b[90m# A tibble: 148 × 4\u001b[39m\n",
      "   strain  replicate value channel\n",
      "   \u001b[3m\u001b[90m<chr>\u001b[39m\u001b[23m       \u001b[3m\u001b[90m<dbl>\u001b[39m\u001b[23m \u001b[3m\u001b[90m<dbl>\u001b[39m\u001b[23m \u001b[3m\u001b[90m<chr>\u001b[39m\u001b[23m  \n",
      "\u001b[90m 1\u001b[39m schp677         1 \u001b[4m2\u001b[24m\u001b[4m0\u001b[24m661 rfp    \n",
      "\u001b[90m 2\u001b[39m schp678         1 \u001b[4m2\u001b[24m\u001b[4m1\u001b[24m437 rfp    \n",
      "\u001b[90m 3\u001b[39m schp675         1 \u001b[4m2\u001b[24m\u001b[4m1\u001b[24m323 rfp    \n",
      "\u001b[90m 4\u001b[39m schp676         1 \u001b[4m2\u001b[24m\u001b[4m0\u001b[24m668 rfp    \n",
      "\u001b[90m 5\u001b[39m schp687         1 \u001b[4m2\u001b[24m\u001b[4m0\u001b[24m995 rfp    \n",
      "\u001b[90m 6\u001b[39m schp688         1 \u001b[4m2\u001b[24m\u001b[4m0\u001b[24m927 rfp    \n",
      "\u001b[90m 7\u001b[39m schp679         1 \u001b[4m2\u001b[24m\u001b[4m0\u001b[24m840 rfp    \n",
      "\u001b[90m 8\u001b[39m schp680         1 \u001b[4m2\u001b[24m\u001b[4m0\u001b[24m902 rfp    \n",
      "\u001b[90m 9\u001b[39m schp681         1 \u001b[4m2\u001b[24m\u001b[4m0\u001b[24m659 rfp    \n",
      "\u001b[90m10\u001b[39m schp683         1 \u001b[4m2\u001b[24m\u001b[4m5\u001b[24m406 rfp    \n",
      "\u001b[90m# … with 138 more rows\u001b[39m\n"
     ]
    }
   ],
   "source": [
    "data <- list.files(\"data/channel_data/\", full.names = T) %>%\n",
    "  enframe(\"number\", \"file\") %>%\n",
    "  mutate(data = map(file, read_tsv)) %>%\n",
    "  unnest(data) %>%\n",
    "  mutate(channel = str_extract(file, \"[^/]+(?=.tsv)\")) %>%\n",
    "  select(-number, -file) %>%\n",
    "  print()"
   ]
  },
  {
   "cell_type": "markdown",
   "metadata": {},
   "source": [
    "# 7. In-class exercises\n",
    "\n",
    "(20 min)"
   ]
  },
  {
   "cell_type": "markdown",
   "metadata": {},
   "source": [
    "## 1. Re-shape data read above from two separate files to create columns for `yfp` and `rfp`"
   ]
  },
  {
   "cell_type": "code",
   "execution_count": null,
   "metadata": {
    "vscode": {
     "languageId": "r"
    }
   },
   "outputs": [],
   "source": []
  },
  {
   "cell_type": "markdown",
   "metadata": {},
   "source": [
    "## 2. Calculate ratio of YFP to RFP"
   ]
  },
  {
   "cell_type": "code",
   "execution_count": null,
   "metadata": {
    "vscode": {
     "languageId": "r"
    }
   },
   "outputs": [],
   "source": []
  },
  {
   "cell_type": "markdown",
   "metadata": {},
   "source": [
    "## 3. Calculate the `mean` and `standard error` of the ratio between replicates"
   ]
  },
  {
   "cell_type": "code",
   "execution_count": null,
   "metadata": {
    "vscode": {
     "languageId": "r"
    }
   },
   "outputs": [],
   "source": []
  },
  {
   "cell_type": "markdown",
   "metadata": {},
   "source": [
    "## 4. Combine data with annotations"
   ]
  },
  {
   "cell_type": "code",
   "execution_count": null,
   "metadata": {
    "vscode": {
     "languageId": "r"
    }
   },
   "outputs": [],
   "source": []
  },
  {
   "cell_type": "markdown",
   "metadata": {},
   "source": [
    "## 5. Plot the mean and standard deviation of the YFP-RFP ratio as a function of the Kozak region.\n",
    "\n",
    "Hint: You have to use `geom_errorbar()` in addition to `geom_point()` and `geom_line()`."
   ]
  },
  {
   "cell_type": "code",
   "execution_count": null,
   "metadata": {
    "vscode": {
     "languageId": "r"
    }
   },
   "outputs": [],
   "source": []
  }
 ],
 "metadata": {
  "kernelspec": {
   "display_name": "R",
   "language": "R",
   "name": "ir"
  },
  "language_info": {
   "codemirror_mode": "r",
   "file_extension": ".r",
   "mimetype": "text/x-r-source",
   "name": "R",
   "pygments_lexer": "r",
   "version": "4.1.3"
  },
  "orig_nbformat": 4
 },
 "nbformat": 4,
 "nbformat_minor": 2
}
