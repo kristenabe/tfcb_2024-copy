{
 "cells": [
  {
   "cell_type": "markdown",
   "id": "a3aee033-5aeb-43a8-bb8b-cfb69fc7a690",
   "metadata": {},
   "source": [
    "***Total: 42 points***\n",
    "\n",
    "Complete this homework by writing R code to complete the following tasks. Keep in mind:\n",
    "\n",
    "i. Empty chunks have been included where code is required\n",
    "ii. This homework requires use of data files:\n",
    "\n",
    "  - `BRCA.genome_wide_snp_6_broad_Level_3_scna.seg` (Problems 1, 2)\n",
    "  - `GIAB_highconf_v.3.3.2.vcf.gz` (Problem 3)\n",
    "  \n",
    "iv. You will be graded on your code and output results. The assignment is worth 42 points total; partial credit can be awarded.\n",
    "\n",
    "For additional resources, please refer to these links:  \n",
    "Problems 1 & 2:  \n",
    "  - https://www.bioconductor.org/packages/devel/bioc/vignettes/plyranges/inst/doc/an-introduction.html\n",
    "  - https://bioconductor.org/packages/release/bioc/vignettes/GenomicRanges/inst/doc/GenomicRangesIntroduction.html  \n",
    "Problem 3:  \n",
    "  - https://bioconductor.org/packages/release/bioc/vignettes/Rsamtools/inst/doc/Rsamtools-Overview.pdf  \n",
    "Problem 4: \n",
    "  - https://bioconductor.org/packages/release/bioc/vignettes/VariantAnnotation/inst/doc/VariantAnnotation.pdf  \n",
    "\n",
    "# Problem 1: Overlaps between genomic regions and copy number alterations. (14 points total)\n",
    "\n",
    "### Preparation\n",
    "Load copy number segment results as shown in *2.1 BED format* of *Lecture16_GenomicData.Rmd*. You will use the same file as in the lecture notes, `BRCA.genome_wide_snp_6_broad_Level_3_scna.seg`. Here is code to get you started."
   ]
  },
  {
   "cell_type": "code",
   "execution_count": 2,
   "id": "0860111c-c185-4db0-a325-74242df5cb77",
   "metadata": {
    "vscode": {
     "languageId": "r"
    }
   },
   "outputs": [],
   "source": [
    "#load packages\n",
    "suppressPackageStartupMessages({\n",
    "    library(tidyverse)\n",
    "    library(GenomicRanges)\n",
    "    library(plyranges)\n",
    "    library(VariantAnnotation)\n",
    "})"
   ]
  },
  {
   "cell_type": "code",
   "execution_count": 3,
   "id": "c16b4e1f-d699-4706-b86f-381e0424ceb8",
   "metadata": {
    "vscode": {
     "languageId": "r"
    }
   },
   "outputs": [
    {
     "data": {
      "text/plain": [
       "GRanges object with 284458 ranges and 3 metadata columns:\n",
       "           seqnames              ranges strand |                 Sample\n",
       "              <Rle>           <IRanges>  <Rle> |            <character>\n",
       "       [1]        1    3218610-95674710      * | TCGA-3C-AAAU-10A-01D..\n",
       "       [2]        1   95676511-95676518      * | TCGA-3C-AAAU-10A-01D..\n",
       "       [3]        1  95680124-167057183      * | TCGA-3C-AAAU-10A-01D..\n",
       "       [4]        1 167057495-167059336      * | TCGA-3C-AAAU-10A-01D..\n",
       "       [5]        1 167059760-181602002      * | TCGA-3C-AAAU-10A-01D..\n",
       "       ...      ...                 ...    ... .                    ...\n",
       "  [284454]       19     284018-58878226      * | TCGA-Z7-A8R6-01A-11D..\n",
       "  [284455]       20     455764-62219837      * | TCGA-Z7-A8R6-01A-11D..\n",
       "  [284456]       21   15347621-47678774      * | TCGA-Z7-A8R6-01A-11D..\n",
       "  [284457]       22   17423930-49331012      * | TCGA-Z7-A8R6-01A-11D..\n",
       "  [284458]        X   3157107-154905589      * | TCGA-Z7-A8R6-01A-11D..\n",
       "           Num_Probes Segment_Mean\n",
       "            <integer>    <numeric>\n",
       "       [1]      53225       0.0055\n",
       "       [2]          2      -1.6636\n",
       "       [3]      24886       0.0053\n",
       "       [4]          3      -1.0999\n",
       "       [5]       9213      -0.0008\n",
       "       ...        ...          ...\n",
       "  [284454]      23950      -0.1170\n",
       "  [284455]      37283       0.3435\n",
       "  [284456]      20582      -0.1117\n",
       "  [284457]      16927      -0.1231\n",
       "  [284458]      63797       0.0014\n",
       "  -------\n",
       "  seqinfo: 23 sequences from an unspecified genome; no seqlengths"
      ]
     },
     "metadata": {},
     "output_type": "display_data"
    }
   ],
   "source": [
    "segs <- read.delim(\"BRCA.genome_wide_snp_6_broad_Level_3_scna.seg\", as.is = TRUE)\n",
    "mode(segs$Chromosome) <- \"character\" \n",
    "segs[segs$Chromosome == 23, \"Chromosome\"] <- \"X\"\n",
    "segs.gr <- as(segs, \"GRanges\")\n",
    "segs.gr"
   ]
  },
  {
   "cell_type": "markdown",
   "id": "fb312886-34f9-4e60-98e1-cb947991cb01",
   "metadata": {},
   "source": [
    "### a. Find the segments in `segs.gr` that have *any* overlap with the region `chr8:128,746,347-128,755,810` (4 points)\n",
    "Print out the first five unique TCGA IDs."
   ]
  },
  {
   "cell_type": "code",
   "execution_count": 4,
   "id": "994e3f59-c2fd-4d08-9935-8236fd6242f9",
   "metadata": {
    "vscode": {
     "languageId": "r"
    }
   },
   "outputs": [
    {
     "data": {
      "text/html": [
       "<style>\n",
       ".list-inline {list-style: none; margin:0; padding: 0}\n",
       ".list-inline>li {display: inline-block}\n",
       ".list-inline>li:not(:last-child)::after {content: \"\\00b7\"; padding: 0 .5ex}\n",
       "</style>\n",
       "<ol class=list-inline><li>'TCGA-3C-AAAU-10A-01D-A41E-01'</li><li>'TCGA-3C-AAAU-01A-11D-A41E-01'</li><li>'TCGA-3C-AALI-10A-01D-A41E-01'</li><li>'TCGA-3C-AALI-01A-11D-A41E-01'</li><li>'TCGA-3C-AALJ-10A-01D-A41E-01'</li></ol>\n"
      ],
      "text/latex": [
       "\\begin{enumerate*}\n",
       "\\item 'TCGA-3C-AAAU-10A-01D-A41E-01'\n",
       "\\item 'TCGA-3C-AAAU-01A-11D-A41E-01'\n",
       "\\item 'TCGA-3C-AALI-10A-01D-A41E-01'\n",
       "\\item 'TCGA-3C-AALI-01A-11D-A41E-01'\n",
       "\\item 'TCGA-3C-AALJ-10A-01D-A41E-01'\n",
       "\\end{enumerate*}\n"
      ],
      "text/markdown": [
       "1. 'TCGA-3C-AAAU-10A-01D-A41E-01'\n",
       "2. 'TCGA-3C-AAAU-01A-11D-A41E-01'\n",
       "3. 'TCGA-3C-AALI-10A-01D-A41E-01'\n",
       "4. 'TCGA-3C-AALI-01A-11D-A41E-01'\n",
       "5. 'TCGA-3C-AALJ-10A-01D-A41E-01'\n",
       "\n",
       "\n"
      ],
      "text/plain": [
       "[1] \"TCGA-3C-AAAU-10A-01D-A41E-01\" \"TCGA-3C-AAAU-01A-11D-A41E-01\"\n",
       "[3] \"TCGA-3C-AALI-10A-01D-A41E-01\" \"TCGA-3C-AALI-01A-11D-A41E-01\"\n",
       "[5] \"TCGA-3C-AALJ-10A-01D-A41E-01\""
      ]
     },
     "metadata": {},
     "output_type": "display_data"
    }
   ],
   "source": [
    "chr8 <- GRanges(seqnames = \"8\", ranges = IRanges(start = 128746347, end = 128755810))\n",
    "\n",
    "segs.overlap <- find_overlaps(segs.gr, chr8)  \n",
    "segs.overlap$Sample[1:5]"
   ]
  },
  {
   "cell_type": "markdown",
   "id": "718c0180-55cb-411c-af90-9b091e51d091",
   "metadata": {},
   "source": [
    "### b. Find the mean of the `Segment_Mean` values for copy number segments that have *any* overlap with the region chr17:37,842,337-37,886,915. (4 points)"
   ]
  },
  {
   "cell_type": "code",
   "execution_count": 5,
   "id": "3962ce70-3f45-4d6c-ad68-4f3cd5bf65a9",
   "metadata": {
    "vscode": {
     "languageId": "r"
    }
   },
   "outputs": [
    {
     "data": {
      "text/html": [
       "0.142019742107603"
      ],
      "text/latex": [
       "0.142019742107603"
      ],
      "text/markdown": [
       "0.142019742107603"
      ],
      "text/plain": [
       "[1] 0.1420197"
      ]
     },
     "metadata": {},
     "output_type": "display_data"
    }
   ],
   "source": [
    "chr17 <- GRanges(seqnames = \"17\", ranges = IRanges(start = 37842337, end = 37886915))\n",
    "\n",
    "segs.overlap2 <- find_overlaps(segs.gr, chr17)  \n",
    "mean(segs.overlap2$Segment_Mean)"
   ]
  },
  {
   "cell_type": "markdown",
   "id": "6801dbdd-5e78-478d-a522-edebb9cf102b",
   "metadata": {},
   "source": [
    "### c. Find the patient sample distribution of copy number for `PIK3CA` (hg19). (6 points)\n",
    "Find the counts of samples with deletion (D; `Segment_Mean < -0.3`), neutral (N; `Segment_Mean >= -0.3 & Segment_Mean <= 0.3`), gain (G; `Segment_Mean > 0.3`) segments that have `any` overlap with `PIK3CA` gene coordinates.  \n"
   ]
  },
  {
   "cell_type": "code",
   "execution_count": 6,
   "id": "acf1096b-3275-4a8b-b522-71f0d5f31ab3",
   "metadata": {
    "vscode": {
     "languageId": "r"
    }
   },
   "outputs": [
    {
     "data": {
      "text/html": [
       "'Deletion counts: 17'"
      ],
      "text/latex": [
       "'Deletion counts: 17'"
      ],
      "text/markdown": [
       "'Deletion counts: 17'"
      ],
      "text/plain": [
       "[1] \"Deletion counts: 17\""
      ]
     },
     "metadata": {},
     "output_type": "display_data"
    },
    {
     "data": {
      "text/html": [
       "'Neutral counts: 2228'"
      ],
      "text/latex": [
       "'Neutral counts: 2228'"
      ],
      "text/markdown": [
       "'Neutral counts: 2228'"
      ],
      "text/plain": [
       "[1] \"Neutral counts: 2228\""
      ]
     },
     "metadata": {},
     "output_type": "display_data"
    },
    {
     "data": {
      "text/html": [
       "'Gain counts: 185'"
      ],
      "text/latex": [
       "'Gain counts: 185'"
      ],
      "text/markdown": [
       "'Gain counts: 185'"
      ],
      "text/plain": [
       "[1] \"Gain counts: 185\""
      ]
     },
     "metadata": {},
     "output_type": "display_data"
    }
   ],
   "source": [
    "PIK3CA <- GRanges(seqnames = \"3\", ranges = IRanges(start = 178866145, end = 178957881))\n",
    "PIK3A.overlap <- find_overlaps(segs.gr, PIK3CA) \n",
    "\n",
    "deletion <- PIK3A.overlap$Segment_Mean[PIK3A.overlap$Segment_Mean <= -0.3]\n",
    "paste(\"Deletion counts:\", length(deletion))\n",
    "\n",
    "neutral <- PIK3A.overlap$Segment_Mean[PIK3A.overlap$Segment_Mean >= -0.3 | PIK3A.overlap$Segment_Mean <= 0.3]\n",
    "paste(\"Neutral counts:\", length(neutral))\n",
    "\n",
    "gain <- PIK3A.overlap$Segment_Mean[PIK3A.overlap$Segment_Mean > 0.3]\n",
    "paste(\"Gain counts:\", length(gain))"
   ]
  },
  {
   "cell_type": "markdown",
   "id": "9b119c29-e953-412e-8585-5a67568e02e3",
   "metadata": {},
   "source": [
    "# Problem 2: Frequency of copy number alteration events within genomic regions. (12 points total) \n",
    "\n",
    "This problem will continue to use the copy number data stored in `segs.gr`.\n",
    "\n",
    "### a. Create a genome-wide tile of 1Mb windows for the human genome (`hg19`). (6 points)\n",
    "See *3.1 Tiling the genome* of *Lecture16_GenomicData.Rmd* for hints.\n"
   ]
  },
  {
   "cell_type": "code",
   "execution_count": null,
   "id": "11d9150e-c199-4cf9-8e2f-399f57e06cc8",
   "metadata": {
    "vscode": {
     "languageId": "r"
    }
   },
   "outputs": [
    {
     "ename": "",
     "evalue": "",
     "output_type": "error",
     "traceback": [
      "\u001b[1;31mThe Kernel crashed while executing code in the current cell or a previous cell. \n",
      "\u001b[1;31mPlease review the code in the cell(s) to identify a possible cause of the failure. \n",
      "\u001b[1;31mClick <a href='https://aka.ms/vscodeJupyterKernelCrash'>here</a> for more info. \n",
      "\u001b[1;31mView Jupyter <a href='command:jupyter.viewOutput'>log</a> for further details."
     ]
    }
   ],
   "source": [
    "slen <- seqlengths(hg19) \n",
    "tileWidth <- 1000000\n",
    "tiles <- tileGenome(seqlengths = slen, tilewidth = tileWidth, cut.last.tile.in.chrom = TRUE)\n",
    "tiles"
   ]
  },
  {
   "cell_type": "markdown",
   "id": "3601482e-48d6-41dc-9ba9-475f93ef5248",
   "metadata": {},
   "source": [
    "### b. Find the 1Mb window with the most frequent overlapping deletions. (6 points)\n",
    "Find the 1Mb windows with `any` overlap with deletion copy number segments. Assume a deletion segment is defined as a segment in `segs.gr` having `Segment_Mean < -0.3`. \n",
    "\n",
    "Return one of the 1Mb window `Granges` entry with the highest frequency (count) of deletion segments.\n",
    "\n",
    "Hint: Subset the `segs.gr` to only rows with `Segment_Mean < -0.3`. "
   ]
  },
  {
   "cell_type": "code",
   "execution_count": null,
   "id": "8bf54d13",
   "metadata": {
    "vscode": {
     "languageId": "r"
    }
   },
   "outputs": [
    {
     "ename": "ERROR",
     "evalue": "Error in eval(expr, envir, enclos): object 'segs.gr' not found\n",
     "output_type": "error",
     "traceback": [
      "Error in eval(expr, envir, enclos): object 'segs.gr' not found\nTraceback:\n"
     ]
    }
   ],
   "source": [
    "deletions <- segs.gr[segs.gr$Segment_Mean < -0.3]\n",
    "\n",
    "\n",
    "deletions.overlap <- findOverlaps(segs.gr, deletions)"
   ]
  },
  {
   "cell_type": "markdown",
   "id": "4021471d-985d-4799-879f-430f2449003c",
   "metadata": {
    "tags": []
   },
   "source": [
    "# Problem 3: Reading and annotating genomic variants (16 points total)\n",
    "\n",
    "### Preparation"
   ]
  },
  {
   "cell_type": "code",
   "execution_count": null,
   "id": "8c7719ca-d70f-4deb-9e1b-afc16586501f",
   "metadata": {
    "vscode": {
     "languageId": "r"
    }
   },
   "outputs": [],
   "source": [
    "vcfFile <- \"GIAB_highconf_v.3.3.2.vcf.gz\""
   ]
  },
  {
   "cell_type": "markdown",
   "id": "eb4f7577-631d-42be-8413-3752869511a1",
   "metadata": {},
   "source": [
    "### a. Load variant data from VCF file `GIAB_highconf_v.3.3.2.vcf.gz` for `chr8:128,700,000-129,000,000`. (4 points)\n",
    "Note: use genome build `hg19`."
   ]
  },
  {
   "cell_type": "code",
   "execution_count": null,
   "id": "d57ee51f-26a9-4ec0-9766-92ae74dbf36e",
   "metadata": {
    "vscode": {
     "languageId": "r"
    }
   },
   "outputs": [
    {
     "data": {
      "text/plain": [
       "GRanges object with 308 ranges and 5 metadata columns:\n",
       "                                seqnames              ranges strand |\n",
       "                                   <Rle>           <IRanges>  <Rle> |\n",
       "                      rs6984323        8           128706908      * |\n",
       "                      rs4478537        8           128708943      * |\n",
       "                     rs34141920        8 128710237-128710239      * |\n",
       "                     rs17772814        8           128711742      * |\n",
       "                     rs77977256        8           128713029      * |\n",
       "                            ...      ...                 ...    ... .\n",
       "                     rs10808563        8           128996845      * |\n",
       "                     rs71300287        8 128997083-128997091      * |\n",
       "              8:128997155_CTT/C        8 128997155-128997157      * |\n",
       "  8:128997161_TTCTTTCTCTTTCTC/T        8 128997161-128997175      * |\n",
       "                      rs2392884        8           128999174      * |\n",
       "                                paramRangeID             REF                ALT\n",
       "                                    <factor>  <DNAStringSet> <DNAStringSetList>\n",
       "                      rs6984323           NA               C                  T\n",
       "                      rs4478537           NA               T                  A\n",
       "                     rs34141920           NA             GCA                  G\n",
       "                     rs17772814           NA               G                  A\n",
       "                     rs77977256           NA               A                  G\n",
       "                            ...          ...             ...                ...\n",
       "                     rs10808563           NA               C                  T\n",
       "                     rs71300287           NA       TTTTCTTTC                  T\n",
       "              8:128997155_CTT/C           NA             CTT                  C\n",
       "  8:128997161_TTCTTTCTCTTTCTC/T           NA TTCTTTCTCTTTCTC                  T\n",
       "                      rs2392884           NA               A                  C\n",
       "                                     QUAL      FILTER\n",
       "                                <numeric> <character>\n",
       "                      rs6984323        50        PASS\n",
       "                      rs4478537        50        PASS\n",
       "                     rs34141920        50        PASS\n",
       "                     rs17772814        50        PASS\n",
       "                     rs77977256        50        PASS\n",
       "                            ...       ...         ...\n",
       "                     rs10808563        50        PASS\n",
       "                     rs71300287        50        PASS\n",
       "              8:128997155_CTT/C        50        PASS\n",
       "  8:128997161_TTCTTTCTCTTTCTC/T        50        PASS\n",
       "                      rs2392884        50        PASS\n",
       "  -------\n",
       "  seqinfo: 25 sequences from hg19 genome"
      ]
     },
     "metadata": {},
     "output_type": "display_data"
    }
   ],
   "source": [
    "vcfHead <- scanVcfHeader(vcfFile)\n",
    "myGRange4 <- GRanges(seqnames = \"8\", ranges = IRanges(start = 128700000, end = 129000000))\n",
    "vcf.param <- ScanVcfParam(which = myGRange4) \n",
    "vcf <- readVcf(vcfFile, genome = \"hg19\", param = vcf.param)\n",
    "rowRanges(vcf)"
   ]
  },
  {
   "cell_type": "markdown",
   "id": "cf96e3ff-0558-40b2-8d3e-8abd8508a766",
   "metadata": {},
   "source": [
    "### b. Combine the fields of the VCF genotype information into a table. (4 points)\n",
    "You may use your choice of data objects (e.g. `data.frame`)."
   ]
  },
  {
   "cell_type": "code",
   "execution_count": null,
   "id": "8a2902dd-a1c4-4fc6-a541-47b2b133af00",
   "metadata": {
    "vscode": {
     "languageId": "r"
    }
   },
   "outputs": [
    {
     "data": {
      "text/html": [
       "<table class=\"dataframe\">\n",
       "<caption>A tibble: 308 × 17</caption>\n",
       "<thead>\n",
       "\t<tr><th scope=col>ID</th><th scope=col>DPSum</th><th scope=col>platforms</th><th scope=col>platformnames</th><th scope=col>platformbias</th><th scope=col>datasets</th><th scope=col>datasetnames</th><th scope=col>datasetsmissingcall</th><th scope=col>callsets</th><th scope=col>callsetnames</th><th scope=col>varType</th><th scope=col>filt</th><th scope=col>callable</th><th scope=col>difficultregion</th><th scope=col>arbitrated</th><th scope=col>callsetwiththisuniqgenopassing</th><th scope=col>callsetwithotheruniqgenopassing</th></tr>\n",
       "\t<tr><th scope=col>&lt;chr&gt;</th><th scope=col>&lt;int&gt;</th><th scope=col>&lt;int&gt;</th><th scope=col>&lt;I&lt;list&gt;&gt;</th><th scope=col>&lt;I&lt;list&gt;&gt;</th><th scope=col>&lt;int&gt;</th><th scope=col>&lt;I&lt;list&gt;&gt;</th><th scope=col>&lt;I&lt;list&gt;&gt;</th><th scope=col>&lt;int&gt;</th><th scope=col>&lt;I&lt;list&gt;&gt;</th><th scope=col>&lt;chr&gt;</th><th scope=col>&lt;I&lt;list&gt;&gt;</th><th scope=col>&lt;I&lt;list&gt;&gt;</th><th scope=col>&lt;I&lt;list&gt;&gt;</th><th scope=col>&lt;chr&gt;</th><th scope=col>&lt;I&lt;list&gt;&gt;</th><th scope=col>&lt;I&lt;list&gt;&gt;</th></tr>\n",
       "</thead>\n",
       "<tbody>\n",
       "\t<tr><td>rs6984323              </td><td>NA</td><td>4</td><td>Illumina....</td><td></td><td>4</td><td>HiSeqPE3....</td><td>IonExome....</td><td>5</td><td>HiSeqPE3....</td><td>NA</td><td>CS_CGnor....</td><td>CS_HiSeq....</td><td>            </td><td>NA</td><td></td><td></td></tr>\n",
       "\t<tr><td>rs4478537              </td><td>NA</td><td>3</td><td>Illumina....</td><td></td><td>3</td><td>HiSeqPE3....</td><td>IonExome....</td><td>4</td><td>HiSeqPE3....</td><td>NA</td><td>            </td><td>CS_HiSeq....</td><td>            </td><td>NA</td><td></td><td></td></tr>\n",
       "\t<tr><td>rs34141920             </td><td>NA</td><td>3</td><td>Illumina....</td><td></td><td>3</td><td>HiSeqPE3....</td><td>IonExome....</td><td>4</td><td>HiSeqPE3....</td><td>NA</td><td>CS_CGnor....</td><td>CS_HiSeq....</td><td>AllRepea....</td><td>NA</td><td></td><td></td></tr>\n",
       "\t<tr><td>rs17772814             </td><td>NA</td><td>4</td><td>Illumina....</td><td></td><td>5</td><td>HiSeqPE3....</td><td>    IonExome</td><td>6</td><td>HiSeqPE3....</td><td>NA</td><td>CS_Solid....</td><td>CS_HiSeq....</td><td>            </td><td>NA</td><td></td><td></td></tr>\n",
       "\t<tr><td>rs77977256             </td><td>NA</td><td>4</td><td>Illumina....</td><td></td><td>4</td><td>HiSeqPE3....</td><td>IonExome....</td><td>5</td><td>HiSeqPE3....</td><td>NA</td><td>            </td><td>CS_HiSeq....</td><td>            </td><td>NA</td><td></td><td></td></tr>\n",
       "\t<tr><td>8:128715845_AT/A       </td><td>NA</td><td>1</td><td>    Illumina</td><td></td><td>1</td><td> HiSeqPE300x</td><td>CGnormal....</td><td>2</td><td>HiSeqPE3....</td><td>NA</td><td>CS_CGnor....</td><td>CS_HiSeq....</td><td>AllRepea....</td><td>NA</td><td></td><td></td></tr>\n",
       "\t<tr><td>rs143209301            </td><td>NA</td><td>3</td><td>Illumina....</td><td></td><td>3</td><td>HiSeqPE3....</td><td>IonExome....</td><td>4</td><td>HiSeqPE3....</td><td>NA</td><td>            </td><td>CS_HiSeq....</td><td>            </td><td>NA</td><td></td><td></td></tr>\n",
       "\t<tr><td>rs202231913            </td><td>NA</td><td>1</td><td>    Illumina</td><td></td><td>1</td><td> HiSeqPE300x</td><td>CGnormal....</td><td>2</td><td>HiSeqPE3....</td><td>NA</td><td>            </td><td>CS_HiSeq....</td><td>AllRepea....</td><td>NA</td><td></td><td></td></tr>\n",
       "\t<tr><td>rs16902340             </td><td>NA</td><td>4</td><td>Illumina....</td><td></td><td>4</td><td>HiSeqPE3....</td><td>IonExome....</td><td>5</td><td>HiSeqPE3....</td><td>NA</td><td>            </td><td>CS_HiSeq....</td><td>            </td><td>NA</td><td></td><td></td></tr>\n",
       "\t<tr><td>rs7841229              </td><td>NA</td><td>4</td><td>Illumina....</td><td></td><td>4</td><td>HiSeqPE3....</td><td>IonExome....</td><td>5</td><td>HiSeqPE3....</td><td>NA</td><td>            </td><td>CS_HiSeq....</td><td>AllRepea....</td><td>NA</td><td></td><td></td></tr>\n",
       "\t<tr><td>rs75797214             </td><td>NA</td><td>3</td><td>CG, Illu....</td><td></td><td>3</td><td>CGnormal....</td><td>IonExome....</td><td>4</td><td>CGnormal....</td><td>NA</td><td>            </td><td>CS_CGnor....</td><td>            </td><td>NA</td><td></td><td></td></tr>\n",
       "\t<tr><td>rs72718535             </td><td>NA</td><td>4</td><td>Illumina....</td><td></td><td>4</td><td>HiSeqPE3....</td><td>IonExome....</td><td>5</td><td>HiSeqPE3....</td><td>NA</td><td>CS_HiSeq....</td><td>CS_HiSeq....</td><td>            </td><td>NA</td><td></td><td></td></tr>\n",
       "\t<tr><td>rs34040552             </td><td>NA</td><td>3</td><td>Illumina....</td><td></td><td>3</td><td>HiSeqPE3....</td><td>IonExome....</td><td>4</td><td>HiSeqPE3....</td><td>NA</td><td>CS_10XGA....</td><td>CS_HiSeq....</td><td>AllRepea....</td><td>NA</td><td></td><td></td></tr>\n",
       "\t<tr><td>rs4733548              </td><td>NA</td><td>4</td><td>Illumina....</td><td></td><td>5</td><td>HiSeqPE3....</td><td>    IonExome</td><td>6</td><td>HiSeqPE3....</td><td>NA</td><td>            </td><td>CS_HiSeq....</td><td>            </td><td>NA</td><td></td><td></td></tr>\n",
       "\t<tr><td>rs16902359             </td><td>NA</td><td>4</td><td>Illumina....</td><td></td><td>5</td><td>HiSeqPE3....</td><td>    IonExome</td><td>6</td><td>HiSeqPE3....</td><td>NA</td><td>            </td><td>CS_HiSeq....</td><td>            </td><td>NA</td><td></td><td></td></tr>\n",
       "\t<tr><td>rs373242130            </td><td>NA</td><td>1</td><td>    Illumina</td><td></td><td>1</td><td> HiSeqPE300x</td><td>CGnormal....</td><td>2</td><td>HiSeqPE3....</td><td>NA</td><td>            </td><td>CS_HiSeq....</td><td>AllRepea....</td><td>NA</td><td></td><td></td></tr>\n",
       "\t<tr><td>rs16902364             </td><td>NA</td><td>4</td><td>Illumina....</td><td></td><td>4</td><td>HiSeqPE3....</td><td>IonExome....</td><td>5</td><td>HiSeqPE3....</td><td>NA</td><td>            </td><td>CS_HiSeq....</td><td>            </td><td>NA</td><td></td><td></td></tr>\n",
       "\t<tr><td>rs3824120              </td><td>NA</td><td>4</td><td>Illumina....</td><td></td><td>4</td><td>HiSeqPE3....</td><td>IonExome....</td><td>5</td><td>HiSeqPE3....</td><td>NA</td><td>CS_10XGA....</td><td>CS_HiSeq....</td><td>            </td><td>NA</td><td></td><td></td></tr>\n",
       "\t<tr><td>8:128759740_A/AAAT     </td><td>NA</td><td>2</td><td>Illumina....</td><td></td><td>2</td><td>HiSeqPE3....</td><td>CGnormal....</td><td>3</td><td>HiSeqPE3....</td><td>NA</td><td>            </td><td>CS_HiSeq....</td><td>AllRepea....</td><td>NA</td><td></td><td></td></tr>\n",
       "\t<tr><td>8:128759977_A/ATATTTATT</td><td>NA</td><td>2</td><td>Illumina....</td><td></td><td>2</td><td>HiSeqPE3....</td><td>CGnormal....</td><td>3</td><td>HiSeqPE3....</td><td>NA</td><td>            </td><td>CS_HiSeq....</td><td>AllRepea....</td><td>NA</td><td></td><td></td></tr>\n",
       "\t<tr><td>rs6470569              </td><td>NA</td><td>4</td><td>Illumina....</td><td></td><td>5</td><td>HiSeqPE3....</td><td>    IonExome</td><td>6</td><td>HiSeqPE3....</td><td>NA</td><td>CS_HiSeq....</td><td>CS_HiSeq....</td><td>            </td><td>NA</td><td></td><td></td></tr>\n",
       "\t<tr><td>rs4733550              </td><td>NA</td><td>4</td><td>Illumina....</td><td></td><td>5</td><td>HiSeqPE3....</td><td>    IonExome</td><td>6</td><td>HiSeqPE3....</td><td>NA</td><td>            </td><td>CS_HiSeq....</td><td>            </td><td>NA</td><td></td><td></td></tr>\n",
       "\t<tr><td>rs6984658              </td><td>NA</td><td>3</td><td>Illumina....</td><td></td><td>3</td><td>HiSeqPE3....</td><td>IonExome....</td><td>4</td><td>HiSeqPE3....</td><td>NA</td><td>            </td><td>CS_HiSeq....</td><td>            </td><td>NA</td><td></td><td></td></tr>\n",
       "\t<tr><td>rs6470573              </td><td>NA</td><td>4</td><td>Illumina....</td><td></td><td>5</td><td>HiSeqPE3....</td><td>    IonExome</td><td>6</td><td>HiSeqPE3....</td><td>NA</td><td>CS_Solid....</td><td>CS_HiSeq....</td><td>            </td><td>NA</td><td></td><td></td></tr>\n",
       "\t<tr><td>rs6470574              </td><td>NA</td><td>4</td><td>Illumina....</td><td></td><td>4</td><td>HiSeqPE3....</td><td>IonExome....</td><td>5</td><td>HiSeqPE3....</td><td>NA</td><td>CS_Solid....</td><td>CS_HiSeq....</td><td>            </td><td>NA</td><td></td><td></td></tr>\n",
       "\t<tr><td>rs6988558              </td><td>NA</td><td>4</td><td>Illumina....</td><td></td><td>5</td><td>HiSeqPE3....</td><td>    IonExome</td><td>6</td><td>HiSeqPE3....</td><td>NA</td><td>            </td><td>CS_HiSeq....</td><td>            </td><td>NA</td><td></td><td></td></tr>\n",
       "\t<tr><td>rs3931652              </td><td>NA</td><td>3</td><td>Illumina....</td><td></td><td>3</td><td>HiSeqPE3....</td><td>IonExome....</td><td>4</td><td>HiSeqPE3....</td><td>NA</td><td>            </td><td>CS_HiSeq....</td><td>            </td><td>NA</td><td></td><td></td></tr>\n",
       "\t<tr><td>rs144442792            </td><td>NA</td><td>3</td><td>Illumina....</td><td></td><td>3</td><td>HiSeqPE3....</td><td>IonExome....</td><td>4</td><td>HiSeqPE3....</td><td>NA</td><td>CS_CGnor....</td><td>CS_HiSeq....</td><td>AllRepea....</td><td>NA</td><td></td><td></td></tr>\n",
       "\t<tr><td>rs12543377             </td><td>NA</td><td>3</td><td>Illumina....</td><td></td><td>3</td><td>HiSeqPE3....</td><td>IonExome....</td><td>4</td><td>HiSeqPE3....</td><td>NA</td><td>            </td><td>CS_HiSeq....</td><td>            </td><td>NA</td><td></td><td></td></tr>\n",
       "\t<tr><td>rs56288936             </td><td>NA</td><td>3</td><td>Illumina....</td><td></td><td>3</td><td>HiSeqPE3....</td><td>CGnormal....</td><td>4</td><td>HiSeqPE3....</td><td>NA</td><td>CS_Solid....</td><td>CS_HiSeq....</td><td>AllRepea....</td><td>NA</td><td></td><td></td></tr>\n",
       "\t<tr><td>⋮</td><td>⋮</td><td>⋮</td><td>⋮</td><td>⋮</td><td>⋮</td><td>⋮</td><td>⋮</td><td>⋮</td><td>⋮</td><td>⋮</td><td>⋮</td><td>⋮</td><td>⋮</td><td>⋮</td><td>⋮</td><td>⋮</td></tr>\n",
       "\t<tr><td>rs752429                     </td><td>NA</td><td>4</td><td>Illumina....</td><td></td><td>4</td><td>HiSeqPE3....</td><td>IonExome....</td><td>5</td><td>HiSeqPE3....</td><td>NA</td><td>            </td><td>CS_HiSeq....</td><td>            </td><td>NA</td><td></td><td></td></tr>\n",
       "\t<tr><td>rs4733584                    </td><td>NA</td><td>4</td><td>Illumina....</td><td></td><td>4</td><td>HiSeqPE3....</td><td>IonExome....</td><td>5</td><td>HiSeqPE3....</td><td>NA</td><td>            </td><td>CS_HiSeq....</td><td>            </td><td>NA</td><td></td><td></td></tr>\n",
       "\t<tr><td>rs7015112                    </td><td>NA</td><td>4</td><td>Illumina....</td><td></td><td>4</td><td>HiSeqPE3....</td><td>IonExome....</td><td>5</td><td>HiSeqPE3....</td><td>NA</td><td>            </td><td>CS_HiSeq....</td><td>            </td><td>NA</td><td></td><td></td></tr>\n",
       "\t<tr><td>rs6981683                    </td><td>NA</td><td>3</td><td>Illumina....</td><td></td><td>3</td><td>HiSeqPE3....</td><td>IonExome....</td><td>4</td><td>HiSeqPE3....</td><td>NA</td><td>            </td><td>CS_HiSeq....</td><td>            </td><td>NA</td><td></td><td></td></tr>\n",
       "\t<tr><td>rs6981693                    </td><td>NA</td><td>3</td><td>Illumina....</td><td></td><td>3</td><td>HiSeqPE3....</td><td>IonExome....</td><td>4</td><td>HiSeqPE3....</td><td>NA</td><td>            </td><td>CS_HiSeq....</td><td>            </td><td>NA</td><td></td><td></td></tr>\n",
       "\t<tr><td>rs10086182                   </td><td>NA</td><td>4</td><td>Illumina....</td><td></td><td>5</td><td>HiSeqPE3....</td><td>    IonExome</td><td>6</td><td>HiSeqPE3....</td><td>NA</td><td>            </td><td>CS_HiSeq....</td><td>            </td><td>NA</td><td></td><td></td></tr>\n",
       "\t<tr><td>rs59889146                   </td><td>NA</td><td>3</td><td>Illumina....</td><td></td><td>3</td><td>HiSeqPE3....</td><td>IonExome....</td><td>4</td><td>HiSeqPE3....</td><td>NA</td><td>            </td><td>CS_HiSeq....</td><td>            </td><td>NA</td><td></td><td></td></tr>\n",
       "\t<tr><td>rs6470595                    </td><td>NA</td><td>4</td><td>Illumina....</td><td></td><td>5</td><td>HiSeqPE3....</td><td>    IonExome</td><td>6</td><td>HiSeqPE3....</td><td>NA</td><td>CS_HiSeq....</td><td>CS_HiSeq....</td><td>AllRepea....</td><td>NA</td><td></td><td></td></tr>\n",
       "\t<tr><td>rs6986528                    </td><td>NA</td><td>3</td><td>Illumina....</td><td></td><td>3</td><td>HiSeqPE3....</td><td>IonExome....</td><td>4</td><td>HiSeqPE3....</td><td>NA</td><td>            </td><td>CS_HiSeq....</td><td>            </td><td>NA</td><td></td><td></td></tr>\n",
       "\t<tr><td>rs7004744                    </td><td>NA</td><td>3</td><td>Illumina....</td><td></td><td>3</td><td>HiSeqPE3....</td><td>IonExome....</td><td>4</td><td>HiSeqPE3....</td><td>NA</td><td>            </td><td>CS_HiSeq....</td><td>            </td><td>NA</td><td></td><td></td></tr>\n",
       "\t<tr><td>rs993725                     </td><td>NA</td><td>4</td><td>Illumina....</td><td></td><td>4</td><td>HiSeqPE3....</td><td>IonExome....</td><td>5</td><td>HiSeqPE3....</td><td>NA</td><td>            </td><td>CS_HiSeq....</td><td>            </td><td>NA</td><td></td><td></td></tr>\n",
       "\t<tr><td>rs4476972                    </td><td>NA</td><td>4</td><td>Illumina....</td><td></td><td>4</td><td>HiSeqPE3....</td><td>IonExome....</td><td>5</td><td>HiSeqPE3....</td><td>NA</td><td>CS_Solid....</td><td>CS_HiSeq....</td><td>            </td><td>NA</td><td></td><td></td></tr>\n",
       "\t<tr><td>rs4733809                    </td><td>NA</td><td>4</td><td>Illumina....</td><td></td><td>5</td><td>HiSeqPE3....</td><td>    IonExome</td><td>6</td><td>HiSeqPE3....</td><td>NA</td><td>            </td><td>CS_HiSeq....</td><td>            </td><td>NA</td><td></td><td></td></tr>\n",
       "\t<tr><td>rs1834620                    </td><td>NA</td><td>3</td><td>Illumina....</td><td></td><td>3</td><td>HiSeqPE3....</td><td>IonExome....</td><td>4</td><td>HiSeqPE3....</td><td>NA</td><td>            </td><td>CS_HiSeq....</td><td>            </td><td>NA</td><td></td><td></td></tr>\n",
       "\t<tr><td>rs10617420                   </td><td>NA</td><td>3</td><td>Illumina....</td><td></td><td>3</td><td>HiSeqPE3....</td><td>IonExome....</td><td>4</td><td>HiSeqPE3....</td><td>NA</td><td>            </td><td>CS_HiSeq....</td><td>AllRepea....</td><td>NA</td><td></td><td></td></tr>\n",
       "\t<tr><td>rs6470596                    </td><td>NA</td><td>4</td><td>Illumina....</td><td></td><td>5</td><td>HiSeqPE3....</td><td>    IonExome</td><td>6</td><td>HiSeqPE3....</td><td>NA</td><td>CS_10XGA....</td><td>CS_HiSeq....</td><td>            </td><td>NA</td><td></td><td></td></tr>\n",
       "\t<tr><td>rs11343602                   </td><td>NA</td><td>3</td><td>Illumina....</td><td></td><td>3</td><td>HiSeqPE3....</td><td>IonExome....</td><td>4</td><td>HiSeqPE3....</td><td>NA</td><td>CS_10XGA....</td><td>CS_HiSeq....</td><td>AllRepea....</td><td>NA</td><td></td><td></td></tr>\n",
       "\t<tr><td>rs11993333                   </td><td>NA</td><td>3</td><td>Illumina....</td><td></td><td>4</td><td>HiSeqPE3....</td><td>10XChrom....</td><td>5</td><td>HiSeqPE3....</td><td>NA</td><td>            </td><td>CS_HiSeq....</td><td>            </td><td>NA</td><td></td><td></td></tr>\n",
       "\t<tr><td>rs12334659                   </td><td>NA</td><td>4</td><td>Illumina....</td><td></td><td>4</td><td>HiSeqPE3....</td><td>IonExome....</td><td>5</td><td>HiSeqPE3....</td><td>NA</td><td>            </td><td>CS_HiSeq....</td><td>            </td><td>NA</td><td></td><td></td></tr>\n",
       "\t<tr><td>rs35546489                   </td><td>NA</td><td>2</td><td>Illumina....</td><td></td><td>2</td><td>HiSeqPE3....</td><td>CGnormal....</td><td>3</td><td>HiSeqPE3....</td><td>NA</td><td>CS_HiSeq....</td><td>CS_HiSeq....</td><td>AllRepea....</td><td>NA</td><td></td><td></td></tr>\n",
       "\t<tr><td>rs4733810                    </td><td>NA</td><td>3</td><td>Illumina....</td><td></td><td>3</td><td>HiSeqPE3....</td><td>IonExome....</td><td>4</td><td>HiSeqPE3....</td><td>NA</td><td>CS_HiSeq....</td><td>CS_HiSeq....</td><td>            </td><td>NA</td><td></td><td></td></tr>\n",
       "\t<tr><td>rs4733585                    </td><td>NA</td><td>3</td><td>Illumina....</td><td></td><td>3</td><td>HiSeqPE3....</td><td>IonExome....</td><td>4</td><td>HiSeqPE3....</td><td>NA</td><td>CS_HiSeq....</td><td>CS_HiSeq....</td><td>SimpleRe....</td><td>NA</td><td></td><td></td></tr>\n",
       "\t<tr><td>rs4733811                    </td><td>NA</td><td>4</td><td>Illumina....</td><td></td><td>5</td><td>HiSeqPE3....</td><td>    IonExome</td><td>6</td><td>HiSeqPE3....</td><td>NA</td><td>CS_Solid....</td><td>CS_HiSeq....</td><td>            </td><td>NA</td><td></td><td></td></tr>\n",
       "\t<tr><td>rs4637783                    </td><td>NA</td><td>4</td><td>Illumina....</td><td></td><td>5</td><td>HiSeqPE3....</td><td>    IonExome</td><td>6</td><td>HiSeqPE3....</td><td>NA</td><td>            </td><td>CS_HiSeq....</td><td>            </td><td>NA</td><td></td><td></td></tr>\n",
       "\t<tr><td>rs10956400                   </td><td>NA</td><td>4</td><td>Illumina....</td><td></td><td>5</td><td>HiSeqPE3....</td><td>    IonExome</td><td>6</td><td>HiSeqPE3....</td><td>NA</td><td>            </td><td>CS_HiSeq....</td><td>            </td><td>NA</td><td></td><td></td></tr>\n",
       "\t<tr><td>rs10808563                   </td><td>NA</td><td>4</td><td>Illumina....</td><td></td><td>5</td><td>HiSeqPE3....</td><td>    IonExome</td><td>6</td><td>HiSeqPE3....</td><td>NA</td><td>            </td><td>CS_HiSeq....</td><td>            </td><td>NA</td><td></td><td></td></tr>\n",
       "\t<tr><td>rs71300287                   </td><td>NA</td><td>1</td><td>    Illumina</td><td></td><td>1</td><td> HiSeqPE300x</td><td>CGnormal....</td><td>1</td><td>HiSeqPE3....</td><td>NA</td><td>            </td><td>CS_HiSeq....</td><td>AllRepea....</td><td>NA</td><td></td><td></td></tr>\n",
       "\t<tr><td>8:128997155_CTT/C            </td><td>NA</td><td>2</td><td>Illumina....</td><td></td><td>2</td><td>HiSeqPE3....</td><td>CGnormal....</td><td>2</td><td>HiSeqPE3....</td><td>NA</td><td>CS_HiSeq....</td><td>CS_HiSeq....</td><td>AllRepea....</td><td>NA</td><td></td><td></td></tr>\n",
       "\t<tr><td>8:128997161_TTCTTTCTCTTTCTC/T</td><td>NA</td><td>2</td><td>Illumina....</td><td></td><td>2</td><td>HiSeqPE3....</td><td>CGnormal....</td><td>2</td><td>HiSeqPE3....</td><td>NA</td><td>CS_HiSeq....</td><td>CS_HiSeq....</td><td>AllRepea....</td><td>NA</td><td></td><td></td></tr>\n",
       "\t<tr><td>rs2392884                    </td><td>NA</td><td>4</td><td>Illumina....</td><td></td><td>4</td><td>HiSeqPE3....</td><td>IonExome....</td><td>5</td><td>HiSeqPE3....</td><td>NA</td><td>            </td><td>CS_HiSeq....</td><td>            </td><td>NA</td><td></td><td></td></tr>\n",
       "</tbody>\n",
       "</table>\n"
      ],
      "text/latex": [
       "A tibble: 308 × 17\n",
       "\\begin{tabular}{lllllllllllllllll}\n",
       " ID & DPSum & platforms & platformnames & platformbias & datasets & datasetnames & datasetsmissingcall & callsets & callsetnames & varType & filt & callable & difficultregion & arbitrated & callsetwiththisuniqgenopassing & callsetwithotheruniqgenopassing\\\\\n",
       " <chr> & <int> & <int> & <I<list>> & <I<list>> & <int> & <I<list>> & <I<list>> & <int> & <I<list>> & <chr> & <I<list>> & <I<list>> & <I<list>> & <chr> & <I<list>> & <I<list>>\\\\\n",
       "\\hline\n",
       "\t rs6984323               & NA & 4 & Illumina.... &  & 4 & HiSeqPE3.... & IonExome.... & 5 & HiSeqPE3.... & NA & CS\\_CGnor.... & CS\\_HiSeq.... &              & NA &  & \\\\\n",
       "\t rs4478537               & NA & 3 & Illumina.... &  & 3 & HiSeqPE3.... & IonExome.... & 4 & HiSeqPE3.... & NA &              & CS\\_HiSeq.... &              & NA &  & \\\\\n",
       "\t rs34141920              & NA & 3 & Illumina.... &  & 3 & HiSeqPE3.... & IonExome.... & 4 & HiSeqPE3.... & NA & CS\\_CGnor.... & CS\\_HiSeq.... & AllRepea.... & NA &  & \\\\\n",
       "\t rs17772814              & NA & 4 & Illumina.... &  & 5 & HiSeqPE3.... &     IonExome & 6 & HiSeqPE3.... & NA & CS\\_Solid.... & CS\\_HiSeq.... &              & NA &  & \\\\\n",
       "\t rs77977256              & NA & 4 & Illumina.... &  & 4 & HiSeqPE3.... & IonExome.... & 5 & HiSeqPE3.... & NA &              & CS\\_HiSeq.... &              & NA &  & \\\\\n",
       "\t 8:128715845\\_AT/A        & NA & 1 &     Illumina &  & 1 &  HiSeqPE300x & CGnormal.... & 2 & HiSeqPE3.... & NA & CS\\_CGnor.... & CS\\_HiSeq.... & AllRepea.... & NA &  & \\\\\n",
       "\t rs143209301             & NA & 3 & Illumina.... &  & 3 & HiSeqPE3.... & IonExome.... & 4 & HiSeqPE3.... & NA &              & CS\\_HiSeq.... &              & NA &  & \\\\\n",
       "\t rs202231913             & NA & 1 &     Illumina &  & 1 &  HiSeqPE300x & CGnormal.... & 2 & HiSeqPE3.... & NA &              & CS\\_HiSeq.... & AllRepea.... & NA &  & \\\\\n",
       "\t rs16902340              & NA & 4 & Illumina.... &  & 4 & HiSeqPE3.... & IonExome.... & 5 & HiSeqPE3.... & NA &              & CS\\_HiSeq.... &              & NA &  & \\\\\n",
       "\t rs7841229               & NA & 4 & Illumina.... &  & 4 & HiSeqPE3.... & IonExome.... & 5 & HiSeqPE3.... & NA &              & CS\\_HiSeq.... & AllRepea.... & NA &  & \\\\\n",
       "\t rs75797214              & NA & 3 & CG, Illu.... &  & 3 & CGnormal.... & IonExome.... & 4 & CGnormal.... & NA &              & CS\\_CGnor.... &              & NA &  & \\\\\n",
       "\t rs72718535              & NA & 4 & Illumina.... &  & 4 & HiSeqPE3.... & IonExome.... & 5 & HiSeqPE3.... & NA & CS\\_HiSeq.... & CS\\_HiSeq.... &              & NA &  & \\\\\n",
       "\t rs34040552              & NA & 3 & Illumina.... &  & 3 & HiSeqPE3.... & IonExome.... & 4 & HiSeqPE3.... & NA & CS\\_10XGA.... & CS\\_HiSeq.... & AllRepea.... & NA &  & \\\\\n",
       "\t rs4733548               & NA & 4 & Illumina.... &  & 5 & HiSeqPE3.... &     IonExome & 6 & HiSeqPE3.... & NA &              & CS\\_HiSeq.... &              & NA &  & \\\\\n",
       "\t rs16902359              & NA & 4 & Illumina.... &  & 5 & HiSeqPE3.... &     IonExome & 6 & HiSeqPE3.... & NA &              & CS\\_HiSeq.... &              & NA &  & \\\\\n",
       "\t rs373242130             & NA & 1 &     Illumina &  & 1 &  HiSeqPE300x & CGnormal.... & 2 & HiSeqPE3.... & NA &              & CS\\_HiSeq.... & AllRepea.... & NA &  & \\\\\n",
       "\t rs16902364              & NA & 4 & Illumina.... &  & 4 & HiSeqPE3.... & IonExome.... & 5 & HiSeqPE3.... & NA &              & CS\\_HiSeq.... &              & NA &  & \\\\\n",
       "\t rs3824120               & NA & 4 & Illumina.... &  & 4 & HiSeqPE3.... & IonExome.... & 5 & HiSeqPE3.... & NA & CS\\_10XGA.... & CS\\_HiSeq.... &              & NA &  & \\\\\n",
       "\t 8:128759740\\_A/AAAT      & NA & 2 & Illumina.... &  & 2 & HiSeqPE3.... & CGnormal.... & 3 & HiSeqPE3.... & NA &              & CS\\_HiSeq.... & AllRepea.... & NA &  & \\\\\n",
       "\t 8:128759977\\_A/ATATTTATT & NA & 2 & Illumina.... &  & 2 & HiSeqPE3.... & CGnormal.... & 3 & HiSeqPE3.... & NA &              & CS\\_HiSeq.... & AllRepea.... & NA &  & \\\\\n",
       "\t rs6470569               & NA & 4 & Illumina.... &  & 5 & HiSeqPE3.... &     IonExome & 6 & HiSeqPE3.... & NA & CS\\_HiSeq.... & CS\\_HiSeq.... &              & NA &  & \\\\\n",
       "\t rs4733550               & NA & 4 & Illumina.... &  & 5 & HiSeqPE3.... &     IonExome & 6 & HiSeqPE3.... & NA &              & CS\\_HiSeq.... &              & NA &  & \\\\\n",
       "\t rs6984658               & NA & 3 & Illumina.... &  & 3 & HiSeqPE3.... & IonExome.... & 4 & HiSeqPE3.... & NA &              & CS\\_HiSeq.... &              & NA &  & \\\\\n",
       "\t rs6470573               & NA & 4 & Illumina.... &  & 5 & HiSeqPE3.... &     IonExome & 6 & HiSeqPE3.... & NA & CS\\_Solid.... & CS\\_HiSeq.... &              & NA &  & \\\\\n",
       "\t rs6470574               & NA & 4 & Illumina.... &  & 4 & HiSeqPE3.... & IonExome.... & 5 & HiSeqPE3.... & NA & CS\\_Solid.... & CS\\_HiSeq.... &              & NA &  & \\\\\n",
       "\t rs6988558               & NA & 4 & Illumina.... &  & 5 & HiSeqPE3.... &     IonExome & 6 & HiSeqPE3.... & NA &              & CS\\_HiSeq.... &              & NA &  & \\\\\n",
       "\t rs3931652               & NA & 3 & Illumina.... &  & 3 & HiSeqPE3.... & IonExome.... & 4 & HiSeqPE3.... & NA &              & CS\\_HiSeq.... &              & NA &  & \\\\\n",
       "\t rs144442792             & NA & 3 & Illumina.... &  & 3 & HiSeqPE3.... & IonExome.... & 4 & HiSeqPE3.... & NA & CS\\_CGnor.... & CS\\_HiSeq.... & AllRepea.... & NA &  & \\\\\n",
       "\t rs12543377              & NA & 3 & Illumina.... &  & 3 & HiSeqPE3.... & IonExome.... & 4 & HiSeqPE3.... & NA &              & CS\\_HiSeq.... &              & NA &  & \\\\\n",
       "\t rs56288936              & NA & 3 & Illumina.... &  & 3 & HiSeqPE3.... & CGnormal.... & 4 & HiSeqPE3.... & NA & CS\\_Solid.... & CS\\_HiSeq.... & AllRepea.... & NA &  & \\\\\n",
       "\t ⋮ & ⋮ & ⋮ & ⋮ & ⋮ & ⋮ & ⋮ & ⋮ & ⋮ & ⋮ & ⋮ & ⋮ & ⋮ & ⋮ & ⋮ & ⋮ & ⋮\\\\\n",
       "\t rs752429                      & NA & 4 & Illumina.... &  & 4 & HiSeqPE3.... & IonExome.... & 5 & HiSeqPE3.... & NA &              & CS\\_HiSeq.... &              & NA &  & \\\\\n",
       "\t rs4733584                     & NA & 4 & Illumina.... &  & 4 & HiSeqPE3.... & IonExome.... & 5 & HiSeqPE3.... & NA &              & CS\\_HiSeq.... &              & NA &  & \\\\\n",
       "\t rs7015112                     & NA & 4 & Illumina.... &  & 4 & HiSeqPE3.... & IonExome.... & 5 & HiSeqPE3.... & NA &              & CS\\_HiSeq.... &              & NA &  & \\\\\n",
       "\t rs6981683                     & NA & 3 & Illumina.... &  & 3 & HiSeqPE3.... & IonExome.... & 4 & HiSeqPE3.... & NA &              & CS\\_HiSeq.... &              & NA &  & \\\\\n",
       "\t rs6981693                     & NA & 3 & Illumina.... &  & 3 & HiSeqPE3.... & IonExome.... & 4 & HiSeqPE3.... & NA &              & CS\\_HiSeq.... &              & NA &  & \\\\\n",
       "\t rs10086182                    & NA & 4 & Illumina.... &  & 5 & HiSeqPE3.... &     IonExome & 6 & HiSeqPE3.... & NA &              & CS\\_HiSeq.... &              & NA &  & \\\\\n",
       "\t rs59889146                    & NA & 3 & Illumina.... &  & 3 & HiSeqPE3.... & IonExome.... & 4 & HiSeqPE3.... & NA &              & CS\\_HiSeq.... &              & NA &  & \\\\\n",
       "\t rs6470595                     & NA & 4 & Illumina.... &  & 5 & HiSeqPE3.... &     IonExome & 6 & HiSeqPE3.... & NA & CS\\_HiSeq.... & CS\\_HiSeq.... & AllRepea.... & NA &  & \\\\\n",
       "\t rs6986528                     & NA & 3 & Illumina.... &  & 3 & HiSeqPE3.... & IonExome.... & 4 & HiSeqPE3.... & NA &              & CS\\_HiSeq.... &              & NA &  & \\\\\n",
       "\t rs7004744                     & NA & 3 & Illumina.... &  & 3 & HiSeqPE3.... & IonExome.... & 4 & HiSeqPE3.... & NA &              & CS\\_HiSeq.... &              & NA &  & \\\\\n",
       "\t rs993725                      & NA & 4 & Illumina.... &  & 4 & HiSeqPE3.... & IonExome.... & 5 & HiSeqPE3.... & NA &              & CS\\_HiSeq.... &              & NA &  & \\\\\n",
       "\t rs4476972                     & NA & 4 & Illumina.... &  & 4 & HiSeqPE3.... & IonExome.... & 5 & HiSeqPE3.... & NA & CS\\_Solid.... & CS\\_HiSeq.... &              & NA &  & \\\\\n",
       "\t rs4733809                     & NA & 4 & Illumina.... &  & 5 & HiSeqPE3.... &     IonExome & 6 & HiSeqPE3.... & NA &              & CS\\_HiSeq.... &              & NA &  & \\\\\n",
       "\t rs1834620                     & NA & 3 & Illumina.... &  & 3 & HiSeqPE3.... & IonExome.... & 4 & HiSeqPE3.... & NA &              & CS\\_HiSeq.... &              & NA &  & \\\\\n",
       "\t rs10617420                    & NA & 3 & Illumina.... &  & 3 & HiSeqPE3.... & IonExome.... & 4 & HiSeqPE3.... & NA &              & CS\\_HiSeq.... & AllRepea.... & NA &  & \\\\\n",
       "\t rs6470596                     & NA & 4 & Illumina.... &  & 5 & HiSeqPE3.... &     IonExome & 6 & HiSeqPE3.... & NA & CS\\_10XGA.... & CS\\_HiSeq.... &              & NA &  & \\\\\n",
       "\t rs11343602                    & NA & 3 & Illumina.... &  & 3 & HiSeqPE3.... & IonExome.... & 4 & HiSeqPE3.... & NA & CS\\_10XGA.... & CS\\_HiSeq.... & AllRepea.... & NA &  & \\\\\n",
       "\t rs11993333                    & NA & 3 & Illumina.... &  & 4 & HiSeqPE3.... & 10XChrom.... & 5 & HiSeqPE3.... & NA &              & CS\\_HiSeq.... &              & NA &  & \\\\\n",
       "\t rs12334659                    & NA & 4 & Illumina.... &  & 4 & HiSeqPE3.... & IonExome.... & 5 & HiSeqPE3.... & NA &              & CS\\_HiSeq.... &              & NA &  & \\\\\n",
       "\t rs35546489                    & NA & 2 & Illumina.... &  & 2 & HiSeqPE3.... & CGnormal.... & 3 & HiSeqPE3.... & NA & CS\\_HiSeq.... & CS\\_HiSeq.... & AllRepea.... & NA &  & \\\\\n",
       "\t rs4733810                     & NA & 3 & Illumina.... &  & 3 & HiSeqPE3.... & IonExome.... & 4 & HiSeqPE3.... & NA & CS\\_HiSeq.... & CS\\_HiSeq.... &              & NA &  & \\\\\n",
       "\t rs4733585                     & NA & 3 & Illumina.... &  & 3 & HiSeqPE3.... & IonExome.... & 4 & HiSeqPE3.... & NA & CS\\_HiSeq.... & CS\\_HiSeq.... & SimpleRe.... & NA &  & \\\\\n",
       "\t rs4733811                     & NA & 4 & Illumina.... &  & 5 & HiSeqPE3.... &     IonExome & 6 & HiSeqPE3.... & NA & CS\\_Solid.... & CS\\_HiSeq.... &              & NA &  & \\\\\n",
       "\t rs4637783                     & NA & 4 & Illumina.... &  & 5 & HiSeqPE3.... &     IonExome & 6 & HiSeqPE3.... & NA &              & CS\\_HiSeq.... &              & NA &  & \\\\\n",
       "\t rs10956400                    & NA & 4 & Illumina.... &  & 5 & HiSeqPE3.... &     IonExome & 6 & HiSeqPE3.... & NA &              & CS\\_HiSeq.... &              & NA &  & \\\\\n",
       "\t rs10808563                    & NA & 4 & Illumina.... &  & 5 & HiSeqPE3.... &     IonExome & 6 & HiSeqPE3.... & NA &              & CS\\_HiSeq.... &              & NA &  & \\\\\n",
       "\t rs71300287                    & NA & 1 &     Illumina &  & 1 &  HiSeqPE300x & CGnormal.... & 1 & HiSeqPE3.... & NA &              & CS\\_HiSeq.... & AllRepea.... & NA &  & \\\\\n",
       "\t 8:128997155\\_CTT/C             & NA & 2 & Illumina.... &  & 2 & HiSeqPE3.... & CGnormal.... & 2 & HiSeqPE3.... & NA & CS\\_HiSeq.... & CS\\_HiSeq.... & AllRepea.... & NA &  & \\\\\n",
       "\t 8:128997161\\_TTCTTTCTCTTTCTC/T & NA & 2 & Illumina.... &  & 2 & HiSeqPE3.... & CGnormal.... & 2 & HiSeqPE3.... & NA & CS\\_HiSeq.... & CS\\_HiSeq.... & AllRepea.... & NA &  & \\\\\n",
       "\t rs2392884                     & NA & 4 & Illumina.... &  & 4 & HiSeqPE3.... & IonExome.... & 5 & HiSeqPE3.... & NA &              & CS\\_HiSeq.... &              & NA &  & \\\\\n",
       "\\end{tabular}\n"
      ],
      "text/markdown": [
       "\n",
       "A tibble: 308 × 17\n",
       "\n",
       "| ID &lt;chr&gt; | DPSum &lt;int&gt; | platforms &lt;int&gt; | platformnames &lt;I&lt;list&gt;&gt; | platformbias &lt;I&lt;list&gt;&gt; | datasets &lt;int&gt; | datasetnames &lt;I&lt;list&gt;&gt; | datasetsmissingcall &lt;I&lt;list&gt;&gt; | callsets &lt;int&gt; | callsetnames &lt;I&lt;list&gt;&gt; | varType &lt;chr&gt; | filt &lt;I&lt;list&gt;&gt; | callable &lt;I&lt;list&gt;&gt; | difficultregion &lt;I&lt;list&gt;&gt; | arbitrated &lt;chr&gt; | callsetwiththisuniqgenopassing &lt;I&lt;list&gt;&gt; | callsetwithotheruniqgenopassing &lt;I&lt;list&gt;&gt; |\n",
       "|---|---|---|---|---|---|---|---|---|---|---|---|---|---|---|---|---|\n",
       "| rs6984323               | NA | 4 | Illumina.... | <!----> | 4 | HiSeqPE3.... | IonExome.... | 5 | HiSeqPE3.... | NA | CS_CGnor.... | CS_HiSeq.... | <!----> | NA | <!----> | <!----> |\n",
       "| rs4478537               | NA | 3 | Illumina.... | <!----> | 3 | HiSeqPE3.... | IonExome.... | 4 | HiSeqPE3.... | NA | <!----> | CS_HiSeq.... | <!----> | NA | <!----> | <!----> |\n",
       "| rs34141920              | NA | 3 | Illumina.... | <!----> | 3 | HiSeqPE3.... | IonExome.... | 4 | HiSeqPE3.... | NA | CS_CGnor.... | CS_HiSeq.... | AllRepea.... | NA | <!----> | <!----> |\n",
       "| rs17772814              | NA | 4 | Illumina.... | <!----> | 5 | HiSeqPE3.... |     IonExome | 6 | HiSeqPE3.... | NA | CS_Solid.... | CS_HiSeq.... | <!----> | NA | <!----> | <!----> |\n",
       "| rs77977256              | NA | 4 | Illumina.... | <!----> | 4 | HiSeqPE3.... | IonExome.... | 5 | HiSeqPE3.... | NA | <!----> | CS_HiSeq.... | <!----> | NA | <!----> | <!----> |\n",
       "| 8:128715845_AT/A        | NA | 1 |     Illumina | <!----> | 1 |  HiSeqPE300x | CGnormal.... | 2 | HiSeqPE3.... | NA | CS_CGnor.... | CS_HiSeq.... | AllRepea.... | NA | <!----> | <!----> |\n",
       "| rs143209301             | NA | 3 | Illumina.... | <!----> | 3 | HiSeqPE3.... | IonExome.... | 4 | HiSeqPE3.... | NA | <!----> | CS_HiSeq.... | <!----> | NA | <!----> | <!----> |\n",
       "| rs202231913             | NA | 1 |     Illumina | <!----> | 1 |  HiSeqPE300x | CGnormal.... | 2 | HiSeqPE3.... | NA | <!----> | CS_HiSeq.... | AllRepea.... | NA | <!----> | <!----> |\n",
       "| rs16902340              | NA | 4 | Illumina.... | <!----> | 4 | HiSeqPE3.... | IonExome.... | 5 | HiSeqPE3.... | NA | <!----> | CS_HiSeq.... | <!----> | NA | <!----> | <!----> |\n",
       "| rs7841229               | NA | 4 | Illumina.... | <!----> | 4 | HiSeqPE3.... | IonExome.... | 5 | HiSeqPE3.... | NA | <!----> | CS_HiSeq.... | AllRepea.... | NA | <!----> | <!----> |\n",
       "| rs75797214              | NA | 3 | CG, Illu.... | <!----> | 3 | CGnormal.... | IonExome.... | 4 | CGnormal.... | NA | <!----> | CS_CGnor.... | <!----> | NA | <!----> | <!----> |\n",
       "| rs72718535              | NA | 4 | Illumina.... | <!----> | 4 | HiSeqPE3.... | IonExome.... | 5 | HiSeqPE3.... | NA | CS_HiSeq.... | CS_HiSeq.... | <!----> | NA | <!----> | <!----> |\n",
       "| rs34040552              | NA | 3 | Illumina.... | <!----> | 3 | HiSeqPE3.... | IonExome.... | 4 | HiSeqPE3.... | NA | CS_10XGA.... | CS_HiSeq.... | AllRepea.... | NA | <!----> | <!----> |\n",
       "| rs4733548               | NA | 4 | Illumina.... | <!----> | 5 | HiSeqPE3.... |     IonExome | 6 | HiSeqPE3.... | NA | <!----> | CS_HiSeq.... | <!----> | NA | <!----> | <!----> |\n",
       "| rs16902359              | NA | 4 | Illumina.... | <!----> | 5 | HiSeqPE3.... |     IonExome | 6 | HiSeqPE3.... | NA | <!----> | CS_HiSeq.... | <!----> | NA | <!----> | <!----> |\n",
       "| rs373242130             | NA | 1 |     Illumina | <!----> | 1 |  HiSeqPE300x | CGnormal.... | 2 | HiSeqPE3.... | NA | <!----> | CS_HiSeq.... | AllRepea.... | NA | <!----> | <!----> |\n",
       "| rs16902364              | NA | 4 | Illumina.... | <!----> | 4 | HiSeqPE3.... | IonExome.... | 5 | HiSeqPE3.... | NA | <!----> | CS_HiSeq.... | <!----> | NA | <!----> | <!----> |\n",
       "| rs3824120               | NA | 4 | Illumina.... | <!----> | 4 | HiSeqPE3.... | IonExome.... | 5 | HiSeqPE3.... | NA | CS_10XGA.... | CS_HiSeq.... | <!----> | NA | <!----> | <!----> |\n",
       "| 8:128759740_A/AAAT      | NA | 2 | Illumina.... | <!----> | 2 | HiSeqPE3.... | CGnormal.... | 3 | HiSeqPE3.... | NA | <!----> | CS_HiSeq.... | AllRepea.... | NA | <!----> | <!----> |\n",
       "| 8:128759977_A/ATATTTATT | NA | 2 | Illumina.... | <!----> | 2 | HiSeqPE3.... | CGnormal.... | 3 | HiSeqPE3.... | NA | <!----> | CS_HiSeq.... | AllRepea.... | NA | <!----> | <!----> |\n",
       "| rs6470569               | NA | 4 | Illumina.... | <!----> | 5 | HiSeqPE3.... |     IonExome | 6 | HiSeqPE3.... | NA | CS_HiSeq.... | CS_HiSeq.... | <!----> | NA | <!----> | <!----> |\n",
       "| rs4733550               | NA | 4 | Illumina.... | <!----> | 5 | HiSeqPE3.... |     IonExome | 6 | HiSeqPE3.... | NA | <!----> | CS_HiSeq.... | <!----> | NA | <!----> | <!----> |\n",
       "| rs6984658               | NA | 3 | Illumina.... | <!----> | 3 | HiSeqPE3.... | IonExome.... | 4 | HiSeqPE3.... | NA | <!----> | CS_HiSeq.... | <!----> | NA | <!----> | <!----> |\n",
       "| rs6470573               | NA | 4 | Illumina.... | <!----> | 5 | HiSeqPE3.... |     IonExome | 6 | HiSeqPE3.... | NA | CS_Solid.... | CS_HiSeq.... | <!----> | NA | <!----> | <!----> |\n",
       "| rs6470574               | NA | 4 | Illumina.... | <!----> | 4 | HiSeqPE3.... | IonExome.... | 5 | HiSeqPE3.... | NA | CS_Solid.... | CS_HiSeq.... | <!----> | NA | <!----> | <!----> |\n",
       "| rs6988558               | NA | 4 | Illumina.... | <!----> | 5 | HiSeqPE3.... |     IonExome | 6 | HiSeqPE3.... | NA | <!----> | CS_HiSeq.... | <!----> | NA | <!----> | <!----> |\n",
       "| rs3931652               | NA | 3 | Illumina.... | <!----> | 3 | HiSeqPE3.... | IonExome.... | 4 | HiSeqPE3.... | NA | <!----> | CS_HiSeq.... | <!----> | NA | <!----> | <!----> |\n",
       "| rs144442792             | NA | 3 | Illumina.... | <!----> | 3 | HiSeqPE3.... | IonExome.... | 4 | HiSeqPE3.... | NA | CS_CGnor.... | CS_HiSeq.... | AllRepea.... | NA | <!----> | <!----> |\n",
       "| rs12543377              | NA | 3 | Illumina.... | <!----> | 3 | HiSeqPE3.... | IonExome.... | 4 | HiSeqPE3.... | NA | <!----> | CS_HiSeq.... | <!----> | NA | <!----> | <!----> |\n",
       "| rs56288936              | NA | 3 | Illumina.... | <!----> | 3 | HiSeqPE3.... | CGnormal.... | 4 | HiSeqPE3.... | NA | CS_Solid.... | CS_HiSeq.... | AllRepea.... | NA | <!----> | <!----> |\n",
       "| ⋮ | ⋮ | ⋮ | ⋮ | ⋮ | ⋮ | ⋮ | ⋮ | ⋮ | ⋮ | ⋮ | ⋮ | ⋮ | ⋮ | ⋮ | ⋮ | ⋮ |\n",
       "| rs752429                      | NA | 4 | Illumina.... | <!----> | 4 | HiSeqPE3.... | IonExome.... | 5 | HiSeqPE3.... | NA | <!----> | CS_HiSeq.... | <!----> | NA | <!----> | <!----> |\n",
       "| rs4733584                     | NA | 4 | Illumina.... | <!----> | 4 | HiSeqPE3.... | IonExome.... | 5 | HiSeqPE3.... | NA | <!----> | CS_HiSeq.... | <!----> | NA | <!----> | <!----> |\n",
       "| rs7015112                     | NA | 4 | Illumina.... | <!----> | 4 | HiSeqPE3.... | IonExome.... | 5 | HiSeqPE3.... | NA | <!----> | CS_HiSeq.... | <!----> | NA | <!----> | <!----> |\n",
       "| rs6981683                     | NA | 3 | Illumina.... | <!----> | 3 | HiSeqPE3.... | IonExome.... | 4 | HiSeqPE3.... | NA | <!----> | CS_HiSeq.... | <!----> | NA | <!----> | <!----> |\n",
       "| rs6981693                     | NA | 3 | Illumina.... | <!----> | 3 | HiSeqPE3.... | IonExome.... | 4 | HiSeqPE3.... | NA | <!----> | CS_HiSeq.... | <!----> | NA | <!----> | <!----> |\n",
       "| rs10086182                    | NA | 4 | Illumina.... | <!----> | 5 | HiSeqPE3.... |     IonExome | 6 | HiSeqPE3.... | NA | <!----> | CS_HiSeq.... | <!----> | NA | <!----> | <!----> |\n",
       "| rs59889146                    | NA | 3 | Illumina.... | <!----> | 3 | HiSeqPE3.... | IonExome.... | 4 | HiSeqPE3.... | NA | <!----> | CS_HiSeq.... | <!----> | NA | <!----> | <!----> |\n",
       "| rs6470595                     | NA | 4 | Illumina.... | <!----> | 5 | HiSeqPE3.... |     IonExome | 6 | HiSeqPE3.... | NA | CS_HiSeq.... | CS_HiSeq.... | AllRepea.... | NA | <!----> | <!----> |\n",
       "| rs6986528                     | NA | 3 | Illumina.... | <!----> | 3 | HiSeqPE3.... | IonExome.... | 4 | HiSeqPE3.... | NA | <!----> | CS_HiSeq.... | <!----> | NA | <!----> | <!----> |\n",
       "| rs7004744                     | NA | 3 | Illumina.... | <!----> | 3 | HiSeqPE3.... | IonExome.... | 4 | HiSeqPE3.... | NA | <!----> | CS_HiSeq.... | <!----> | NA | <!----> | <!----> |\n",
       "| rs993725                      | NA | 4 | Illumina.... | <!----> | 4 | HiSeqPE3.... | IonExome.... | 5 | HiSeqPE3.... | NA | <!----> | CS_HiSeq.... | <!----> | NA | <!----> | <!----> |\n",
       "| rs4476972                     | NA | 4 | Illumina.... | <!----> | 4 | HiSeqPE3.... | IonExome.... | 5 | HiSeqPE3.... | NA | CS_Solid.... | CS_HiSeq.... | <!----> | NA | <!----> | <!----> |\n",
       "| rs4733809                     | NA | 4 | Illumina.... | <!----> | 5 | HiSeqPE3.... |     IonExome | 6 | HiSeqPE3.... | NA | <!----> | CS_HiSeq.... | <!----> | NA | <!----> | <!----> |\n",
       "| rs1834620                     | NA | 3 | Illumina.... | <!----> | 3 | HiSeqPE3.... | IonExome.... | 4 | HiSeqPE3.... | NA | <!----> | CS_HiSeq.... | <!----> | NA | <!----> | <!----> |\n",
       "| rs10617420                    | NA | 3 | Illumina.... | <!----> | 3 | HiSeqPE3.... | IonExome.... | 4 | HiSeqPE3.... | NA | <!----> | CS_HiSeq.... | AllRepea.... | NA | <!----> | <!----> |\n",
       "| rs6470596                     | NA | 4 | Illumina.... | <!----> | 5 | HiSeqPE3.... |     IonExome | 6 | HiSeqPE3.... | NA | CS_10XGA.... | CS_HiSeq.... | <!----> | NA | <!----> | <!----> |\n",
       "| rs11343602                    | NA | 3 | Illumina.... | <!----> | 3 | HiSeqPE3.... | IonExome.... | 4 | HiSeqPE3.... | NA | CS_10XGA.... | CS_HiSeq.... | AllRepea.... | NA | <!----> | <!----> |\n",
       "| rs11993333                    | NA | 3 | Illumina.... | <!----> | 4 | HiSeqPE3.... | 10XChrom.... | 5 | HiSeqPE3.... | NA | <!----> | CS_HiSeq.... | <!----> | NA | <!----> | <!----> |\n",
       "| rs12334659                    | NA | 4 | Illumina.... | <!----> | 4 | HiSeqPE3.... | IonExome.... | 5 | HiSeqPE3.... | NA | <!----> | CS_HiSeq.... | <!----> | NA | <!----> | <!----> |\n",
       "| rs35546489                    | NA | 2 | Illumina.... | <!----> | 2 | HiSeqPE3.... | CGnormal.... | 3 | HiSeqPE3.... | NA | CS_HiSeq.... | CS_HiSeq.... | AllRepea.... | NA | <!----> | <!----> |\n",
       "| rs4733810                     | NA | 3 | Illumina.... | <!----> | 3 | HiSeqPE3.... | IonExome.... | 4 | HiSeqPE3.... | NA | CS_HiSeq.... | CS_HiSeq.... | <!----> | NA | <!----> | <!----> |\n",
       "| rs4733585                     | NA | 3 | Illumina.... | <!----> | 3 | HiSeqPE3.... | IonExome.... | 4 | HiSeqPE3.... | NA | CS_HiSeq.... | CS_HiSeq.... | SimpleRe.... | NA | <!----> | <!----> |\n",
       "| rs4733811                     | NA | 4 | Illumina.... | <!----> | 5 | HiSeqPE3.... |     IonExome | 6 | HiSeqPE3.... | NA | CS_Solid.... | CS_HiSeq.... | <!----> | NA | <!----> | <!----> |\n",
       "| rs4637783                     | NA | 4 | Illumina.... | <!----> | 5 | HiSeqPE3.... |     IonExome | 6 | HiSeqPE3.... | NA | <!----> | CS_HiSeq.... | <!----> | NA | <!----> | <!----> |\n",
       "| rs10956400                    | NA | 4 | Illumina.... | <!----> | 5 | HiSeqPE3.... |     IonExome | 6 | HiSeqPE3.... | NA | <!----> | CS_HiSeq.... | <!----> | NA | <!----> | <!----> |\n",
       "| rs10808563                    | NA | 4 | Illumina.... | <!----> | 5 | HiSeqPE3.... |     IonExome | 6 | HiSeqPE3.... | NA | <!----> | CS_HiSeq.... | <!----> | NA | <!----> | <!----> |\n",
       "| rs71300287                    | NA | 1 |     Illumina | <!----> | 1 |  HiSeqPE300x | CGnormal.... | 1 | HiSeqPE3.... | NA | <!----> | CS_HiSeq.... | AllRepea.... | NA | <!----> | <!----> |\n",
       "| 8:128997155_CTT/C             | NA | 2 | Illumina.... | <!----> | 2 | HiSeqPE3.... | CGnormal.... | 2 | HiSeqPE3.... | NA | CS_HiSeq.... | CS_HiSeq.... | AllRepea.... | NA | <!----> | <!----> |\n",
       "| 8:128997161_TTCTTTCTCTTTCTC/T | NA | 2 | Illumina.... | <!----> | 2 | HiSeqPE3.... | CGnormal.... | 2 | HiSeqPE3.... | NA | CS_HiSeq.... | CS_HiSeq.... | AllRepea.... | NA | <!----> | <!----> |\n",
       "| rs2392884                     | NA | 4 | Illumina.... | <!----> | 4 | HiSeqPE3.... | IonExome.... | 5 | HiSeqPE3.... | NA | <!----> | CS_HiSeq.... | <!----> | NA | <!----> | <!----> |\n",
       "\n"
      ],
      "text/plain": [
       "    ID                            DPSum platforms platformnames platformbias\n",
       "1   rs6984323                     NA    4         Illumina....              \n",
       "2   rs4478537                     NA    3         Illumina....              \n",
       "3   rs34141920                    NA    3         Illumina....              \n",
       "4   rs17772814                    NA    4         Illumina....              \n",
       "5   rs77977256                    NA    4         Illumina....              \n",
       "6   8:128715845_AT/A              NA    1             Illumina              \n",
       "7   rs143209301                   NA    3         Illumina....              \n",
       "8   rs202231913                   NA    1             Illumina              \n",
       "9   rs16902340                    NA    4         Illumina....              \n",
       "10  rs7841229                     NA    4         Illumina....              \n",
       "11  rs75797214                    NA    3         CG, Illu....              \n",
       "12  rs72718535                    NA    4         Illumina....              \n",
       "13  rs34040552                    NA    3         Illumina....              \n",
       "14  rs4733548                     NA    4         Illumina....              \n",
       "15  rs16902359                    NA    4         Illumina....              \n",
       "16  rs373242130                   NA    1             Illumina              \n",
       "17  rs16902364                    NA    4         Illumina....              \n",
       "18  rs3824120                     NA    4         Illumina....              \n",
       "19  8:128759740_A/AAAT            NA    2         Illumina....              \n",
       "20  8:128759977_A/ATATTTATT       NA    2         Illumina....              \n",
       "21  rs6470569                     NA    4         Illumina....              \n",
       "22  rs4733550                     NA    4         Illumina....              \n",
       "23  rs6984658                     NA    3         Illumina....              \n",
       "24  rs6470573                     NA    4         Illumina....              \n",
       "25  rs6470574                     NA    4         Illumina....              \n",
       "26  rs6988558                     NA    4         Illumina....              \n",
       "27  rs3931652                     NA    3         Illumina....              \n",
       "28  rs144442792                   NA    3         Illumina....              \n",
       "29  rs12543377                    NA    3         Illumina....              \n",
       "30  rs56288936                    NA    3         Illumina....              \n",
       "⋮   ⋮                             ⋮     ⋮         ⋮             ⋮           \n",
       "279 rs752429                      NA    4         Illumina....              \n",
       "280 rs4733584                     NA    4         Illumina....              \n",
       "281 rs7015112                     NA    4         Illumina....              \n",
       "282 rs6981683                     NA    3         Illumina....              \n",
       "283 rs6981693                     NA    3         Illumina....              \n",
       "284 rs10086182                    NA    4         Illumina....              \n",
       "285 rs59889146                    NA    3         Illumina....              \n",
       "286 rs6470595                     NA    4         Illumina....              \n",
       "287 rs6986528                     NA    3         Illumina....              \n",
       "288 rs7004744                     NA    3         Illumina....              \n",
       "289 rs993725                      NA    4         Illumina....              \n",
       "290 rs4476972                     NA    4         Illumina....              \n",
       "291 rs4733809                     NA    4         Illumina....              \n",
       "292 rs1834620                     NA    3         Illumina....              \n",
       "293 rs10617420                    NA    3         Illumina....              \n",
       "294 rs6470596                     NA    4         Illumina....              \n",
       "295 rs11343602                    NA    3         Illumina....              \n",
       "296 rs11993333                    NA    3         Illumina....              \n",
       "297 rs12334659                    NA    4         Illumina....              \n",
       "298 rs35546489                    NA    2         Illumina....              \n",
       "299 rs4733810                     NA    3         Illumina....              \n",
       "300 rs4733585                     NA    3         Illumina....              \n",
       "301 rs4733811                     NA    4         Illumina....              \n",
       "302 rs4637783                     NA    4         Illumina....              \n",
       "303 rs10956400                    NA    4         Illumina....              \n",
       "304 rs10808563                    NA    4         Illumina....              \n",
       "305 rs71300287                    NA    1             Illumina              \n",
       "306 8:128997155_CTT/C             NA    2         Illumina....              \n",
       "307 8:128997161_TTCTTTCTCTTTCTC/T NA    2         Illumina....              \n",
       "308 rs2392884                     NA    4         Illumina....              \n",
       "    datasets datasetnames datasetsmissingcall callsets callsetnames varType\n",
       "1   4        HiSeqPE3.... IonExome....        5        HiSeqPE3.... NA     \n",
       "2   3        HiSeqPE3.... IonExome....        4        HiSeqPE3.... NA     \n",
       "3   3        HiSeqPE3.... IonExome....        4        HiSeqPE3.... NA     \n",
       "4   5        HiSeqPE3....     IonExome        6        HiSeqPE3.... NA     \n",
       "5   4        HiSeqPE3.... IonExome....        5        HiSeqPE3.... NA     \n",
       "6   1         HiSeqPE300x CGnormal....        2        HiSeqPE3.... NA     \n",
       "7   3        HiSeqPE3.... IonExome....        4        HiSeqPE3.... NA     \n",
       "8   1         HiSeqPE300x CGnormal....        2        HiSeqPE3.... NA     \n",
       "9   4        HiSeqPE3.... IonExome....        5        HiSeqPE3.... NA     \n",
       "10  4        HiSeqPE3.... IonExome....        5        HiSeqPE3.... NA     \n",
       "11  3        CGnormal.... IonExome....        4        CGnormal.... NA     \n",
       "12  4        HiSeqPE3.... IonExome....        5        HiSeqPE3.... NA     \n",
       "13  3        HiSeqPE3.... IonExome....        4        HiSeqPE3.... NA     \n",
       "14  5        HiSeqPE3....     IonExome        6        HiSeqPE3.... NA     \n",
       "15  5        HiSeqPE3....     IonExome        6        HiSeqPE3.... NA     \n",
       "16  1         HiSeqPE300x CGnormal....        2        HiSeqPE3.... NA     \n",
       "17  4        HiSeqPE3.... IonExome....        5        HiSeqPE3.... NA     \n",
       "18  4        HiSeqPE3.... IonExome....        5        HiSeqPE3.... NA     \n",
       "19  2        HiSeqPE3.... CGnormal....        3        HiSeqPE3.... NA     \n",
       "20  2        HiSeqPE3.... CGnormal....        3        HiSeqPE3.... NA     \n",
       "21  5        HiSeqPE3....     IonExome        6        HiSeqPE3.... NA     \n",
       "22  5        HiSeqPE3....     IonExome        6        HiSeqPE3.... NA     \n",
       "23  3        HiSeqPE3.... IonExome....        4        HiSeqPE3.... NA     \n",
       "24  5        HiSeqPE3....     IonExome        6        HiSeqPE3.... NA     \n",
       "25  4        HiSeqPE3.... IonExome....        5        HiSeqPE3.... NA     \n",
       "26  5        HiSeqPE3....     IonExome        6        HiSeqPE3.... NA     \n",
       "27  3        HiSeqPE3.... IonExome....        4        HiSeqPE3.... NA     \n",
       "28  3        HiSeqPE3.... IonExome....        4        HiSeqPE3.... NA     \n",
       "29  3        HiSeqPE3.... IonExome....        4        HiSeqPE3.... NA     \n",
       "30  3        HiSeqPE3.... CGnormal....        4        HiSeqPE3.... NA     \n",
       "⋮   ⋮        ⋮            ⋮                   ⋮        ⋮            ⋮      \n",
       "279 4        HiSeqPE3.... IonExome....        5        HiSeqPE3.... NA     \n",
       "280 4        HiSeqPE3.... IonExome....        5        HiSeqPE3.... NA     \n",
       "281 4        HiSeqPE3.... IonExome....        5        HiSeqPE3.... NA     \n",
       "282 3        HiSeqPE3.... IonExome....        4        HiSeqPE3.... NA     \n",
       "283 3        HiSeqPE3.... IonExome....        4        HiSeqPE3.... NA     \n",
       "284 5        HiSeqPE3....     IonExome        6        HiSeqPE3.... NA     \n",
       "285 3        HiSeqPE3.... IonExome....        4        HiSeqPE3.... NA     \n",
       "286 5        HiSeqPE3....     IonExome        6        HiSeqPE3.... NA     \n",
       "287 3        HiSeqPE3.... IonExome....        4        HiSeqPE3.... NA     \n",
       "288 3        HiSeqPE3.... IonExome....        4        HiSeqPE3.... NA     \n",
       "289 4        HiSeqPE3.... IonExome....        5        HiSeqPE3.... NA     \n",
       "290 4        HiSeqPE3.... IonExome....        5        HiSeqPE3.... NA     \n",
       "291 5        HiSeqPE3....     IonExome        6        HiSeqPE3.... NA     \n",
       "292 3        HiSeqPE3.... IonExome....        4        HiSeqPE3.... NA     \n",
       "293 3        HiSeqPE3.... IonExome....        4        HiSeqPE3.... NA     \n",
       "294 5        HiSeqPE3....     IonExome        6        HiSeqPE3.... NA     \n",
       "295 3        HiSeqPE3.... IonExome....        4        HiSeqPE3.... NA     \n",
       "296 4        HiSeqPE3.... 10XChrom....        5        HiSeqPE3.... NA     \n",
       "297 4        HiSeqPE3.... IonExome....        5        HiSeqPE3.... NA     \n",
       "298 2        HiSeqPE3.... CGnormal....        3        HiSeqPE3.... NA     \n",
       "299 3        HiSeqPE3.... IonExome....        4        HiSeqPE3.... NA     \n",
       "300 3        HiSeqPE3.... IonExome....        4        HiSeqPE3.... NA     \n",
       "301 5        HiSeqPE3....     IonExome        6        HiSeqPE3.... NA     \n",
       "302 5        HiSeqPE3....     IonExome        6        HiSeqPE3.... NA     \n",
       "303 5        HiSeqPE3....     IonExome        6        HiSeqPE3.... NA     \n",
       "304 5        HiSeqPE3....     IonExome        6        HiSeqPE3.... NA     \n",
       "305 1         HiSeqPE300x CGnormal....        1        HiSeqPE3.... NA     \n",
       "306 2        HiSeqPE3.... CGnormal....        2        HiSeqPE3.... NA     \n",
       "307 2        HiSeqPE3.... CGnormal....        2        HiSeqPE3.... NA     \n",
       "308 4        HiSeqPE3.... IonExome....        5        HiSeqPE3.... NA     \n",
       "    filt         callable     difficultregion arbitrated\n",
       "1   CS_CGnor.... CS_HiSeq....                 NA        \n",
       "2                CS_HiSeq....                 NA        \n",
       "3   CS_CGnor.... CS_HiSeq.... AllRepea....    NA        \n",
       "4   CS_Solid.... CS_HiSeq....                 NA        \n",
       "5                CS_HiSeq....                 NA        \n",
       "6   CS_CGnor.... CS_HiSeq.... AllRepea....    NA        \n",
       "7                CS_HiSeq....                 NA        \n",
       "8                CS_HiSeq.... AllRepea....    NA        \n",
       "9                CS_HiSeq....                 NA        \n",
       "10               CS_HiSeq.... AllRepea....    NA        \n",
       "11               CS_CGnor....                 NA        \n",
       "12  CS_HiSeq.... CS_HiSeq....                 NA        \n",
       "13  CS_10XGA.... CS_HiSeq.... AllRepea....    NA        \n",
       "14               CS_HiSeq....                 NA        \n",
       "15               CS_HiSeq....                 NA        \n",
       "16               CS_HiSeq.... AllRepea....    NA        \n",
       "17               CS_HiSeq....                 NA        \n",
       "18  CS_10XGA.... CS_HiSeq....                 NA        \n",
       "19               CS_HiSeq.... AllRepea....    NA        \n",
       "20               CS_HiSeq.... AllRepea....    NA        \n",
       "21  CS_HiSeq.... CS_HiSeq....                 NA        \n",
       "22               CS_HiSeq....                 NA        \n",
       "23               CS_HiSeq....                 NA        \n",
       "24  CS_Solid.... CS_HiSeq....                 NA        \n",
       "25  CS_Solid.... CS_HiSeq....                 NA        \n",
       "26               CS_HiSeq....                 NA        \n",
       "27               CS_HiSeq....                 NA        \n",
       "28  CS_CGnor.... CS_HiSeq.... AllRepea....    NA        \n",
       "29               CS_HiSeq....                 NA        \n",
       "30  CS_Solid.... CS_HiSeq.... AllRepea....    NA        \n",
       "⋮   ⋮            ⋮            ⋮               ⋮         \n",
       "279              CS_HiSeq....                 NA        \n",
       "280              CS_HiSeq....                 NA        \n",
       "281              CS_HiSeq....                 NA        \n",
       "282              CS_HiSeq....                 NA        \n",
       "283              CS_HiSeq....                 NA        \n",
       "284              CS_HiSeq....                 NA        \n",
       "285              CS_HiSeq....                 NA        \n",
       "286 CS_HiSeq.... CS_HiSeq.... AllRepea....    NA        \n",
       "287              CS_HiSeq....                 NA        \n",
       "288              CS_HiSeq....                 NA        \n",
       "289              CS_HiSeq....                 NA        \n",
       "290 CS_Solid.... CS_HiSeq....                 NA        \n",
       "291              CS_HiSeq....                 NA        \n",
       "292              CS_HiSeq....                 NA        \n",
       "293              CS_HiSeq.... AllRepea....    NA        \n",
       "294 CS_10XGA.... CS_HiSeq....                 NA        \n",
       "295 CS_10XGA.... CS_HiSeq.... AllRepea....    NA        \n",
       "296              CS_HiSeq....                 NA        \n",
       "297              CS_HiSeq....                 NA        \n",
       "298 CS_HiSeq.... CS_HiSeq.... AllRepea....    NA        \n",
       "299 CS_HiSeq.... CS_HiSeq....                 NA        \n",
       "300 CS_HiSeq.... CS_HiSeq.... SimpleRe....    NA        \n",
       "301 CS_Solid.... CS_HiSeq....                 NA        \n",
       "302              CS_HiSeq....                 NA        \n",
       "303              CS_HiSeq....                 NA        \n",
       "304              CS_HiSeq....                 NA        \n",
       "305              CS_HiSeq.... AllRepea....    NA        \n",
       "306 CS_HiSeq.... CS_HiSeq.... AllRepea....    NA        \n",
       "307 CS_HiSeq.... CS_HiSeq.... AllRepea....    NA        \n",
       "308              CS_HiSeq....                 NA        \n",
       "    callsetwiththisuniqgenopassing callsetwithotheruniqgenopassing\n",
       "1                                                                 \n",
       "2                                                                 \n",
       "3                                                                 \n",
       "4                                                                 \n",
       "5                                                                 \n",
       "6                                                                 \n",
       "7                                                                 \n",
       "8                                                                 \n",
       "9                                                                 \n",
       "10                                                                \n",
       "11                                                                \n",
       "12                                                                \n",
       "13                                                                \n",
       "14                                                                \n",
       "15                                                                \n",
       "16                                                                \n",
       "17                                                                \n",
       "18                                                                \n",
       "19                                                                \n",
       "20                                                                \n",
       "21                                                                \n",
       "22                                                                \n",
       "23                                                                \n",
       "24                                                                \n",
       "25                                                                \n",
       "26                                                                \n",
       "27                                                                \n",
       "28                                                                \n",
       "29                                                                \n",
       "30                                                                \n",
       "⋮   ⋮                              ⋮                              \n",
       "279                                                               \n",
       "280                                                               \n",
       "281                                                               \n",
       "282                                                               \n",
       "283                                                               \n",
       "284                                                               \n",
       "285                                                               \n",
       "286                                                               \n",
       "287                                                               \n",
       "288                                                               \n",
       "289                                                               \n",
       "290                                                               \n",
       "291                                                               \n",
       "292                                                               \n",
       "293                                                               \n",
       "294                                                               \n",
       "295                                                               \n",
       "296                                                               \n",
       "297                                                               \n",
       "298                                                               \n",
       "299                                                               \n",
       "300                                                               \n",
       "301                                                               \n",
       "302                                                               \n",
       "303                                                               \n",
       "304                                                               \n",
       "305                                                               \n",
       "306                                                               \n",
       "307                                                               \n",
       "308                                                               "
      ]
     },
     "metadata": {},
     "output_type": "display_data"
    }
   ],
   "source": [
    "info(vcf) %>%\n",
    "  as.data.frame() %>%\n",
    "  rownames_to_column(\"ID\") %>%\n",
    "  as_tibble()"
   ]
  },
  {
   "cell_type": "markdown",
   "id": "866dc73a-e254-4605-9d8c-750fdafba481",
   "metadata": {},
   "source": [
    "### c. Retrieve the following information at chr8:128747953. (8 points)\n",
    "Print out the SNP ID (i.e. \"rs ID\"), reference base (`REF`), alterate base (`ALT`), genotype (`GT`), depth (`DP`), allele depth (`ADALL`), phase set (`PS`).\n",
    "\n",
    "Hints: \n",
    "\n",
    "  i. `REF` and `ALT` are in the output of `rowRanges(vcf)`. See Section `3a` in `Lecture16_VariantCalls.ipynb` \n",
    "  ii. To get the sequence of `DNAString`, use `as.character(x)`.  \n",
    "  ii. To get the sequence of `DNAStringSet`, use `as.character(unlist(x))`. \n",
    "  iii. To expand a list of information for `geno`, use `unlist(x)`.  \n",
    "\n",
    "  "
   ]
  },
  {
   "cell_type": "code",
   "execution_count": null,
   "id": "fa8d8ad6-7d4b-43f2-a3ae-25a86be3d243",
   "metadata": {
    "vscode": {
     "languageId": "r"
    }
   },
   "outputs": [],
   "source": []
  }
 ],
 "metadata": {
  "kernelspec": {
   "display_name": "R",
   "language": "R",
   "name": "ir"
  },
  "language_info": {
   "codemirror_mode": "r",
   "file_extension": ".r",
   "mimetype": "text/x-r-source",
   "name": "R",
   "pygments_lexer": "r",
   "version": "4.1.3"
  }
 },
 "nbformat": 4,
 "nbformat_minor": 5
}
