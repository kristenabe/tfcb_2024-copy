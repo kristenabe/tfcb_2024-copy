{
 "cells": [
  {
   "cell_type": "markdown",
   "id": "a3aee033-5aeb-43a8-bb8b-cfb69fc7a690",
   "metadata": {},
   "source": [
    "Kristen Abe\n",
    "\n",
    "***Total: 42 points***\n",
    "\n",
    "Complete this homework by writing R code to complete the following tasks. Keep in mind:\n",
    "\n",
    "i. Empty chunks have been included where code is required\n",
    "ii. This homework requires use of data files:\n",
    "\n",
    "  - `BRCA.genome_wide_snp_6_broad_Level_3_scna.seg` (Problems 1, 2)\n",
    "  - `GIAB_highconf_v.3.3.2.vcf.gz` (Problem 3)\n",
    "  \n",
    "iv. You will be graded on your code and output results. The assignment is worth 42 points total; partial credit can be awarded.\n",
    "\n",
    "For additional resources, please refer to these links:  \n",
    "Problems 1 & 2:  \n",
    "  - https://www.bioconductor.org/packages/devel/bioc/vignettes/plyranges/inst/doc/an-introduction.html\n",
    "  - https://bioconductor.org/packages/release/bioc/vignettes/GenomicRanges/inst/doc/GenomicRangesIntroduction.html  \n",
    "Problem 3:  \n",
    "  - https://bioconductor.org/packages/release/bioc/vignettes/Rsamtools/inst/doc/Rsamtools-Overview.pdf  \n",
    "Problem 4: \n",
    "  - https://bioconductor.org/packages/release/bioc/vignettes/VariantAnnotation/inst/doc/VariantAnnotation.pdf  \n",
    "\n",
    "# Problem 1: Overlaps between genomic regions and copy number alterations. (14 points total)\n",
    "\n",
    "### Preparation\n",
    "Load copy number segment results as shown in *2.1 BED format* of *Lecture16_GenomicData.Rmd*. You will use the same file as in the lecture notes, `BRCA.genome_wide_snp_6_broad_Level_3_scna.seg`. Here is code to get you started."
   ]
  },
  {
   "cell_type": "code",
   "execution_count": 159,
   "id": "0860111c-c185-4db0-a325-74242df5cb77",
   "metadata": {
    "vscode": {
     "languageId": "r"
    }
   },
   "outputs": [],
   "source": [
    "#load packages\n",
    "suppressPackageStartupMessages({\n",
    "    library(tidyverse)\n",
    "    library(GenomicRanges)\n",
    "    library(plyranges)\n",
    "    library(VariantAnnotation)\n",
    "})"
   ]
  },
  {
   "cell_type": "code",
   "execution_count": 160,
   "id": "c16b4e1f-d699-4706-b86f-381e0424ceb8",
   "metadata": {
    "vscode": {
     "languageId": "r"
    }
   },
   "outputs": [
    {
     "data": {
      "text/plain": [
       "GRanges object with 284458 ranges and 3 metadata columns:\n",
       "           seqnames              ranges strand |                 Sample\n",
       "              <Rle>           <IRanges>  <Rle> |            <character>\n",
       "       [1]        1    3218610-95674710      * | TCGA-3C-AAAU-10A-01D..\n",
       "       [2]        1   95676511-95676518      * | TCGA-3C-AAAU-10A-01D..\n",
       "       [3]        1  95680124-167057183      * | TCGA-3C-AAAU-10A-01D..\n",
       "       [4]        1 167057495-167059336      * | TCGA-3C-AAAU-10A-01D..\n",
       "       [5]        1 167059760-181602002      * | TCGA-3C-AAAU-10A-01D..\n",
       "       ...      ...                 ...    ... .                    ...\n",
       "  [284454]       19     284018-58878226      * | TCGA-Z7-A8R6-01A-11D..\n",
       "  [284455]       20     455764-62219837      * | TCGA-Z7-A8R6-01A-11D..\n",
       "  [284456]       21   15347621-47678774      * | TCGA-Z7-A8R6-01A-11D..\n",
       "  [284457]       22   17423930-49331012      * | TCGA-Z7-A8R6-01A-11D..\n",
       "  [284458]        X   3157107-154905589      * | TCGA-Z7-A8R6-01A-11D..\n",
       "           Num_Probes Segment_Mean\n",
       "            <integer>    <numeric>\n",
       "       [1]      53225       0.0055\n",
       "       [2]          2      -1.6636\n",
       "       [3]      24886       0.0053\n",
       "       [4]          3      -1.0999\n",
       "       [5]       9213      -0.0008\n",
       "       ...        ...          ...\n",
       "  [284454]      23950      -0.1170\n",
       "  [284455]      37283       0.3435\n",
       "  [284456]      20582      -0.1117\n",
       "  [284457]      16927      -0.1231\n",
       "  [284458]      63797       0.0014\n",
       "  -------\n",
       "  seqinfo: 23 sequences from an unspecified genome; no seqlengths"
      ]
     },
     "metadata": {},
     "output_type": "display_data"
    }
   ],
   "source": [
    "segs <- read.delim(\"BRCA.genome_wide_snp_6_broad_Level_3_scna.seg\", as.is = TRUE)\n",
    "mode(segs$Chromosome) <- \"character\" \n",
    "segs[segs$Chromosome == 23, \"Chromosome\"] <- \"X\"\n",
    "segs.gr <- as(segs, \"GRanges\")\n",
    "segs.gr"
   ]
  },
  {
   "cell_type": "markdown",
   "id": "fb312886-34f9-4e60-98e1-cb947991cb01",
   "metadata": {},
   "source": [
    "### a. Find the segments in `segs.gr` that have *any* overlap with the region `chr8:128,746,347-128,755,810` (4 points)\n",
    "Print out the first five unique TCGA IDs."
   ]
  },
  {
   "cell_type": "code",
   "execution_count": 161,
   "id": "994e3f59-c2fd-4d08-9935-8236fd6242f9",
   "metadata": {
    "vscode": {
     "languageId": "r"
    }
   },
   "outputs": [
    {
     "data": {
      "text/html": [
       "<style>\n",
       ".list-inline {list-style: none; margin:0; padding: 0}\n",
       ".list-inline>li {display: inline-block}\n",
       ".list-inline>li:not(:last-child)::after {content: \"\\00b7\"; padding: 0 .5ex}\n",
       "</style>\n",
       "<ol class=list-inline><li>'TCGA-3C-AAAU-10A-01D-A41E-01'</li><li>'TCGA-3C-AAAU-01A-11D-A41E-01'</li><li>'TCGA-3C-AALI-10A-01D-A41E-01'</li><li>'TCGA-3C-AALI-01A-11D-A41E-01'</li><li>'TCGA-3C-AALJ-10A-01D-A41E-01'</li></ol>\n"
      ],
      "text/latex": [
       "\\begin{enumerate*}\n",
       "\\item 'TCGA-3C-AAAU-10A-01D-A41E-01'\n",
       "\\item 'TCGA-3C-AAAU-01A-11D-A41E-01'\n",
       "\\item 'TCGA-3C-AALI-10A-01D-A41E-01'\n",
       "\\item 'TCGA-3C-AALI-01A-11D-A41E-01'\n",
       "\\item 'TCGA-3C-AALJ-10A-01D-A41E-01'\n",
       "\\end{enumerate*}\n"
      ],
      "text/markdown": [
       "1. 'TCGA-3C-AAAU-10A-01D-A41E-01'\n",
       "2. 'TCGA-3C-AAAU-01A-11D-A41E-01'\n",
       "3. 'TCGA-3C-AALI-10A-01D-A41E-01'\n",
       "4. 'TCGA-3C-AALI-01A-11D-A41E-01'\n",
       "5. 'TCGA-3C-AALJ-10A-01D-A41E-01'\n",
       "\n",
       "\n"
      ],
      "text/plain": [
       "[1] \"TCGA-3C-AAAU-10A-01D-A41E-01\" \"TCGA-3C-AAAU-01A-11D-A41E-01\"\n",
       "[3] \"TCGA-3C-AALI-10A-01D-A41E-01\" \"TCGA-3C-AALI-01A-11D-A41E-01\"\n",
       "[5] \"TCGA-3C-AALJ-10A-01D-A41E-01\""
      ]
     },
     "metadata": {},
     "output_type": "display_data"
    }
   ],
   "source": [
    "chr8 <- GRanges(seqnames = \"8\", ranges = IRanges(start = 128746347, end = 128755810))\n",
    "\n",
    "segs.overlap <- find_overlaps(segs.gr, chr8)  \n",
    "segs.overlap$Sample[1:5]"
   ]
  },
  {
   "cell_type": "markdown",
   "id": "718c0180-55cb-411c-af90-9b091e51d091",
   "metadata": {},
   "source": [
    "### b. Find the mean of the `Segment_Mean` values for copy number segments that have *any* overlap with the region chr17:37,842,337-37,886,915. (4 points)"
   ]
  },
  {
   "cell_type": "code",
   "execution_count": 162,
   "id": "3962ce70-3f45-4d6c-ad68-4f3cd5bf65a9",
   "metadata": {
    "vscode": {
     "languageId": "r"
    }
   },
   "outputs": [
    {
     "data": {
      "text/html": [
       "0.142019742107603"
      ],
      "text/latex": [
       "0.142019742107603"
      ],
      "text/markdown": [
       "0.142019742107603"
      ],
      "text/plain": [
       "[1] 0.1420197"
      ]
     },
     "metadata": {},
     "output_type": "display_data"
    }
   ],
   "source": [
    "chr17 <- GRanges(seqnames = \"17\", ranges = IRanges(start = 37842337, end = 37886915))\n",
    "\n",
    "segs.overlap2 <- find_overlaps(segs.gr, chr17)  \n",
    "mean(segs.overlap2$Segment_Mean)"
   ]
  },
  {
   "cell_type": "markdown",
   "id": "6801dbdd-5e78-478d-a522-edebb9cf102b",
   "metadata": {},
   "source": [
    "### c. Find the patient sample distribution of copy number for `PIK3CA` (hg19). (6 points)\n",
    "Find the counts of samples with deletion (D; `Segment_Mean < -0.3`), neutral (N; `Segment_Mean >= -0.3 & Segment_Mean <= 0.3`), gain (G; `Segment_Mean > 0.3`) segments that have `any` overlap with `PIK3CA` gene coordinates.  \n"
   ]
  },
  {
   "cell_type": "code",
   "execution_count": 163,
   "id": "acf1096b-3275-4a8b-b522-71f0d5f31ab3",
   "metadata": {
    "vscode": {
     "languageId": "r"
    }
   },
   "outputs": [
    {
     "data": {
      "text/html": [
       "'Deletion counts: 17'"
      ],
      "text/latex": [
       "'Deletion counts: 17'"
      ],
      "text/markdown": [
       "'Deletion counts: 17'"
      ],
      "text/plain": [
       "[1] \"Deletion counts: 17\""
      ]
     },
     "metadata": {},
     "output_type": "display_data"
    },
    {
     "data": {
      "text/html": [
       "'Neutral counts: 2228'"
      ],
      "text/latex": [
       "'Neutral counts: 2228'"
      ],
      "text/markdown": [
       "'Neutral counts: 2228'"
      ],
      "text/plain": [
       "[1] \"Neutral counts: 2228\""
      ]
     },
     "metadata": {},
     "output_type": "display_data"
    },
    {
     "data": {
      "text/html": [
       "'Gain counts: 185'"
      ],
      "text/latex": [
       "'Gain counts: 185'"
      ],
      "text/markdown": [
       "'Gain counts: 185'"
      ],
      "text/plain": [
       "[1] \"Gain counts: 185\""
      ]
     },
     "metadata": {},
     "output_type": "display_data"
    }
   ],
   "source": [
    "PIK3CA <- GRanges(seqnames = \"3\", ranges = IRanges(start = 178866145, end = 178957881))\n",
    "PIK3A.overlap <- find_overlaps(segs.gr, PIK3CA) \n",
    "\n",
    "deletion <- PIK3A.overlap$Segment_Mean[PIK3A.overlap$Segment_Mean <= -0.3]\n",
    "paste(\"Deletion counts:\", length(deletion))\n",
    "\n",
    "neutral <- PIK3A.overlap$Segment_Mean[PIK3A.overlap$Segment_Mean >= -0.3 | PIK3A.overlap$Segment_Mean <= 0.3]\n",
    "paste(\"Neutral counts:\", length(neutral))\n",
    "\n",
    "gain <- PIK3A.overlap$Segment_Mean[PIK3A.overlap$Segment_Mean > 0.3]\n",
    "paste(\"Gain counts:\", length(gain))"
   ]
  },
  {
   "cell_type": "markdown",
   "id": "9b119c29-e953-412e-8585-5a67568e02e3",
   "metadata": {},
   "source": [
    "# Problem 2: Frequency of copy number alteration events within genomic regions. (12 points total) \n",
    "\n",
    "This problem will continue to use the copy number data stored in `segs.gr`.\n",
    "\n",
    "### a. Create a genome-wide tile of 1Mb windows for the human genome (`hg19`). (6 points)\n",
    "See *3.1 Tiling the genome* of *Lecture16_GenomicData.Rmd* for hints.\n"
   ]
  },
  {
   "cell_type": "code",
   "execution_count": 164,
   "id": "11d9150e-c199-4cf9-8e2f-399f57e06cc8",
   "metadata": {
    "vscode": {
     "languageId": "r"
    }
   },
   "outputs": [
    {
     "name": "stderr",
     "output_type": "stream",
     "text": [
      "Warning message in (function (seqlevels, genome, new_style) :\n",
      "“cannot switch some of hg19's seqlevels from UCSC to NCBI style”\n"
     ]
    },
    {
     "data": {
      "text/plain": [
       "Seqinfo object with 25 sequences (1 circular) from 2 genomes (GRCh37.p13, hg19):\n",
       "  seqnames seqlengths isCircular     genome\n",
       "  1         249250621      FALSE GRCh37.p13\n",
       "  2         243199373      FALSE GRCh37.p13\n",
       "  3         198022430      FALSE GRCh37.p13\n",
       "  4         191154276      FALSE GRCh37.p13\n",
       "  5         180915260      FALSE GRCh37.p13\n",
       "  ...             ...        ...        ...\n",
       "  21         48129895      FALSE GRCh37.p13\n",
       "  22         51304566      FALSE GRCh37.p13\n",
       "  X         155270560      FALSE GRCh37.p13\n",
       "  Y          59373566      FALSE GRCh37.p13\n",
       "  chrM          16571       TRUE       hg19"
      ]
     },
     "metadata": {},
     "output_type": "display_data"
    },
    {
     "data": {
      "text/plain": [
       "GRanges object with 3114 ranges and 0 metadata columns:\n",
       "         seqnames            ranges strand\n",
       "            <Rle>         <IRanges>  <Rle>\n",
       "     [1]        1         1-1000000      *\n",
       "     [2]        1   1000001-2000000      *\n",
       "     [3]        1   2000001-3000000      *\n",
       "     [4]        1   3000001-4000000      *\n",
       "     [5]        1   4000001-5000000      *\n",
       "     ...      ...               ...    ...\n",
       "  [3110]        Y 56000001-57000000      *\n",
       "  [3111]        Y 57000001-58000000      *\n",
       "  [3112]        Y 58000001-59000000      *\n",
       "  [3113]        Y 59000001-59373566      *\n",
       "  [3114]     chrM           1-16571      *\n",
       "  -------\n",
       "  seqinfo: 25 sequences from an unspecified genome"
      ]
     },
     "metadata": {},
     "output_type": "display_data"
    }
   ],
   "source": [
    "seqinfo <- Seqinfo(genome = \"hg19\")\n",
    "seqinfo <- keepStandardChromosomes(seqinfo) \n",
    "seqlevelsStyle(seqinfo) <- \"NCBI\"\n",
    "seqinfo\n",
    "\n",
    "slen <- seqlengths(seqinfo) \n",
    "tileWidth <- 1000000\n",
    "tiles <- tileGenome(seqlengths = slen, tilewidth = tileWidth,\n",
    "                    cut.last.tile.in.chrom = TRUE)\n",
    "tiles"
   ]
  },
  {
   "cell_type": "markdown",
   "id": "3601482e-48d6-41dc-9ba9-475f93ef5248",
   "metadata": {},
   "source": [
    "### b. Find the 1Mb window with the most frequent overlapping deletions. (6 points)\n",
    "Find the 1Mb windows with `any` overlap with deletion copy number segments. Assume a deletion segment is defined as a segment in `segs.gr` having `Segment_Mean < -0.3`. \n",
    "\n",
    "Return one of the 1Mb window `Granges` entry with the highest frequency (count) of deletion segments.\n",
    "\n",
    "Hint: Subset the `segs.gr` to only rows with `Segment_Mean < -0.3`. "
   ]
  },
  {
   "cell_type": "code",
   "execution_count": 165,
   "id": "8bf54d13",
   "metadata": {
    "vscode": {
     "languageId": "r"
    }
   },
   "outputs": [
    {
     "data": {
      "text/html": [
       "620"
      ],
      "text/latex": [
       "620"
      ],
      "text/markdown": [
       "620"
      ],
      "text/plain": [
       "[1] 620"
      ]
     },
     "metadata": {},
     "output_type": "display_data"
    }
   ],
   "source": [
    "deletions <- segs.gr[segs.gr$Segment_Mean < -0.3]\n",
    "\n",
    "deletions.overlap <- countOverlaps(tiles, deletions)\n",
    "\n",
    "deletions.overlap[which.max(deletions.overlap)]"
   ]
  },
  {
   "cell_type": "markdown",
   "id": "4021471d-985d-4799-879f-430f2449003c",
   "metadata": {
    "tags": []
   },
   "source": [
    "# Problem 3: Reading and annotating genomic variants (16 points total)\n",
    "\n",
    "### Preparation"
   ]
  },
  {
   "cell_type": "code",
   "execution_count": 166,
   "id": "8c7719ca-d70f-4deb-9e1b-afc16586501f",
   "metadata": {
    "vscode": {
     "languageId": "r"
    }
   },
   "outputs": [],
   "source": [
    "vcfFile <- \"GIAB_highconf_v.3.3.2.vcf.gz\""
   ]
  },
  {
   "cell_type": "markdown",
   "id": "eb4f7577-631d-42be-8413-3752869511a1",
   "metadata": {},
   "source": [
    "### a. Load variant data from VCF file `GIAB_highconf_v.3.3.2.vcf.gz` for `chr8:128,700,000-129,000,000`. (4 points)\n",
    "Note: use genome build `hg19`."
   ]
  },
  {
   "cell_type": "code",
   "execution_count": 167,
   "id": "d57ee51f-26a9-4ec0-9766-92ae74dbf36e",
   "metadata": {
    "vscode": {
     "languageId": "r"
    }
   },
   "outputs": [
    {
     "data": {
      "text/plain": [
       "GRanges object with 308 ranges and 5 metadata columns:\n",
       "                                seqnames              ranges strand |\n",
       "                                   <Rle>           <IRanges>  <Rle> |\n",
       "                      rs6984323        8           128706908      * |\n",
       "                      rs4478537        8           128708943      * |\n",
       "                     rs34141920        8 128710237-128710239      * |\n",
       "                     rs17772814        8           128711742      * |\n",
       "                     rs77977256        8           128713029      * |\n",
       "                            ...      ...                 ...    ... .\n",
       "                     rs10808563        8           128996845      * |\n",
       "                     rs71300287        8 128997083-128997091      * |\n",
       "              8:128997155_CTT/C        8 128997155-128997157      * |\n",
       "  8:128997161_TTCTTTCTCTTTCTC/T        8 128997161-128997175      * |\n",
       "                      rs2392884        8           128999174      * |\n",
       "                                paramRangeID             REF                ALT\n",
       "                                    <factor>  <DNAStringSet> <DNAStringSetList>\n",
       "                      rs6984323           NA               C                  T\n",
       "                      rs4478537           NA               T                  A\n",
       "                     rs34141920           NA             GCA                  G\n",
       "                     rs17772814           NA               G                  A\n",
       "                     rs77977256           NA               A                  G\n",
       "                            ...          ...             ...                ...\n",
       "                     rs10808563           NA               C                  T\n",
       "                     rs71300287           NA       TTTTCTTTC                  T\n",
       "              8:128997155_CTT/C           NA             CTT                  C\n",
       "  8:128997161_TTCTTTCTCTTTCTC/T           NA TTCTTTCTCTTTCTC                  T\n",
       "                      rs2392884           NA               A                  C\n",
       "                                     QUAL      FILTER\n",
       "                                <numeric> <character>\n",
       "                      rs6984323        50        PASS\n",
       "                      rs4478537        50        PASS\n",
       "                     rs34141920        50        PASS\n",
       "                     rs17772814        50        PASS\n",
       "                     rs77977256        50        PASS\n",
       "                            ...       ...         ...\n",
       "                     rs10808563        50        PASS\n",
       "                     rs71300287        50        PASS\n",
       "              8:128997155_CTT/C        50        PASS\n",
       "  8:128997161_TTCTTTCTCTTTCTC/T        50        PASS\n",
       "                      rs2392884        50        PASS\n",
       "  -------\n",
       "  seqinfo: 25 sequences from hg19 genome"
      ]
     },
     "metadata": {},
     "output_type": "display_data"
    }
   ],
   "source": [
    "vcfHead <- scanVcfHeader(vcfFile)\n",
    "myGRange4 <- GRanges(seqnames = \"8\", ranges = IRanges(start = 128700000, end = 129000000))\n",
    "vcf.param <- ScanVcfParam(which = myGRange4) \n",
    "vcf <- readVcf(vcfFile, genome = \"hg19\", param = vcf.param)\n",
    "rowRanges(vcf)"
   ]
  },
  {
   "cell_type": "markdown",
   "id": "cf96e3ff-0558-40b2-8d3e-8abd8508a766",
   "metadata": {},
   "source": [
    "### b. Combine the fields of the VCF genotype information into a table. (4 points)\n",
    "You may use your choice of data objects (e.g. `data.frame`)."
   ]
  },
  {
   "cell_type": "code",
   "execution_count": 168,
   "id": "8a2902dd-a1c4-4fc6-a541-47b2b133af00",
   "metadata": {
    "vscode": {
     "languageId": "r"
    }
   },
   "outputs": [
    {
     "name": "stderr",
     "output_type": "stream",
     "text": [
      "\u001b[1m\u001b[22mNew names:\n",
      "\u001b[36m•\u001b[39m `HG001` -> `HG001...1`\n",
      "\u001b[36m•\u001b[39m `HG001` -> `HG001...2`\n",
      "\u001b[36m•\u001b[39m `HG001` -> `HG001...3`\n",
      "\u001b[36m•\u001b[39m `HG001` -> `HG001...4`\n",
      "\u001b[36m•\u001b[39m `HG001` -> `HG001...5`\n",
      "\u001b[36m•\u001b[39m `HG001` -> `HG001...6`\n",
      "\u001b[36m•\u001b[39m `HG001` -> `HG001...7`\n",
      "\u001b[36m•\u001b[39m `HG001` -> `HG001...8`\n"
     ]
    },
    {
     "data": {
      "text/html": [
       "<table class=\"dataframe\">\n",
       "<caption>A data.frame: 308 × 8</caption>\n",
       "<thead>\n",
       "\t<tr><th></th><th scope=col>GT</th><th scope=col>DP</th><th scope=col>GQ</th><th scope=col>ADALL</th><th scope=col>AD</th><th scope=col>IGT</th><th scope=col>IPS</th><th scope=col>PS</th></tr>\n",
       "\t<tr><th></th><th scope=col>&lt;chr&gt;</th><th scope=col>&lt;int&gt;</th><th scope=col>&lt;int&gt;</th><th scope=col>&lt;named list&gt;</th><th scope=col>&lt;named list&gt;</th><th scope=col>&lt;chr&gt;</th><th scope=col>&lt;chr&gt;</th><th scope=col>&lt;chr&gt;</th></tr>\n",
       "</thead>\n",
       "<tbody>\n",
       "\t<tr><th scope=row>rs6984323</th><td>1|1</td><td>765</td><td> 583</td><td>1, 332</td><td>0, 315</td><td>1/1</td><td>.     </td><td>PATMAT</td></tr>\n",
       "\t<tr><th scope=row>rs4478537</th><td>0|1</td><td>544</td><td> 813</td><td>103, 124</td><td>135, 172</td><td>0/1</td><td>.     </td><td>PATMAT</td></tr>\n",
       "\t<tr><th scope=row>rs34141920</th><td>0|1</td><td>523</td><td> 222</td><td>132, 121</td><td>132, 121</td><td>0/1</td><td>.     </td><td>PATMAT</td></tr>\n",
       "\t<tr><th scope=row>rs17772814</th><td>1|0</td><td>695</td><td>1503</td><td>143, 158</td><td>196, 199</td><td>0/1</td><td>.     </td><td>PATMAT</td></tr>\n",
       "\t<tr><th scope=row>rs77977256</th><td>1|0</td><td>642</td><td> 685</td><td>154, 157</td><td>160, 166</td><td>0/1</td><td>.     </td><td>PATMAT</td></tr>\n",
       "\t<tr><th scope=row>8:128715845_AT/A</th><td>0|1</td><td>368</td><td>  99</td><td>66, 91</td><td>66, 91</td><td>0/1</td><td>.     </td><td>PATMAT</td></tr>\n",
       "\t<tr><th scope=row>rs143209301</th><td>1|0</td><td>581</td><td> 595</td><td>128, 128</td><td>151, 165</td><td>0/1</td><td>.     </td><td>PATMAT</td></tr>\n",
       "\t<tr><th scope=row>rs202231913</th><td>0|1</td><td>369</td><td>  99</td><td>81, 97</td><td>81, 97</td><td>0/1</td><td>.     </td><td>PATMAT</td></tr>\n",
       "\t<tr><th scope=row>rs16902340</th><td>0|1</td><td>689</td><td>1294</td><td>144, 150</td><td>184, 204</td><td>0/1</td><td>.     </td><td>PATMAT</td></tr>\n",
       "\t<tr><th scope=row>rs7841229</th><td>0|1</td><td>635</td><td>1010</td><td>180, 172</td><td>134, 130</td><td>0/1</td><td>.     </td><td>PATMAT</td></tr>\n",
       "\t<tr><th scope=row>rs75797214</th><td>1|1</td><td>640</td><td> 372</td><td>0, 296</td><td>57, 57</td><td>1/1</td><td>.     </td><td>PATMAT</td></tr>\n",
       "\t<tr><th scope=row>rs72718535</th><td>0|1</td><td>567</td><td> 973</td><td>123, 114</td><td>51, 39</td><td>0/1</td><td>.     </td><td>PATMAT</td></tr>\n",
       "\t<tr><th scope=row>rs34040552</th><td>1|0</td><td>400</td><td> 260</td><td>75, 100</td><td>60, 89</td><td>0/1</td><td>.     </td><td>PATMAT</td></tr>\n",
       "\t<tr><th scope=row>rs4733548</th><td>0|1</td><td>594</td><td> 657</td><td>147, 126</td><td>161, 147</td><td>0/1</td><td>.     </td><td>PATMAT</td></tr>\n",
       "\t<tr><th scope=row>rs16902359</th><td>0|1</td><td>687</td><td>1092</td><td>172, 148</td><td>188, 175</td><td>0/1</td><td>.     </td><td>PATMAT</td></tr>\n",
       "\t<tr><th scope=row>rs373242130</th><td>0|1</td><td>346</td><td>  99</td><td>59, 79</td><td>59, 79</td><td>0/1</td><td>.     </td><td>PATMAT</td></tr>\n",
       "\t<tr><th scope=row>rs16902364</th><td>0|1</td><td>633</td><td> 785</td><td>156, 139</td><td>180, 157</td><td>0/1</td><td>.     </td><td>PATMAT</td></tr>\n",
       "\t<tr><th scope=row>rs3824120</th><td>0|1</td><td>461</td><td> 668</td><td>105, 94</td><td>128, 121</td><td>0/1</td><td>.     </td><td>PATMAT</td></tr>\n",
       "\t<tr><th scope=row>8:128759740_A/AAAT</th><td>2|1</td><td>366</td><td> 198</td><td>1, 92, 97</td><td>1, 92, 97</td><td>1|2</td><td>.     </td><td>PATMAT</td></tr>\n",
       "\t<tr><th scope=row>8:128759977_A/ATATTTATT</th><td>0|1</td><td>402</td><td> 198</td><td>115, 87</td><td>115, 87</td><td>0/1</td><td>.     </td><td>PATMAT</td></tr>\n",
       "\t<tr><th scope=row>rs6470569</th><td>1|1</td><td>417</td><td> 410</td><td>69, 201</td><td>0, 0</td><td>1/1</td><td>.     </td><td>PATMAT</td></tr>\n",
       "\t<tr><th scope=row>rs4733550</th><td>1|1</td><td>504</td><td> 483</td><td>1, 238</td><td>73, 277</td><td>1/1</td><td>.     </td><td>PATMAT</td></tr>\n",
       "\t<tr><th scope=row>rs6984658</th><td>1|1</td><td>639</td><td> 325</td><td>0, 300</td><td>54, 354</td><td>1/1</td><td>.     </td><td>PATMAT</td></tr>\n",
       "\t<tr><th scope=row>rs6470573</th><td>1|1</td><td>650</td><td> 556</td><td>0, 290</td><td>103, 369</td><td>1/1</td><td>.     </td><td>PATMAT</td></tr>\n",
       "\t<tr><th scope=row>rs6470574</th><td>1|1</td><td>694</td><td> 417</td><td>0, 315</td><td>78, 387</td><td>1/1</td><td>.     </td><td>PATMAT</td></tr>\n",
       "\t<tr><th scope=row>rs6988558</th><td>1|1</td><td>603</td><td> 461</td><td>0, 280</td><td>73, 328</td><td>1/1</td><td>.     </td><td>PATMAT</td></tr>\n",
       "\t<tr><th scope=row>rs3931652</th><td>1|1</td><td>464</td><td> 333</td><td>0, 192</td><td>52, 244</td><td>1/1</td><td>.     </td><td>PATMAT</td></tr>\n",
       "\t<tr><th scope=row>rs144442792</th><td>1|1</td><td>319</td><td> 219</td><td>16, 161</td><td>0, 145</td><td>1|1</td><td>.     </td><td>HOMVAR</td></tr>\n",
       "\t<tr><th scope=row>rs12543377</th><td>1|1</td><td>665</td><td> 308</td><td>0, 311</td><td>41, 352</td><td>1/1</td><td>.     </td><td>PATMAT</td></tr>\n",
       "\t<tr><th scope=row>rs56288936</th><td>1|1</td><td>575</td><td> 207</td><td>0, 283</td><td>0, 280</td><td>1|1</td><td>HOMVAR</td><td>PATMAT</td></tr>\n",
       "\t<tr><th scope=row>⋮</th><td>⋮</td><td>⋮</td><td>⋮</td><td>⋮</td><td>⋮</td><td>⋮</td><td>⋮</td><td>⋮</td></tr>\n",
       "\t<tr><th scope=row>rs752429</th><td>0|1</td><td>613</td><td>1115</td><td>140, 115</td><td>180, 175</td><td>0/1</td><td>.              </td><td>PATMAT         </td></tr>\n",
       "\t<tr><th scope=row>rs4733584</th><td>0|1</td><td>621</td><td>1133</td><td>155, 117</td><td>198, 151</td><td>0/1</td><td>.              </td><td>PATMAT         </td></tr>\n",
       "\t<tr><th scope=row>rs7015112</th><td>0|1</td><td>531</td><td> 903</td><td>113, 110</td><td>167, 139</td><td>0/1</td><td>.              </td><td>PATMAT         </td></tr>\n",
       "\t<tr><th scope=row>rs6981683</th><td>0|1</td><td>408</td><td> 797</td><td>89, 72</td><td>121, 109</td><td>0/1</td><td>.              </td><td>PATMAT         </td></tr>\n",
       "\t<tr><th scope=row>rs6981693</th><td>0|1</td><td>487</td><td> 849</td><td>94, 95</td><td>145, 140</td><td>0/1</td><td>.              </td><td>PATMAT         </td></tr>\n",
       "\t<tr><th scope=row>rs10086182</th><td>0|1</td><td>623</td><td>1140</td><td>138, 137</td><td>181, 166</td><td>0/1</td><td>.              </td><td>PATMAT         </td></tr>\n",
       "\t<tr><th scope=row>rs59889146</th><td>0|1</td><td>545</td><td> 800</td><td>117, 114</td><td>149, 144</td><td>0/1</td><td>.              </td><td>PATMAT         </td></tr>\n",
       "\t<tr><th scope=row>rs6470595</th><td>0|1</td><td>800</td><td>1156</td><td>203, 164</td><td>37, 43</td><td>0/1</td><td>.              </td><td>PATMAT         </td></tr>\n",
       "\t<tr><th scope=row>rs6986528</th><td>0|1</td><td>820</td><td>1015</td><td>183, 184</td><td>238, 220</td><td>0|1</td><td>128987588_T_C  </td><td>PATMAT         </td></tr>\n",
       "\t<tr><th scope=row>rs7004744</th><td>0|1</td><td>845</td><td>1186</td><td>191, 183</td><td>250, 228</td><td>0|1</td><td>128987588_T_C  </td><td>PATMAT         </td></tr>\n",
       "\t<tr><th scope=row>rs993725</th><td>0|1</td><td>526</td><td> 977</td><td>119, 113</td><td>150, 143</td><td>0/1</td><td>.              </td><td>PATMAT         </td></tr>\n",
       "\t<tr><th scope=row>rs4476972</th><td>0|1</td><td>591</td><td> 958</td><td>141, 129</td><td>166, 153</td><td>0/1</td><td>.              </td><td>PATMAT         </td></tr>\n",
       "\t<tr><th scope=row>rs4733809</th><td>0|1</td><td>652</td><td>1043</td><td>151, 147</td><td>177, 176</td><td>0/1</td><td>.              </td><td>PATMAT         </td></tr>\n",
       "\t<tr><th scope=row>rs1834620</th><td>0|1</td><td>688</td><td>1219</td><td>139, 148</td><td>193, 203</td><td>0/1</td><td>.              </td><td>PATMAT         </td></tr>\n",
       "\t<tr><th scope=row>rs10617420</th><td>0|1</td><td>684</td><td> 544</td><td>149, 153</td><td>196, 186</td><td>0/1</td><td>.              </td><td>PATMAT         </td></tr>\n",
       "\t<tr><th scope=row>rs6470596</th><td>1|1</td><td>657</td><td> 438</td><td>0, 320</td><td>54, 346</td><td>1/1</td><td>.              </td><td>PATMAT         </td></tr>\n",
       "\t<tr><th scope=row>rs11343602</th><td>0|1</td><td>542</td><td> 299</td><td>125, 134</td><td>134, 144</td><td>0/1</td><td>.              </td><td>PATMAT         </td></tr>\n",
       "\t<tr><th scope=row>rs11993333</th><td>0|1</td><td>754</td><td>1378</td><td>164, 175</td><td>191, 216</td><td>0/1</td><td>.              </td><td>PATMAT         </td></tr>\n",
       "\t<tr><th scope=row>rs12334659</th><td>0|1</td><td>634</td><td>1084</td><td>135, 146</td><td>166, 182</td><td>0/1</td><td>.              </td><td>PATMAT         </td></tr>\n",
       "\t<tr><th scope=row>rs35546489</th><td>0|1</td><td>439</td><td> 198</td><td>106, 111</td><td>106, 111</td><td>0/1</td><td>.              </td><td>PATMAT         </td></tr>\n",
       "\t<tr><th scope=row>rs4733810</th><td>0|1</td><td>611</td><td> 653</td><td>166, 166</td><td>135, 141</td><td>0/1</td><td>.              </td><td>PATMAT         </td></tr>\n",
       "\t<tr><th scope=row>rs4733585</th><td>0|1</td><td>654</td><td> 691</td><td>182, 172</td><td>151, 146</td><td>0/1</td><td>.              </td><td>PATMAT         </td></tr>\n",
       "\t<tr><th scope=row>rs4733811</th><td>0|1</td><td>692</td><td>1306</td><td>160, 148</td><td>193, 186</td><td>0/1</td><td>.              </td><td>PATMAT         </td></tr>\n",
       "\t<tr><th scope=row>rs4637783</th><td>0|1</td><td>568</td><td> 767</td><td>123, 136</td><td>158, 145</td><td>0/1</td><td>.              </td><td>PATMAT         </td></tr>\n",
       "\t<tr><th scope=row>rs10956400</th><td>0|1</td><td>527</td><td> 962</td><td>116, 119</td><td>146, 139</td><td>0/1</td><td>.              </td><td>PATMAT         </td></tr>\n",
       "\t<tr><th scope=row>rs10808563</th><td>0|1</td><td>487</td><td> 990</td><td>105, 118</td><td>134, 134</td><td>0/1</td><td>.              </td><td>PATMAT         </td></tr>\n",
       "\t<tr><th scope=row>rs71300287</th><td>0/1</td><td> 84</td><td>  99</td><td>45, 39</td><td>45, 39</td><td>0/1</td><td>.              </td><td>.              </td></tr>\n",
       "\t<tr><th scope=row>8:128997155_CTT/C</th><td>0|1</td><td>170</td><td> 198</td><td>88, 82</td><td>88, 82</td><td>0|1</td><td>128997155_CTT_C</td><td>128997155_CTT_C</td></tr>\n",
       "\t<tr><th scope=row>8:128997161_TTCTTTCTCTTTCTC/T</th><td>0|1</td><td>185</td><td> 198</td><td>99, 86</td><td>99, 86</td><td>0|1</td><td>128997155_CTT_C</td><td>128997155_CTT_C</td></tr>\n",
       "\t<tr><th scope=row>rs2392884</th><td>0|1</td><td>628</td><td> 875</td><td>147, 136</td><td>177, 163</td><td>0/1</td><td>.              </td><td>PATMAT         </td></tr>\n",
       "</tbody>\n",
       "</table>\n"
      ],
      "text/latex": [
       "A data.frame: 308 × 8\n",
       "\\begin{tabular}{r|llllllll}\n",
       "  & GT & DP & GQ & ADALL & AD & IGT & IPS & PS\\\\\n",
       "  & <chr> & <int> & <int> & <named list> & <named list> & <chr> & <chr> & <chr>\\\\\n",
       "\\hline\n",
       "\trs6984323 & 1\\textbar{}1 & 765 &  583 & 1, 332 & 0, 315 & 1/1 & .      & PATMAT\\\\\n",
       "\trs4478537 & 0\\textbar{}1 & 544 &  813 & 103, 124 & 135, 172 & 0/1 & .      & PATMAT\\\\\n",
       "\trs34141920 & 0\\textbar{}1 & 523 &  222 & 132, 121 & 132, 121 & 0/1 & .      & PATMAT\\\\\n",
       "\trs17772814 & 1\\textbar{}0 & 695 & 1503 & 143, 158 & 196, 199 & 0/1 & .      & PATMAT\\\\\n",
       "\trs77977256 & 1\\textbar{}0 & 642 &  685 & 154, 157 & 160, 166 & 0/1 & .      & PATMAT\\\\\n",
       "\t8:128715845\\_AT/A & 0\\textbar{}1 & 368 &   99 & 66, 91 & 66, 91 & 0/1 & .      & PATMAT\\\\\n",
       "\trs143209301 & 1\\textbar{}0 & 581 &  595 & 128, 128 & 151, 165 & 0/1 & .      & PATMAT\\\\\n",
       "\trs202231913 & 0\\textbar{}1 & 369 &   99 & 81, 97 & 81, 97 & 0/1 & .      & PATMAT\\\\\n",
       "\trs16902340 & 0\\textbar{}1 & 689 & 1294 & 144, 150 & 184, 204 & 0/1 & .      & PATMAT\\\\\n",
       "\trs7841229 & 0\\textbar{}1 & 635 & 1010 & 180, 172 & 134, 130 & 0/1 & .      & PATMAT\\\\\n",
       "\trs75797214 & 1\\textbar{}1 & 640 &  372 & 0, 296 & 57, 57 & 1/1 & .      & PATMAT\\\\\n",
       "\trs72718535 & 0\\textbar{}1 & 567 &  973 & 123, 114 & 51, 39 & 0/1 & .      & PATMAT\\\\\n",
       "\trs34040552 & 1\\textbar{}0 & 400 &  260 & 75, 100 & 60, 89 & 0/1 & .      & PATMAT\\\\\n",
       "\trs4733548 & 0\\textbar{}1 & 594 &  657 & 147, 126 & 161, 147 & 0/1 & .      & PATMAT\\\\\n",
       "\trs16902359 & 0\\textbar{}1 & 687 & 1092 & 172, 148 & 188, 175 & 0/1 & .      & PATMAT\\\\\n",
       "\trs373242130 & 0\\textbar{}1 & 346 &   99 & 59, 79 & 59, 79 & 0/1 & .      & PATMAT\\\\\n",
       "\trs16902364 & 0\\textbar{}1 & 633 &  785 & 156, 139 & 180, 157 & 0/1 & .      & PATMAT\\\\\n",
       "\trs3824120 & 0\\textbar{}1 & 461 &  668 & 105, 94 & 128, 121 & 0/1 & .      & PATMAT\\\\\n",
       "\t8:128759740\\_A/AAAT & 2\\textbar{}1 & 366 &  198 & 1, 92, 97 & 1, 92, 97 & 1\\textbar{}2 & .      & PATMAT\\\\\n",
       "\t8:128759977\\_A/ATATTTATT & 0\\textbar{}1 & 402 &  198 & 115, 87 & 115, 87 & 0/1 & .      & PATMAT\\\\\n",
       "\trs6470569 & 1\\textbar{}1 & 417 &  410 & 69, 201 & 0, 0 & 1/1 & .      & PATMAT\\\\\n",
       "\trs4733550 & 1\\textbar{}1 & 504 &  483 & 1, 238 & 73, 277 & 1/1 & .      & PATMAT\\\\\n",
       "\trs6984658 & 1\\textbar{}1 & 639 &  325 & 0, 300 & 54, 354 & 1/1 & .      & PATMAT\\\\\n",
       "\trs6470573 & 1\\textbar{}1 & 650 &  556 & 0, 290 & 103, 369 & 1/1 & .      & PATMAT\\\\\n",
       "\trs6470574 & 1\\textbar{}1 & 694 &  417 & 0, 315 & 78, 387 & 1/1 & .      & PATMAT\\\\\n",
       "\trs6988558 & 1\\textbar{}1 & 603 &  461 & 0, 280 & 73, 328 & 1/1 & .      & PATMAT\\\\\n",
       "\trs3931652 & 1\\textbar{}1 & 464 &  333 & 0, 192 & 52, 244 & 1/1 & .      & PATMAT\\\\\n",
       "\trs144442792 & 1\\textbar{}1 & 319 &  219 & 16, 161 & 0, 145 & 1\\textbar{}1 & .      & HOMVAR\\\\\n",
       "\trs12543377 & 1\\textbar{}1 & 665 &  308 & 0, 311 & 41, 352 & 1/1 & .      & PATMAT\\\\\n",
       "\trs56288936 & 1\\textbar{}1 & 575 &  207 & 0, 283 & 0, 280 & 1\\textbar{}1 & HOMVAR & PATMAT\\\\\n",
       "\t⋮ & ⋮ & ⋮ & ⋮ & ⋮ & ⋮ & ⋮ & ⋮ & ⋮\\\\\n",
       "\trs752429 & 0\\textbar{}1 & 613 & 1115 & 140, 115 & 180, 175 & 0/1 & .               & PATMAT         \\\\\n",
       "\trs4733584 & 0\\textbar{}1 & 621 & 1133 & 155, 117 & 198, 151 & 0/1 & .               & PATMAT         \\\\\n",
       "\trs7015112 & 0\\textbar{}1 & 531 &  903 & 113, 110 & 167, 139 & 0/1 & .               & PATMAT         \\\\\n",
       "\trs6981683 & 0\\textbar{}1 & 408 &  797 & 89, 72 & 121, 109 & 0/1 & .               & PATMAT         \\\\\n",
       "\trs6981693 & 0\\textbar{}1 & 487 &  849 & 94, 95 & 145, 140 & 0/1 & .               & PATMAT         \\\\\n",
       "\trs10086182 & 0\\textbar{}1 & 623 & 1140 & 138, 137 & 181, 166 & 0/1 & .               & PATMAT         \\\\\n",
       "\trs59889146 & 0\\textbar{}1 & 545 &  800 & 117, 114 & 149, 144 & 0/1 & .               & PATMAT         \\\\\n",
       "\trs6470595 & 0\\textbar{}1 & 800 & 1156 & 203, 164 & 37, 43 & 0/1 & .               & PATMAT         \\\\\n",
       "\trs6986528 & 0\\textbar{}1 & 820 & 1015 & 183, 184 & 238, 220 & 0\\textbar{}1 & 128987588\\_T\\_C   & PATMAT         \\\\\n",
       "\trs7004744 & 0\\textbar{}1 & 845 & 1186 & 191, 183 & 250, 228 & 0\\textbar{}1 & 128987588\\_T\\_C   & PATMAT         \\\\\n",
       "\trs993725 & 0\\textbar{}1 & 526 &  977 & 119, 113 & 150, 143 & 0/1 & .               & PATMAT         \\\\\n",
       "\trs4476972 & 0\\textbar{}1 & 591 &  958 & 141, 129 & 166, 153 & 0/1 & .               & PATMAT         \\\\\n",
       "\trs4733809 & 0\\textbar{}1 & 652 & 1043 & 151, 147 & 177, 176 & 0/1 & .               & PATMAT         \\\\\n",
       "\trs1834620 & 0\\textbar{}1 & 688 & 1219 & 139, 148 & 193, 203 & 0/1 & .               & PATMAT         \\\\\n",
       "\trs10617420 & 0\\textbar{}1 & 684 &  544 & 149, 153 & 196, 186 & 0/1 & .               & PATMAT         \\\\\n",
       "\trs6470596 & 1\\textbar{}1 & 657 &  438 & 0, 320 & 54, 346 & 1/1 & .               & PATMAT         \\\\\n",
       "\trs11343602 & 0\\textbar{}1 & 542 &  299 & 125, 134 & 134, 144 & 0/1 & .               & PATMAT         \\\\\n",
       "\trs11993333 & 0\\textbar{}1 & 754 & 1378 & 164, 175 & 191, 216 & 0/1 & .               & PATMAT         \\\\\n",
       "\trs12334659 & 0\\textbar{}1 & 634 & 1084 & 135, 146 & 166, 182 & 0/1 & .               & PATMAT         \\\\\n",
       "\trs35546489 & 0\\textbar{}1 & 439 &  198 & 106, 111 & 106, 111 & 0/1 & .               & PATMAT         \\\\\n",
       "\trs4733810 & 0\\textbar{}1 & 611 &  653 & 166, 166 & 135, 141 & 0/1 & .               & PATMAT         \\\\\n",
       "\trs4733585 & 0\\textbar{}1 & 654 &  691 & 182, 172 & 151, 146 & 0/1 & .               & PATMAT         \\\\\n",
       "\trs4733811 & 0\\textbar{}1 & 692 & 1306 & 160, 148 & 193, 186 & 0/1 & .               & PATMAT         \\\\\n",
       "\trs4637783 & 0\\textbar{}1 & 568 &  767 & 123, 136 & 158, 145 & 0/1 & .               & PATMAT         \\\\\n",
       "\trs10956400 & 0\\textbar{}1 & 527 &  962 & 116, 119 & 146, 139 & 0/1 & .               & PATMAT         \\\\\n",
       "\trs10808563 & 0\\textbar{}1 & 487 &  990 & 105, 118 & 134, 134 & 0/1 & .               & PATMAT         \\\\\n",
       "\trs71300287 & 0/1 &  84 &   99 & 45, 39 & 45, 39 & 0/1 & .               & .              \\\\\n",
       "\t8:128997155\\_CTT/C & 0\\textbar{}1 & 170 &  198 & 88, 82 & 88, 82 & 0\\textbar{}1 & 128997155\\_CTT\\_C & 128997155\\_CTT\\_C\\\\\n",
       "\t8:128997161\\_TTCTTTCTCTTTCTC/T & 0\\textbar{}1 & 185 &  198 & 99, 86 & 99, 86 & 0\\textbar{}1 & 128997155\\_CTT\\_C & 128997155\\_CTT\\_C\\\\\n",
       "\trs2392884 & 0\\textbar{}1 & 628 &  875 & 147, 136 & 177, 163 & 0/1 & .               & PATMAT         \\\\\n",
       "\\end{tabular}\n"
      ],
      "text/markdown": [
       "\n",
       "A data.frame: 308 × 8\n",
       "\n",
       "| <!--/--> | GT &lt;chr&gt; | DP &lt;int&gt; | GQ &lt;int&gt; | ADALL &lt;named list&gt; | AD &lt;named list&gt; | IGT &lt;chr&gt; | IPS &lt;chr&gt; | PS &lt;chr&gt; |\n",
       "|---|---|---|---|---|---|---|---|---|\n",
       "| rs6984323 | 1|1 | 765 |  583 | 1, 332 | 0, 315 | 1/1 | .      | PATMAT |\n",
       "| rs4478537 | 0|1 | 544 |  813 | 103, 124 | 135, 172 | 0/1 | .      | PATMAT |\n",
       "| rs34141920 | 0|1 | 523 |  222 | 132, 121 | 132, 121 | 0/1 | .      | PATMAT |\n",
       "| rs17772814 | 1|0 | 695 | 1503 | 143, 158 | 196, 199 | 0/1 | .      | PATMAT |\n",
       "| rs77977256 | 1|0 | 642 |  685 | 154, 157 | 160, 166 | 0/1 | .      | PATMAT |\n",
       "| 8:128715845_AT/A | 0|1 | 368 |   99 | 66, 91 | 66, 91 | 0/1 | .      | PATMAT |\n",
       "| rs143209301 | 1|0 | 581 |  595 | 128, 128 | 151, 165 | 0/1 | .      | PATMAT |\n",
       "| rs202231913 | 0|1 | 369 |   99 | 81, 97 | 81, 97 | 0/1 | .      | PATMAT |\n",
       "| rs16902340 | 0|1 | 689 | 1294 | 144, 150 | 184, 204 | 0/1 | .      | PATMAT |\n",
       "| rs7841229 | 0|1 | 635 | 1010 | 180, 172 | 134, 130 | 0/1 | .      | PATMAT |\n",
       "| rs75797214 | 1|1 | 640 |  372 | 0, 296 | 57, 57 | 1/1 | .      | PATMAT |\n",
       "| rs72718535 | 0|1 | 567 |  973 | 123, 114 | 51, 39 | 0/1 | .      | PATMAT |\n",
       "| rs34040552 | 1|0 | 400 |  260 | 75, 100 | 60, 89 | 0/1 | .      | PATMAT |\n",
       "| rs4733548 | 0|1 | 594 |  657 | 147, 126 | 161, 147 | 0/1 | .      | PATMAT |\n",
       "| rs16902359 | 0|1 | 687 | 1092 | 172, 148 | 188, 175 | 0/1 | .      | PATMAT |\n",
       "| rs373242130 | 0|1 | 346 |   99 | 59, 79 | 59, 79 | 0/1 | .      | PATMAT |\n",
       "| rs16902364 | 0|1 | 633 |  785 | 156, 139 | 180, 157 | 0/1 | .      | PATMAT |\n",
       "| rs3824120 | 0|1 | 461 |  668 | 105, 94 | 128, 121 | 0/1 | .      | PATMAT |\n",
       "| 8:128759740_A/AAAT | 2|1 | 366 |  198 | 1, 92, 97 | 1, 92, 97 | 1|2 | .      | PATMAT |\n",
       "| 8:128759977_A/ATATTTATT | 0|1 | 402 |  198 | 115, 87 | 115, 87 | 0/1 | .      | PATMAT |\n",
       "| rs6470569 | 1|1 | 417 |  410 | 69, 201 | 0, 0 | 1/1 | .      | PATMAT |\n",
       "| rs4733550 | 1|1 | 504 |  483 | 1, 238 | 73, 277 | 1/1 | .      | PATMAT |\n",
       "| rs6984658 | 1|1 | 639 |  325 | 0, 300 | 54, 354 | 1/1 | .      | PATMAT |\n",
       "| rs6470573 | 1|1 | 650 |  556 | 0, 290 | 103, 369 | 1/1 | .      | PATMAT |\n",
       "| rs6470574 | 1|1 | 694 |  417 | 0, 315 | 78, 387 | 1/1 | .      | PATMAT |\n",
       "| rs6988558 | 1|1 | 603 |  461 | 0, 280 | 73, 328 | 1/1 | .      | PATMAT |\n",
       "| rs3931652 | 1|1 | 464 |  333 | 0, 192 | 52, 244 | 1/1 | .      | PATMAT |\n",
       "| rs144442792 | 1|1 | 319 |  219 | 16, 161 | 0, 145 | 1|1 | .      | HOMVAR |\n",
       "| rs12543377 | 1|1 | 665 |  308 | 0, 311 | 41, 352 | 1/1 | .      | PATMAT |\n",
       "| rs56288936 | 1|1 | 575 |  207 | 0, 283 | 0, 280 | 1|1 | HOMVAR | PATMAT |\n",
       "| ⋮ | ⋮ | ⋮ | ⋮ | ⋮ | ⋮ | ⋮ | ⋮ | ⋮ |\n",
       "| rs752429 | 0|1 | 613 | 1115 | 140, 115 | 180, 175 | 0/1 | .               | PATMAT          |\n",
       "| rs4733584 | 0|1 | 621 | 1133 | 155, 117 | 198, 151 | 0/1 | .               | PATMAT          |\n",
       "| rs7015112 | 0|1 | 531 |  903 | 113, 110 | 167, 139 | 0/1 | .               | PATMAT          |\n",
       "| rs6981683 | 0|1 | 408 |  797 | 89, 72 | 121, 109 | 0/1 | .               | PATMAT          |\n",
       "| rs6981693 | 0|1 | 487 |  849 | 94, 95 | 145, 140 | 0/1 | .               | PATMAT          |\n",
       "| rs10086182 | 0|1 | 623 | 1140 | 138, 137 | 181, 166 | 0/1 | .               | PATMAT          |\n",
       "| rs59889146 | 0|1 | 545 |  800 | 117, 114 | 149, 144 | 0/1 | .               | PATMAT          |\n",
       "| rs6470595 | 0|1 | 800 | 1156 | 203, 164 | 37, 43 | 0/1 | .               | PATMAT          |\n",
       "| rs6986528 | 0|1 | 820 | 1015 | 183, 184 | 238, 220 | 0|1 | 128987588_T_C   | PATMAT          |\n",
       "| rs7004744 | 0|1 | 845 | 1186 | 191, 183 | 250, 228 | 0|1 | 128987588_T_C   | PATMAT          |\n",
       "| rs993725 | 0|1 | 526 |  977 | 119, 113 | 150, 143 | 0/1 | .               | PATMAT          |\n",
       "| rs4476972 | 0|1 | 591 |  958 | 141, 129 | 166, 153 | 0/1 | .               | PATMAT          |\n",
       "| rs4733809 | 0|1 | 652 | 1043 | 151, 147 | 177, 176 | 0/1 | .               | PATMAT          |\n",
       "| rs1834620 | 0|1 | 688 | 1219 | 139, 148 | 193, 203 | 0/1 | .               | PATMAT          |\n",
       "| rs10617420 | 0|1 | 684 |  544 | 149, 153 | 196, 186 | 0/1 | .               | PATMAT          |\n",
       "| rs6470596 | 1|1 | 657 |  438 | 0, 320 | 54, 346 | 1/1 | .               | PATMAT          |\n",
       "| rs11343602 | 0|1 | 542 |  299 | 125, 134 | 134, 144 | 0/1 | .               | PATMAT          |\n",
       "| rs11993333 | 0|1 | 754 | 1378 | 164, 175 | 191, 216 | 0/1 | .               | PATMAT          |\n",
       "| rs12334659 | 0|1 | 634 | 1084 | 135, 146 | 166, 182 | 0/1 | .               | PATMAT          |\n",
       "| rs35546489 | 0|1 | 439 |  198 | 106, 111 | 106, 111 | 0/1 | .               | PATMAT          |\n",
       "| rs4733810 | 0|1 | 611 |  653 | 166, 166 | 135, 141 | 0/1 | .               | PATMAT          |\n",
       "| rs4733585 | 0|1 | 654 |  691 | 182, 172 | 151, 146 | 0/1 | .               | PATMAT          |\n",
       "| rs4733811 | 0|1 | 692 | 1306 | 160, 148 | 193, 186 | 0/1 | .               | PATMAT          |\n",
       "| rs4637783 | 0|1 | 568 |  767 | 123, 136 | 158, 145 | 0/1 | .               | PATMAT          |\n",
       "| rs10956400 | 0|1 | 527 |  962 | 116, 119 | 146, 139 | 0/1 | .               | PATMAT          |\n",
       "| rs10808563 | 0|1 | 487 |  990 | 105, 118 | 134, 134 | 0/1 | .               | PATMAT          |\n",
       "| rs71300287 | 0/1 |  84 |   99 | 45, 39 | 45, 39 | 0/1 | .               | .               |\n",
       "| 8:128997155_CTT/C | 0|1 | 170 |  198 | 88, 82 | 88, 82 | 0|1 | 128997155_CTT_C | 128997155_CTT_C |\n",
       "| 8:128997161_TTCTTTCTCTTTCTC/T | 0|1 | 185 |  198 | 99, 86 | 99, 86 | 0|1 | 128997155_CTT_C | 128997155_CTT_C |\n",
       "| rs2392884 | 0|1 | 628 |  875 | 147, 136 | 177, 163 | 0/1 | .               | PATMAT          |\n",
       "\n"
      ],
      "text/plain": [
       "                              GT  DP  GQ   ADALL     AD        IGT\n",
       "rs6984323                     1|1 765  583 1, 332    0, 315    1/1\n",
       "rs4478537                     0|1 544  813 103, 124  135, 172  0/1\n",
       "rs34141920                    0|1 523  222 132, 121  132, 121  0/1\n",
       "rs17772814                    1|0 695 1503 143, 158  196, 199  0/1\n",
       "rs77977256                    1|0 642  685 154, 157  160, 166  0/1\n",
       "8:128715845_AT/A              0|1 368   99 66, 91    66, 91    0/1\n",
       "rs143209301                   1|0 581  595 128, 128  151, 165  0/1\n",
       "rs202231913                   0|1 369   99 81, 97    81, 97    0/1\n",
       "rs16902340                    0|1 689 1294 144, 150  184, 204  0/1\n",
       "rs7841229                     0|1 635 1010 180, 172  134, 130  0/1\n",
       "rs75797214                    1|1 640  372 0, 296    57, 57    1/1\n",
       "rs72718535                    0|1 567  973 123, 114  51, 39    0/1\n",
       "rs34040552                    1|0 400  260 75, 100   60, 89    0/1\n",
       "rs4733548                     0|1 594  657 147, 126  161, 147  0/1\n",
       "rs16902359                    0|1 687 1092 172, 148  188, 175  0/1\n",
       "rs373242130                   0|1 346   99 59, 79    59, 79    0/1\n",
       "rs16902364                    0|1 633  785 156, 139  180, 157  0/1\n",
       "rs3824120                     0|1 461  668 105, 94   128, 121  0/1\n",
       "8:128759740_A/AAAT            2|1 366  198 1, 92, 97 1, 92, 97 1|2\n",
       "8:128759977_A/ATATTTATT       0|1 402  198 115, 87   115, 87   0/1\n",
       "rs6470569                     1|1 417  410 69, 201   0, 0      1/1\n",
       "rs4733550                     1|1 504  483 1, 238    73, 277   1/1\n",
       "rs6984658                     1|1 639  325 0, 300    54, 354   1/1\n",
       "rs6470573                     1|1 650  556 0, 290    103, 369  1/1\n",
       "rs6470574                     1|1 694  417 0, 315    78, 387   1/1\n",
       "rs6988558                     1|1 603  461 0, 280    73, 328   1/1\n",
       "rs3931652                     1|1 464  333 0, 192    52, 244   1/1\n",
       "rs144442792                   1|1 319  219 16, 161   0, 145    1|1\n",
       "rs12543377                    1|1 665  308 0, 311    41, 352   1/1\n",
       "rs56288936                    1|1 575  207 0, 283    0, 280    1|1\n",
       "⋮                             ⋮   ⋮   ⋮    ⋮         ⋮         ⋮  \n",
       "rs752429                      0|1 613 1115 140, 115  180, 175  0/1\n",
       "rs4733584                     0|1 621 1133 155, 117  198, 151  0/1\n",
       "rs7015112                     0|1 531  903 113, 110  167, 139  0/1\n",
       "rs6981683                     0|1 408  797 89, 72    121, 109  0/1\n",
       "rs6981693                     0|1 487  849 94, 95    145, 140  0/1\n",
       "rs10086182                    0|1 623 1140 138, 137  181, 166  0/1\n",
       "rs59889146                    0|1 545  800 117, 114  149, 144  0/1\n",
       "rs6470595                     0|1 800 1156 203, 164  37, 43    0/1\n",
       "rs6986528                     0|1 820 1015 183, 184  238, 220  0|1\n",
       "rs7004744                     0|1 845 1186 191, 183  250, 228  0|1\n",
       "rs993725                      0|1 526  977 119, 113  150, 143  0/1\n",
       "rs4476972                     0|1 591  958 141, 129  166, 153  0/1\n",
       "rs4733809                     0|1 652 1043 151, 147  177, 176  0/1\n",
       "rs1834620                     0|1 688 1219 139, 148  193, 203  0/1\n",
       "rs10617420                    0|1 684  544 149, 153  196, 186  0/1\n",
       "rs6470596                     1|1 657  438 0, 320    54, 346   1/1\n",
       "rs11343602                    0|1 542  299 125, 134  134, 144  0/1\n",
       "rs11993333                    0|1 754 1378 164, 175  191, 216  0/1\n",
       "rs12334659                    0|1 634 1084 135, 146  166, 182  0/1\n",
       "rs35546489                    0|1 439  198 106, 111  106, 111  0/1\n",
       "rs4733810                     0|1 611  653 166, 166  135, 141  0/1\n",
       "rs4733585                     0|1 654  691 182, 172  151, 146  0/1\n",
       "rs4733811                     0|1 692 1306 160, 148  193, 186  0/1\n",
       "rs4637783                     0|1 568  767 123, 136  158, 145  0/1\n",
       "rs10956400                    0|1 527  962 116, 119  146, 139  0/1\n",
       "rs10808563                    0|1 487  990 105, 118  134, 134  0/1\n",
       "rs71300287                    0/1  84   99 45, 39    45, 39    0/1\n",
       "8:128997155_CTT/C             0|1 170  198 88, 82    88, 82    0|1\n",
       "8:128997161_TTCTTTCTCTTTCTC/T 0|1 185  198 99, 86    99, 86    0|1\n",
       "rs2392884                     0|1 628  875 147, 136  177, 163  0/1\n",
       "                              IPS             PS             \n",
       "rs6984323                     .               PATMAT         \n",
       "rs4478537                     .               PATMAT         \n",
       "rs34141920                    .               PATMAT         \n",
       "rs17772814                    .               PATMAT         \n",
       "rs77977256                    .               PATMAT         \n",
       "8:128715845_AT/A              .               PATMAT         \n",
       "rs143209301                   .               PATMAT         \n",
       "rs202231913                   .               PATMAT         \n",
       "rs16902340                    .               PATMAT         \n",
       "rs7841229                     .               PATMAT         \n",
       "rs75797214                    .               PATMAT         \n",
       "rs72718535                    .               PATMAT         \n",
       "rs34040552                    .               PATMAT         \n",
       "rs4733548                     .               PATMAT         \n",
       "rs16902359                    .               PATMAT         \n",
       "rs373242130                   .               PATMAT         \n",
       "rs16902364                    .               PATMAT         \n",
       "rs3824120                     .               PATMAT         \n",
       "8:128759740_A/AAAT            .               PATMAT         \n",
       "8:128759977_A/ATATTTATT       .               PATMAT         \n",
       "rs6470569                     .               PATMAT         \n",
       "rs4733550                     .               PATMAT         \n",
       "rs6984658                     .               PATMAT         \n",
       "rs6470573                     .               PATMAT         \n",
       "rs6470574                     .               PATMAT         \n",
       "rs6988558                     .               PATMAT         \n",
       "rs3931652                     .               PATMAT         \n",
       "rs144442792                   .               HOMVAR         \n",
       "rs12543377                    .               PATMAT         \n",
       "rs56288936                    HOMVAR          PATMAT         \n",
       "⋮                             ⋮               ⋮              \n",
       "rs752429                      .               PATMAT         \n",
       "rs4733584                     .               PATMAT         \n",
       "rs7015112                     .               PATMAT         \n",
       "rs6981683                     .               PATMAT         \n",
       "rs6981693                     .               PATMAT         \n",
       "rs10086182                    .               PATMAT         \n",
       "rs59889146                    .               PATMAT         \n",
       "rs6470595                     .               PATMAT         \n",
       "rs6986528                     128987588_T_C   PATMAT         \n",
       "rs7004744                     128987588_T_C   PATMAT         \n",
       "rs993725                      .               PATMAT         \n",
       "rs4476972                     .               PATMAT         \n",
       "rs4733809                     .               PATMAT         \n",
       "rs1834620                     .               PATMAT         \n",
       "rs10617420                    .               PATMAT         \n",
       "rs6470596                     .               PATMAT         \n",
       "rs11343602                    .               PATMAT         \n",
       "rs11993333                    .               PATMAT         \n",
       "rs12334659                    .               PATMAT         \n",
       "rs35546489                    .               PATMAT         \n",
       "rs4733810                     .               PATMAT         \n",
       "rs4733585                     .               PATMAT         \n",
       "rs4733811                     .               PATMAT         \n",
       "rs4637783                     .               PATMAT         \n",
       "rs10956400                    .               PATMAT         \n",
       "rs10808563                    .               PATMAT         \n",
       "rs71300287                    .               .              \n",
       "8:128997155_CTT/C             128997155_CTT_C 128997155_CTT_C\n",
       "8:128997161_TTCTTTCTCTTTCTC/T 128997155_CTT_C 128997155_CTT_C\n",
       "rs2392884                     .               PATMAT         "
      ]
     },
     "metadata": {},
     "output_type": "display_data"
    }
   ],
   "source": [
    "genoData <- bind_cols(lapply(geno(vcf), as.data.frame))\n",
    "colnames(genoData) <- rownames(geno(header(vcf)))\n",
    "genoData"
   ]
  },
  {
   "cell_type": "markdown",
   "id": "866dc73a-e254-4605-9d8c-750fdafba481",
   "metadata": {},
   "source": [
    "### c. Retrieve the following information at chr8:128747953. (8 points)\n",
    "Print out the SNP ID (i.e. \"rs ID\"), reference base (`REF`), alterate base (`ALT`), genotype (`GT`), depth (`DP`), allele depth (`ADALL`), phase set (`PS`).\n",
    "\n",
    "Hints: \n",
    "\n",
    "  i. `REF` and `ALT` are in the output of `rowRanges(vcf)`. See Section `3a` in `Lecture16_VariantCalls.ipynb` \n",
    "  ii. To get the sequence of `DNAString`, use `as.character(x)`.  \n",
    "  ii. To get the sequence of `DNAStringSet`, use `as.character(unlist(x))`. \n",
    "  iii. To expand a list of information for `geno`, use `unlist(x)`.  \n",
    "\n",
    "  "
   ]
  },
  {
   "cell_type": "code",
   "execution_count": 169,
   "id": "fa8d8ad6-7d4b-43f2-a3ae-25a86be3d243",
   "metadata": {
    "vscode": {
     "languageId": "r"
    }
   },
   "outputs": [
    {
     "data": {
      "text/html": [
       "<table class=\"dataframe\">\n",
       "<caption>A data.frame: 1 × 6</caption>\n",
       "<thead>\n",
       "\t<tr><th></th><th scope=col>REF</th><th scope=col>ALT</th><th scope=col>GT</th><th scope=col>DP</th><th scope=col>ADALL</th><th scope=col>PS</th></tr>\n",
       "\t<tr><th></th><th scope=col>&lt;chr&gt;</th><th scope=col>&lt;I&lt;list&gt;&gt;</th><th scope=col>&lt;chr&gt;</th><th scope=col>&lt;int&gt;</th><th scope=col>&lt;named list&gt;</th><th scope=col>&lt;chr&gt;</th></tr>\n",
       "</thead>\n",
       "<tbody>\n",
       "\t<tr><th scope=row>rs3824120</th><td>G</td><td>T</td><td>0|1</td><td>461</td><td>105, 94</td><td>PATMAT</td></tr>\n",
       "</tbody>\n",
       "</table>\n"
      ],
      "text/latex": [
       "A data.frame: 1 × 6\n",
       "\\begin{tabular}{r|llllll}\n",
       "  & REF & ALT & GT & DP & ADALL & PS\\\\\n",
       "  & <chr> & <I<list>> & <chr> & <int> & <named list> & <chr>\\\\\n",
       "\\hline\n",
       "\trs3824120 & G & T & 0\\textbar{}1 & 461 & 105, 94 & PATMAT\\\\\n",
       "\\end{tabular}\n"
      ],
      "text/markdown": [
       "\n",
       "A data.frame: 1 × 6\n",
       "\n",
       "| <!--/--> | REF &lt;chr&gt; | ALT &lt;I&lt;list&gt;&gt; | GT &lt;chr&gt; | DP &lt;int&gt; | ADALL &lt;named list&gt; | PS &lt;chr&gt; |\n",
       "|---|---|---|---|---|---|---|\n",
       "| rs3824120 | G | T | 0|1 | 461 | 105, 94 | PATMAT |\n",
       "\n"
      ],
      "text/plain": [
       "          REF ALT GT  DP  ADALL   PS    \n",
       "rs3824120 G   T   0|1 461 105, 94 PATMAT"
      ]
     },
     "metadata": {},
     "output_type": "display_data"
    }
   ],
   "source": [
    "variant_data <- as.data.frame(rowRanges(vcf))\n",
    "match <- which(variant_data$start == 128747953)\n",
    "variant_data_match <- df[match,]\n",
    "\n",
    "genoData <- as.data.frame(genoData)\n",
    "genoData_match <- genoData[match,]\n",
    "\n",
    "combined_data <- bind_cols(variant_data_match, genoData_match)\n",
    "answer <- combined_data[, -c(1,2,3,4,5,6,9,10,13,15,16,17)]\n",
    "answer"
   ]
  }
 ],
 "metadata": {
  "kernelspec": {
   "display_name": "R",
   "language": "R",
   "name": "ir"
  },
  "language_info": {
   "codemirror_mode": "r",
   "file_extension": ".r",
   "mimetype": "text/x-r-source",
   "name": "R",
   "pygments_lexer": "r",
   "version": "4.1.3"
  }
 },
 "nbformat": 4,
 "nbformat_minor": 5
}
